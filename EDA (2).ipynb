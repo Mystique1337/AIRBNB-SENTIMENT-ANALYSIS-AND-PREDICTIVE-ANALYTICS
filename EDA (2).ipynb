{
 "cells": [
  {
   "cell_type": "markdown",
   "metadata": {
    "id": "Lg58LX-yn90I"
   },
   "source": [
    "# ANALYSING NEGATIVE REVIEWS ON AIRBNB LISTING USING SENTIMENT ANALYSIS\n",
    "\n",
    "## Table of Contents\n",
    "<ul>\n",
    "<li><a href=\"#intro\">Introduction</a></li>\n",
    "<li><a href=\"#eda\">Exploratory Data Analysis</a></li>\n",
    "<li><a href=\"#conclusions\">Conclusions</a></li>\n",
    "</ul>"
   ]
  },
  {
   "cell_type": "markdown",
   "metadata": {
    "id": "pVk5YoJNoJaG"
   },
   "source": [
    "<a id='intro'></a>\n",
    "## Section I: Introduction"
   ]
  },
  {
   "cell_type": "markdown",
   "metadata": {
    "id": "ZI9-KoOFoLnm"
   },
   "source": [
    "**Datasets**:\n",
    "\n",
    "[Air-bnb-reviews-top 50 cities](https://drive.google.com/file/d/14-NIljR74Imltim1NRicvAG3QylzaiQa/view?usp=drivesdk)\n",
    "\n",
    "**Description**: This dataset collects information about various reviews by different users of airbnb in the top 50 cites in the US with every detail associated with the data\n",
    "\n",
    "[Air-bnb-users-top 50 cities](https://drive.google.com/file/d/1e5JpzUd5TkFhddqgy2IYMl0a6MkCZfkX/view?usp=drivesdk)\n",
    "\n",
    "**Description**: This dataset collects information about users across the top 50 users of Air BnB int the US.\n",
    "\n",
    "[Air-bnb-listings-top 50 cities](https://drive.google.com/file/d/1yN7p3TLJM4ws-xUcfh8H6F46Au9O7nfB/view?usp=drivesdk)\n",
    "\n",
    "**Description**: This dataset collects information about various listings of Airbnb\n",
    "\n",
    "[Data Dictionary](https://docs.google.com/spreadsheets/d/1iWCNJcSutYqpULSQHlNyGInUvHg2BoUGoNRIGa6Szc4/edit?usp=sharing)\n",
    "\n",
    "The Data dictionary describes all the features in the data set.\n",
    "\n",
    "Data Wrangling and preprocessing, Sentiment Analysis and Predictive Analysis was done in this [notebook]('www.xxx.xxx') and the dataset containing just the negative reviews and users was selected for this analysis\n",
    "\n"
   ]
  },
  {
   "cell_type": "markdown",
   "metadata": {
    "id": "xshY-YIOoaS2"
   },
   "source": [
    "***We will be investigating the dataset to uncover the following:***\n",
    "Who are those giving negative reviews on Airbnb?\n",
    "RESEARCH QUESTIONS\n",
    "\n",
    "1. Are they newcomers or established users?\n",
    "\n",
    "2. Are they experienced or inexperienced users?\n",
    "\n",
    "3. Which age/gender/ethnicity?\n",
    "\n",
    "4. What's the trend over time?\n",
    "\n",
    "5. What is the distribution of the location? Are they the same in Western and non-Western countries (Are they the same within the USA).\n",
    "**Research Areas**\n",
    "1. `Target Variable(Sentiment_negative)`: studying the trends in the absent study overall proportions to help in the analysis with other variables\n",
    "2. `Univariate Analysis`: Studying each variable to uncover patterns and how they relate with the target variable. How does `Age`, `Gender`, `Race` and `location` and other variables influence the reviews.\n",
    "3. `Multivariate Analysis`: Studying how the variables relate with one another and how they can help in predicting the target variable. How do the variables affect each other(Correlation) and affects the target variable.\n",
    "\n",
    "**LIMITATIONS**\n",
    "\n",
    "1. The dataset is very large, a random sample was selected to manage computation resources.\n",
    "\n",
    "2. The data was not totally consistent, some unusual forms of data and irregularities were found which could have affected the analysis because it was dropped.\n",
    "\n",
    "3. Most of the columns are categorical, hence the use of Bar charts and Pie charts, Only Age was quantitative and could be visualised with appropraite means.\n",
    "\n",
    "4. The Location Data should have included the gographical coordinates for better analysis as to how a location can affect the choice of the patient.\n",
    "\n",
    "5. The dataset is incomplete as a machine learning model was used to predict the demography of the users\n"
   ]
  },
  {
   "cell_type": "markdown",
   "metadata": {
    "id": "FmqB_GEMoadO"
   },
   "source": [
    "<a id='eda'></a>\n",
    "## Section II: Exploratory Data Analysis"
   ]
  },
  {
   "cell_type": "code",
   "execution_count": null,
   "metadata": {
    "id": "4oUkR_tkLtet"
   },
   "outputs": [],
   "source": [
    "#import required libraries\n",
    "import pandas as pd\n",
    "import numpy as np\n",
    "import matplotlib.pyplot as plt\n",
    "import seaborn as sns\n",
    "import plotly.express as px\n",
    "%matplotlib inline"
   ]
  },
  {
   "cell_type": "code",
   "execution_count": null,
   "metadata": {
    "colab": {
     "base_uri": "https://localhost:8080/",
     "height": 328
    },
    "id": "a0HISs70rWuu",
    "outputId": "8815c166-1408-436d-a7f4-af11b5696bad"
   },
   "outputs": [
    {
     "ename": "FileNotFoundError",
     "evalue": "ignored",
     "output_type": "error",
     "traceback": [
      "\u001b[0;31m---------------------------------------------------------------------------\u001b[0m",
      "\u001b[0;31mFileNotFoundError\u001b[0m                         Traceback (most recent call last)",
      "\u001b[0;32m<ipython-input-2-b4e01d5f42b8>\u001b[0m in \u001b[0;36m<module>\u001b[0;34m\u001b[0m\n\u001b[1;32m      1\u001b[0m \u001b[0;31m# loading the data into a data frame\u001b[0m\u001b[0;34m\u001b[0m\u001b[0;34m\u001b[0m\u001b[0;34m\u001b[0m\u001b[0m\n\u001b[0;32m----> 2\u001b[0;31m \u001b[0mdf\u001b[0m \u001b[0;34m=\u001b[0m \u001b[0mpd\u001b[0m\u001b[0;34m.\u001b[0m\u001b[0mread_csv\u001b[0m\u001b[0;34m(\u001b[0m\u001b[0;34m'/content/sample_data/data_predicted_ml.csv'\u001b[0m\u001b[0;34m)\u001b[0m\u001b[0;34m\u001b[0m\u001b[0;34m\u001b[0m\u001b[0m\n\u001b[0m",
      "\u001b[0;32m/usr/local/lib/python3.7/dist-packages/pandas/util/_decorators.py\u001b[0m in \u001b[0;36mwrapper\u001b[0;34m(*args, **kwargs)\u001b[0m\n\u001b[1;32m    309\u001b[0m                     \u001b[0mstacklevel\u001b[0m\u001b[0;34m=\u001b[0m\u001b[0mstacklevel\u001b[0m\u001b[0;34m,\u001b[0m\u001b[0;34m\u001b[0m\u001b[0;34m\u001b[0m\u001b[0m\n\u001b[1;32m    310\u001b[0m                 )\n\u001b[0;32m--> 311\u001b[0;31m             \u001b[0;32mreturn\u001b[0m \u001b[0mfunc\u001b[0m\u001b[0;34m(\u001b[0m\u001b[0;34m*\u001b[0m\u001b[0margs\u001b[0m\u001b[0;34m,\u001b[0m \u001b[0;34m**\u001b[0m\u001b[0mkwargs\u001b[0m\u001b[0;34m)\u001b[0m\u001b[0;34m\u001b[0m\u001b[0;34m\u001b[0m\u001b[0m\n\u001b[0m\u001b[1;32m    312\u001b[0m \u001b[0;34m\u001b[0m\u001b[0m\n\u001b[1;32m    313\u001b[0m         \u001b[0;32mreturn\u001b[0m \u001b[0mwrapper\u001b[0m\u001b[0;34m\u001b[0m\u001b[0;34m\u001b[0m\u001b[0m\n",
      "\u001b[0;32m/usr/local/lib/python3.7/dist-packages/pandas/io/parsers/readers.py\u001b[0m in \u001b[0;36mread_csv\u001b[0;34m(filepath_or_buffer, sep, delimiter, header, names, index_col, usecols, squeeze, prefix, mangle_dupe_cols, dtype, engine, converters, true_values, false_values, skipinitialspace, skiprows, skipfooter, nrows, na_values, keep_default_na, na_filter, verbose, skip_blank_lines, parse_dates, infer_datetime_format, keep_date_col, date_parser, dayfirst, cache_dates, iterator, chunksize, compression, thousands, decimal, lineterminator, quotechar, quoting, doublequote, escapechar, comment, encoding, encoding_errors, dialect, error_bad_lines, warn_bad_lines, on_bad_lines, delim_whitespace, low_memory, memory_map, float_precision, storage_options)\u001b[0m\n\u001b[1;32m    584\u001b[0m     \u001b[0mkwds\u001b[0m\u001b[0;34m.\u001b[0m\u001b[0mupdate\u001b[0m\u001b[0;34m(\u001b[0m\u001b[0mkwds_defaults\u001b[0m\u001b[0;34m)\u001b[0m\u001b[0;34m\u001b[0m\u001b[0;34m\u001b[0m\u001b[0m\n\u001b[1;32m    585\u001b[0m \u001b[0;34m\u001b[0m\u001b[0m\n\u001b[0;32m--> 586\u001b[0;31m     \u001b[0;32mreturn\u001b[0m \u001b[0m_read\u001b[0m\u001b[0;34m(\u001b[0m\u001b[0mfilepath_or_buffer\u001b[0m\u001b[0;34m,\u001b[0m \u001b[0mkwds\u001b[0m\u001b[0;34m)\u001b[0m\u001b[0;34m\u001b[0m\u001b[0;34m\u001b[0m\u001b[0m\n\u001b[0m\u001b[1;32m    587\u001b[0m \u001b[0;34m\u001b[0m\u001b[0m\n\u001b[1;32m    588\u001b[0m \u001b[0;34m\u001b[0m\u001b[0m\n",
      "\u001b[0;32m/usr/local/lib/python3.7/dist-packages/pandas/io/parsers/readers.py\u001b[0m in \u001b[0;36m_read\u001b[0;34m(filepath_or_buffer, kwds)\u001b[0m\n\u001b[1;32m    480\u001b[0m \u001b[0;34m\u001b[0m\u001b[0m\n\u001b[1;32m    481\u001b[0m     \u001b[0;31m# Create the parser.\u001b[0m\u001b[0;34m\u001b[0m\u001b[0;34m\u001b[0m\u001b[0;34m\u001b[0m\u001b[0m\n\u001b[0;32m--> 482\u001b[0;31m     \u001b[0mparser\u001b[0m \u001b[0;34m=\u001b[0m \u001b[0mTextFileReader\u001b[0m\u001b[0;34m(\u001b[0m\u001b[0mfilepath_or_buffer\u001b[0m\u001b[0;34m,\u001b[0m \u001b[0;34m**\u001b[0m\u001b[0mkwds\u001b[0m\u001b[0;34m)\u001b[0m\u001b[0;34m\u001b[0m\u001b[0;34m\u001b[0m\u001b[0m\n\u001b[0m\u001b[1;32m    483\u001b[0m \u001b[0;34m\u001b[0m\u001b[0m\n\u001b[1;32m    484\u001b[0m     \u001b[0;32mif\u001b[0m \u001b[0mchunksize\u001b[0m \u001b[0;32mor\u001b[0m \u001b[0miterator\u001b[0m\u001b[0;34m:\u001b[0m\u001b[0;34m\u001b[0m\u001b[0;34m\u001b[0m\u001b[0m\n",
      "\u001b[0;32m/usr/local/lib/python3.7/dist-packages/pandas/io/parsers/readers.py\u001b[0m in \u001b[0;36m__init__\u001b[0;34m(self, f, engine, **kwds)\u001b[0m\n\u001b[1;32m    809\u001b[0m             \u001b[0mself\u001b[0m\u001b[0;34m.\u001b[0m\u001b[0moptions\u001b[0m\u001b[0;34m[\u001b[0m\u001b[0;34m\"has_index_names\"\u001b[0m\u001b[0;34m]\u001b[0m \u001b[0;34m=\u001b[0m \u001b[0mkwds\u001b[0m\u001b[0;34m[\u001b[0m\u001b[0;34m\"has_index_names\"\u001b[0m\u001b[0;34m]\u001b[0m\u001b[0;34m\u001b[0m\u001b[0;34m\u001b[0m\u001b[0m\n\u001b[1;32m    810\u001b[0m \u001b[0;34m\u001b[0m\u001b[0m\n\u001b[0;32m--> 811\u001b[0;31m         \u001b[0mself\u001b[0m\u001b[0;34m.\u001b[0m\u001b[0m_engine\u001b[0m \u001b[0;34m=\u001b[0m \u001b[0mself\u001b[0m\u001b[0;34m.\u001b[0m\u001b[0m_make_engine\u001b[0m\u001b[0;34m(\u001b[0m\u001b[0mself\u001b[0m\u001b[0;34m.\u001b[0m\u001b[0mengine\u001b[0m\u001b[0;34m)\u001b[0m\u001b[0;34m\u001b[0m\u001b[0;34m\u001b[0m\u001b[0m\n\u001b[0m\u001b[1;32m    812\u001b[0m \u001b[0;34m\u001b[0m\u001b[0m\n\u001b[1;32m    813\u001b[0m     \u001b[0;32mdef\u001b[0m \u001b[0mclose\u001b[0m\u001b[0;34m(\u001b[0m\u001b[0mself\u001b[0m\u001b[0;34m)\u001b[0m\u001b[0;34m:\u001b[0m\u001b[0;34m\u001b[0m\u001b[0;34m\u001b[0m\u001b[0m\n",
      "\u001b[0;32m/usr/local/lib/python3.7/dist-packages/pandas/io/parsers/readers.py\u001b[0m in \u001b[0;36m_make_engine\u001b[0;34m(self, engine)\u001b[0m\n\u001b[1;32m   1038\u001b[0m             )\n\u001b[1;32m   1039\u001b[0m         \u001b[0;31m# error: Too many arguments for \"ParserBase\"\u001b[0m\u001b[0;34m\u001b[0m\u001b[0;34m\u001b[0m\u001b[0;34m\u001b[0m\u001b[0m\n\u001b[0;32m-> 1040\u001b[0;31m         \u001b[0;32mreturn\u001b[0m \u001b[0mmapping\u001b[0m\u001b[0;34m[\u001b[0m\u001b[0mengine\u001b[0m\u001b[0;34m]\u001b[0m\u001b[0;34m(\u001b[0m\u001b[0mself\u001b[0m\u001b[0;34m.\u001b[0m\u001b[0mf\u001b[0m\u001b[0;34m,\u001b[0m \u001b[0;34m**\u001b[0m\u001b[0mself\u001b[0m\u001b[0;34m.\u001b[0m\u001b[0moptions\u001b[0m\u001b[0;34m)\u001b[0m  \u001b[0;31m# type: ignore[call-arg]\u001b[0m\u001b[0;34m\u001b[0m\u001b[0;34m\u001b[0m\u001b[0m\n\u001b[0m\u001b[1;32m   1041\u001b[0m \u001b[0;34m\u001b[0m\u001b[0m\n\u001b[1;32m   1042\u001b[0m     \u001b[0;32mdef\u001b[0m \u001b[0m_failover_to_python\u001b[0m\u001b[0;34m(\u001b[0m\u001b[0mself\u001b[0m\u001b[0;34m)\u001b[0m\u001b[0;34m:\u001b[0m\u001b[0;34m\u001b[0m\u001b[0;34m\u001b[0m\u001b[0m\n",
      "\u001b[0;32m/usr/local/lib/python3.7/dist-packages/pandas/io/parsers/c_parser_wrapper.py\u001b[0m in \u001b[0;36m__init__\u001b[0;34m(self, src, **kwds)\u001b[0m\n\u001b[1;32m     49\u001b[0m \u001b[0;34m\u001b[0m\u001b[0m\n\u001b[1;32m     50\u001b[0m         \u001b[0;31m# open handles\u001b[0m\u001b[0;34m\u001b[0m\u001b[0;34m\u001b[0m\u001b[0;34m\u001b[0m\u001b[0m\n\u001b[0;32m---> 51\u001b[0;31m         \u001b[0mself\u001b[0m\u001b[0;34m.\u001b[0m\u001b[0m_open_handles\u001b[0m\u001b[0;34m(\u001b[0m\u001b[0msrc\u001b[0m\u001b[0;34m,\u001b[0m \u001b[0mkwds\u001b[0m\u001b[0;34m)\u001b[0m\u001b[0;34m\u001b[0m\u001b[0;34m\u001b[0m\u001b[0m\n\u001b[0m\u001b[1;32m     52\u001b[0m         \u001b[0;32massert\u001b[0m \u001b[0mself\u001b[0m\u001b[0;34m.\u001b[0m\u001b[0mhandles\u001b[0m \u001b[0;32mis\u001b[0m \u001b[0;32mnot\u001b[0m \u001b[0;32mNone\u001b[0m\u001b[0;34m\u001b[0m\u001b[0;34m\u001b[0m\u001b[0m\n\u001b[1;32m     53\u001b[0m \u001b[0;34m\u001b[0m\u001b[0m\n",
      "\u001b[0;32m/usr/local/lib/python3.7/dist-packages/pandas/io/parsers/base_parser.py\u001b[0m in \u001b[0;36m_open_handles\u001b[0;34m(self, src, kwds)\u001b[0m\n\u001b[1;32m    227\u001b[0m             \u001b[0mmemory_map\u001b[0m\u001b[0;34m=\u001b[0m\u001b[0mkwds\u001b[0m\u001b[0;34m.\u001b[0m\u001b[0mget\u001b[0m\u001b[0;34m(\u001b[0m\u001b[0;34m\"memory_map\"\u001b[0m\u001b[0;34m,\u001b[0m \u001b[0;32mFalse\u001b[0m\u001b[0;34m)\u001b[0m\u001b[0;34m,\u001b[0m\u001b[0;34m\u001b[0m\u001b[0;34m\u001b[0m\u001b[0m\n\u001b[1;32m    228\u001b[0m             \u001b[0mstorage_options\u001b[0m\u001b[0;34m=\u001b[0m\u001b[0mkwds\u001b[0m\u001b[0;34m.\u001b[0m\u001b[0mget\u001b[0m\u001b[0;34m(\u001b[0m\u001b[0;34m\"storage_options\"\u001b[0m\u001b[0;34m,\u001b[0m \u001b[0;32mNone\u001b[0m\u001b[0;34m)\u001b[0m\u001b[0;34m,\u001b[0m\u001b[0;34m\u001b[0m\u001b[0;34m\u001b[0m\u001b[0m\n\u001b[0;32m--> 229\u001b[0;31m             \u001b[0merrors\u001b[0m\u001b[0;34m=\u001b[0m\u001b[0mkwds\u001b[0m\u001b[0;34m.\u001b[0m\u001b[0mget\u001b[0m\u001b[0;34m(\u001b[0m\u001b[0;34m\"encoding_errors\"\u001b[0m\u001b[0;34m,\u001b[0m \u001b[0;34m\"strict\"\u001b[0m\u001b[0;34m)\u001b[0m\u001b[0;34m,\u001b[0m\u001b[0;34m\u001b[0m\u001b[0;34m\u001b[0m\u001b[0m\n\u001b[0m\u001b[1;32m    230\u001b[0m         )\n\u001b[1;32m    231\u001b[0m \u001b[0;34m\u001b[0m\u001b[0m\n",
      "\u001b[0;32m/usr/local/lib/python3.7/dist-packages/pandas/io/common.py\u001b[0m in \u001b[0;36mget_handle\u001b[0;34m(path_or_buf, mode, encoding, compression, memory_map, is_text, errors, storage_options)\u001b[0m\n\u001b[1;32m    705\u001b[0m                 \u001b[0mencoding\u001b[0m\u001b[0;34m=\u001b[0m\u001b[0mioargs\u001b[0m\u001b[0;34m.\u001b[0m\u001b[0mencoding\u001b[0m\u001b[0;34m,\u001b[0m\u001b[0;34m\u001b[0m\u001b[0;34m\u001b[0m\u001b[0m\n\u001b[1;32m    706\u001b[0m                 \u001b[0merrors\u001b[0m\u001b[0;34m=\u001b[0m\u001b[0merrors\u001b[0m\u001b[0;34m,\u001b[0m\u001b[0;34m\u001b[0m\u001b[0;34m\u001b[0m\u001b[0m\n\u001b[0;32m--> 707\u001b[0;31m                 \u001b[0mnewline\u001b[0m\u001b[0;34m=\u001b[0m\u001b[0;34m\"\"\u001b[0m\u001b[0;34m,\u001b[0m\u001b[0;34m\u001b[0m\u001b[0;34m\u001b[0m\u001b[0m\n\u001b[0m\u001b[1;32m    708\u001b[0m             )\n\u001b[1;32m    709\u001b[0m         \u001b[0;32melse\u001b[0m\u001b[0;34m:\u001b[0m\u001b[0;34m\u001b[0m\u001b[0;34m\u001b[0m\u001b[0m\n",
      "\u001b[0;31mFileNotFoundError\u001b[0m: [Errno 2] No such file or directory: '/content/sample_data/data_predicted_ml.csv'"
     ]
    }
   ],
   "source": [
    "# loading the data into a data frame\n",
    "df = pd.read_csv('/content/sample_data/data_predicted_ml.csv')"
   ]
  },
  {
   "cell_type": "code",
   "execution_count": null,
   "metadata": {
    "colab": {
     "base_uri": "https://localhost:8080/"
    },
    "id": "-8XLAj7MvVlk",
    "outputId": "e2ed3f6c-4cb0-4392-b5cf-58beae5f92ae"
   },
   "outputs": [
    {
     "name": "stdout",
     "output_type": "stream",
     "text": [
      "<class 'pandas.core.frame.DataFrame'>\n",
      "RangeIndex: 6682 entries, 0 to 6681\n",
      "Data columns (total 37 columns):\n",
      " #   Column                     Non-Null Count  Dtype  \n",
      "---  ------                     --------------  -----  \n",
      " 0   Unnamed: 0                 6682 non-null   object \n",
      " 1   review_id                  6604 non-null   float64\n",
      " 2   createdAt                  6604 non-null   object \n",
      " 3   localizedDate              6604 non-null   object \n",
      " 4   reviewee_id                6604 non-null   object \n",
      " 5   recommendedNumberOfLines   6604 non-null   object \n",
      " 6   roomTypeListingTitle       6604 non-null   object \n",
      " 7   language                   6604 non-null   object \n",
      " 8   highlightReviewMentioned   6604 non-null   object \n",
      " 9   localizedReview            6604 non-null   object \n",
      " 10  highlightedReviewSentence  6604 non-null   object \n",
      " 11  response                   6604 non-null   object \n",
      " 12  user_id                    6567 non-null   object \n",
      " 13  rating                     6567 non-null   object \n",
      " 14  comments                   6566 non-null   object \n",
      " 15  listing_id                 6562 non-null   object \n",
      " 16  auto_posting               6562 non-null   object \n",
      " 17  comments_cleaned           6562 non-null   object \n",
      " 18  comments_lemmatized        6562 non-null   object \n",
      " 19  compound_score             6561 non-null   object \n",
      " 20  sentiment                  6561 non-null   object \n",
      " 21  first_name                 6561 non-null   object \n",
      " 22  is_superhost               6561 non-null   object \n",
      " 23  recommendation_count       6556 non-null   float64\n",
      " 24  has_profile_pic            6556 non-null   object \n",
      " 25  total_listings_count       6556 non-null   object \n",
      " 26  location                   6519 non-null   object \n",
      " 27  reviewee_count             6519 non-null   float64\n",
      " 28  verification_labels        6519 non-null   object \n",
      " 29  listings_count             6519 non-null   float64\n",
      " 30  created_at                 6519 non-null   object \n",
      " 31  identity_verified          6519 non-null   object \n",
      " 32  picture_url                6519 non-null   object \n",
      " 33  picture_url_status         6519 non-null   object \n",
      " 34  Age                        6508 non-null   float64\n",
      " 35  Gender                     6508 non-null   object \n",
      " 36  Race                       6508 non-null   object \n",
      "dtypes: float64(5), object(32)\n",
      "memory usage: 1.9+ MB\n"
     ]
    }
   ],
   "source": [
    "# checking for null values and data types\n",
    "df.info()"
   ]
  },
  {
   "cell_type": "code",
   "execution_count": null,
   "metadata": {
    "id": "m-S4pjq-v3zF"
   },
   "outputs": [],
   "source": []
  },
  {
   "cell_type": "code",
   "execution_count": null,
   "metadata": {
    "id": "YMTictMA0Kg2"
   },
   "outputs": [],
   "source": [
    "# dropping null values in the data frame\n",
    "df.isna().sum()\n",
    "df.dropna(inplace=True)"
   ]
  },
  {
   "cell_type": "markdown",
   "metadata": {
    "id": "GDmLjWVoG0E7"
   },
   "source": [
    "## NEGATIVE REVIEWS BY LOCATION"
   ]
  },
  {
   "cell_type": "code",
   "execution_count": null,
   "metadata": {
    "colab": {
     "base_uri": "https://localhost:8080/"
    },
    "id": "QFAefFd-x1ts",
    "outputId": "b695ea9a-a219-47cd-9a14-9b07d2856992"
   },
   "outputs": [
    {
     "data": {
      "text/plain": [
       "6508"
      ]
     },
     "execution_count": 47,
     "metadata": {},
     "output_type": "execute_result"
    }
   ],
   "source": [
    "# sorting number of reviews by location\n",
    "len(df['location'])"
   ]
  },
  {
   "cell_type": "markdown",
   "metadata": {
    "id": "iPyHyi_uNx0T"
   },
   "source": []
  },
  {
   "cell_type": "code",
   "execution_count": null,
   "metadata": {
    "colab": {
     "base_uri": "https://localhost:8080/"
    },
    "id": "dre7GXiMwVap",
    "outputId": "8229c419-e437-4626-8d7a-2afcc6b13bce"
   },
   "outputs": [
    {
     "data": {
      "text/plain": [
       "6508"
      ]
     },
     "execution_count": 48,
     "metadata": {},
     "output_type": "execute_result"
    }
   ],
   "source": [
    "# extracting the location city, state and country from the location column\n",
    "city = []\n",
    "state =[]\n",
    "country =[]\n",
    "for i in df['location']:\n",
    "\n",
    "  y = i.split(', ')\n",
    "  if len(y) == 0 or len(y) == 1 :\n",
    "   \n",
    "    city.append(i)\n",
    "    state.append(i)\n",
    "    country.append(i)\n",
    "  elif  len(y)== 2:\n",
    "    city.append(y[0])\n",
    "    state.append(y[0])\n",
    "    country.append(y[1])\n",
    "  else:\n",
    "    city.append(y[0])\n",
    "    state.append(y[1])\n",
    "    country.append(y[2])\n",
    "\n",
    "len(city)\n",
    "len(state)\n",
    "len(country)"
   ]
  },
  {
   "cell_type": "code",
   "execution_count": null,
   "metadata": {
    "id": "CoV8tPjkvXww"
   },
   "outputs": [],
   "source": [
    "# creating new column for city\n",
    "df['city']= city"
   ]
  },
  {
   "cell_type": "code",
   "execution_count": null,
   "metadata": {
    "id": "xPxpCsSnvkdx"
   },
   "outputs": [],
   "source": [
    "# creating new column for state\n",
    "df['state']= state "
   ]
  },
  {
   "cell_type": "code",
   "execution_count": null,
   "metadata": {
    "id": "FsPBiZcL8C1Q"
   },
   "outputs": [],
   "source": [
    "# creating new column for country\n",
    "df['country']=country"
   ]
  },
  {
   "cell_type": "code",
   "execution_count": null,
   "metadata": {
    "id": "7A_COnBX8HVf"
   },
   "outputs": [],
   "source": [
    "# mapping countries to their abbreviations into a dictionary\n",
    "abbrev = {\n",
    "    \"Alabama\": \"AL\",\n",
    "    \"Alaska\": \"AK\",\n",
    "    \"Arizona\": \"AZ\",\n",
    "    \"Arkansas\": \"AR\",\n",
    "    \"California\": \"CA\",\n",
    "    \"Colorado\": \"CO\",\n",
    "    \"Connecticut\": \"CT\",\n",
    "    \"Delaware\": \"DE\",\n",
    "    \"Florida\": \"FL\",\n",
    "    \"Georgia\": \"GA\",\n",
    "    \"Hawaii\": \"HI\",\n",
    "    \"Idaho\": \"ID\",\n",
    "    \"Illinois\": \"IL\",\n",
    "    \"Indiana\": \"IN\",\n",
    "    \"Iowa\": \"IA\",\n",
    "    \"Kansas\": \"KS\",\n",
    "    \"Kentucky\": \"KY\",\n",
    "    \"Louisiana\": \"LA\",\n",
    "    \"Maine\": \"ME\",\n",
    "    \"Maryland\": \"MD\",\n",
    "    \"Massachusetts\": \"MA\",\n",
    "    \"Michigan\": \"MI\",\n",
    "    \"Minnesota\": \"MN\",\n",
    "    \"Mississippi\": \"MS\",\n",
    "    \"Missouri\": \"MO\",\n",
    "    \"Montana\": \"MT\",\n",
    "    \"Nebraska\": \"NE\",\n",
    "    \"Nevada\": \"NV\",\n",
    "    \"New Hampshire\": \"NH\",\n",
    "    \"New Jersey\": \"NJ\",\n",
    "    \"New Mexico\": \"NM\",\n",
    "    \"New York\": \"NY\",\n",
    "    \"North Carolina\": \"NC\",\n",
    "    \"North Dakota\": \"ND\",\n",
    "    \"Ohio\": \"OH\",\n",
    "    \"Oklahoma\": \"OK\",\n",
    "    \"Oregon\": \"OR\",\n",
    "    \"Pennsylvania\": \"PA\",\n",
    "    \"Rhode Island\": \"RI\",\n",
    "    \"South Carolina\": \"SC\",\n",
    "    \"South Dakota\": \"SD\",\n",
    "    \"Tennessee\": \"TN\",\n",
    "    \"Texas\": \"TX\",\n",
    "    \"Utah\": \"UT\",\n",
    "    \"Vermont\": \"VT\",\n",
    "    \"Virginia\": \"VA\",\n",
    "    \"Washington\": \"WA\",\n",
    "    \"West Virginia\": \"WV\",\n",
    "    \"Wisconsin\": \"WI\",\n",
    "    \"Wyoming\": \"WY\",\n",
    "    \"District of Columbia\": \"DC\",\n",
    "    \"American Samoa\": \"AS\",\n",
    "    \"Guam\": \"GU\",\n",
    "    \"Northern Mariana Islands\": \"MP\",\n",
    "    \"Puerto Rico\": \"PR\",\n",
    "    \"United States Minor Outlying Islands\": \"UM\",\n",
    "    \"U.S. Virgin Islands\": \"VI\",\n",
    "}\n",
    "    "
   ]
  },
  {
   "cell_type": "code",
   "execution_count": null,
   "metadata": {
    "id": "49jXGci39jXl"
   },
   "outputs": [],
   "source": [
    "# creating a new column state code using the abbrev dictionary\n",
    "df['state_code'] = df['state'].replace(abbrev)"
   ]
  },
  {
   "cell_type": "code",
   "execution_count": null,
   "metadata": {
    "colab": {
     "base_uri": "https://localhost:8080/"
    },
    "id": "InoHH5W9B045",
    "outputId": "9e768181-f7f0-4463-d38f-5fb6185dfdea"
   },
   "outputs": [
    {
     "data": {
      "text/plain": [
       "dict_values([986, 673, 399, 347, 267, 229, 227, 181, 180, 154, 149, 142, 128, 126, 122, 117, 114, 112, 98, 95, 91, 82, 81, 79, 68, 63, 61, 61, 58, 53, 53, 49, 49, 45, 37, 33, 32, 31, 30, 22, 21, 21, 20, 18, 16, 14, 14, 13, 13, 13, 12, 12, 11, 10, 10, 10, 10, 9, 8, 8, 8, 8, 8, 7, 6, 6, 5, 4, 4, 4, 4, 4, 3, 3, 3, 3, 3, 3, 3, 3, 3, 3, 3, 3, 3, 3, 3, 3, 3, 3, 2, 2, 2, 2, 2, 2, 2, 2, 2, 2, 2, 2, 2, 2, 2, 2, 2, 2, 2, 2, 2, 2, 2, 2, 2, 2, 1, 1, 1, 1, 1, 1, 1, 1, 1, 1, 1, 1, 1, 1, 1, 1, 1, 1, 1, 1, 1, 1, 1, 1, 1, 1, 1, 1, 1, 1, 1, 1, 1, 1, 1, 1, 1, 1, 1, 1, 1, 1, 1, 1, 1, 1, 1, 1, 1, 1, 1, 1, 1, 1, 1, 1, 1, 1, 1, 1, 1, 1, 1, 1, 1, 1, 1, 1, 1, 1, 1, 1, 1, 1, 1, 1, 1, 1, 1, 1, 1, 1, 1, 1, 1, 1, 1, 1, 1, 1, 1, 1, 1, 1, 1, 1, 1, 1, 1, 1, 1, 1, 1, 1, 1, 1, 1, 1, 1, 1, 1, 1, 1, 1, 1, 1, 1, 1, 1, 1, 1, 1, 1, 1, 1, 1, 1, 1, 1, 1, 1, 1, 1, 1, 1, 1, 1, 1, 1, 1, 1, 1, 1, 1, 1, 1, 1])"
      ]
     },
     "execution_count": 54,
     "metadata": {},
     "output_type": "execute_result"
    }
   ],
   "source": [
    "# creating a dictionary that maps state codes a=with the frequency at which they occur\n",
    "statedict = dict(df.state_code.value_counts())\n",
    "statedict.keys()\n",
    "statedict.values()"
   ]
  },
  {
   "cell_type": "code",
   "execution_count": null,
   "metadata": {
    "id": "8co64rOyB-e6"
   },
   "outputs": [],
   "source": [
    "#create a dictionary to map to states\n",
    "state_dict ={'state':list(statedict.keys()),'count':statedict.values()}"
   ]
  },
  {
   "cell_type": "code",
   "execution_count": null,
   "metadata": {
    "colab": {
     "base_uri": "https://localhost:8080/",
     "height": 423
    },
    "id": "l_xxugyUCAjb",
    "outputId": "b5bf8220-1e0c-4703-a87b-e41baf9e9208"
   },
   "outputs": [
    {
     "data": {
      "text/html": [
       "\n",
       "  <div id=\"df-4301dbc0-583c-4b83-9777-90f94e610011\">\n",
       "    <div class=\"colab-df-container\">\n",
       "      <div>\n",
       "<style scoped>\n",
       "    .dataframe tbody tr th:only-of-type {\n",
       "        vertical-align: middle;\n",
       "    }\n",
       "\n",
       "    .dataframe tbody tr th {\n",
       "        vertical-align: top;\n",
       "    }\n",
       "\n",
       "    .dataframe thead th {\n",
       "        text-align: right;\n",
       "    }\n",
       "</style>\n",
       "<table border=\"1\" class=\"dataframe\">\n",
       "  <thead>\n",
       "    <tr style=\"text-align: right;\">\n",
       "      <th></th>\n",
       "      <th>state</th>\n",
       "      <th>count</th>\n",
       "      <th>state_full</th>\n",
       "    </tr>\n",
       "  </thead>\n",
       "  <tbody>\n",
       "    <tr>\n",
       "      <th>0</th>\n",
       "      <td>CA</td>\n",
       "      <td>986</td>\n",
       "      <td>California</td>\n",
       "    </tr>\n",
       "    <tr>\n",
       "      <th>1</th>\n",
       "      <td>TX</td>\n",
       "      <td>673</td>\n",
       "      <td>Texas</td>\n",
       "    </tr>\n",
       "    <tr>\n",
       "      <th>2</th>\n",
       "      <td>FL</td>\n",
       "      <td>399</td>\n",
       "      <td>Florida</td>\n",
       "    </tr>\n",
       "    <tr>\n",
       "      <th>3</th>\n",
       "      <td>NY</td>\n",
       "      <td>347</td>\n",
       "      <td>New York</td>\n",
       "    </tr>\n",
       "    <tr>\n",
       "      <th>4</th>\n",
       "      <td>IL</td>\n",
       "      <td>267</td>\n",
       "      <td>Illinois</td>\n",
       "    </tr>\n",
       "    <tr>\n",
       "      <th>...</th>\n",
       "      <td>...</td>\n",
       "      <td>...</td>\n",
       "      <td>...</td>\n",
       "    </tr>\n",
       "    <tr>\n",
       "      <th>258</th>\n",
       "      <td>Moscow Oblast</td>\n",
       "      <td>1</td>\n",
       "      <td>Moscow Oblast</td>\n",
       "    </tr>\n",
       "    <tr>\n",
       "      <th>259</th>\n",
       "      <td>Tianjin</td>\n",
       "      <td>1</td>\n",
       "      <td>Tianjin</td>\n",
       "    </tr>\n",
       "    <tr>\n",
       "      <th>260</th>\n",
       "      <td>Gelderland</td>\n",
       "      <td>1</td>\n",
       "      <td>Gelderland</td>\n",
       "    </tr>\n",
       "    <tr>\n",
       "      <th>261</th>\n",
       "      <td>Athens</td>\n",
       "      <td>1</td>\n",
       "      <td>Athens</td>\n",
       "    </tr>\n",
       "    <tr>\n",
       "      <th>262</th>\n",
       "      <td>Australia</td>\n",
       "      <td>1</td>\n",
       "      <td>Australia</td>\n",
       "    </tr>\n",
       "  </tbody>\n",
       "</table>\n",
       "<p>263 rows × 3 columns</p>\n",
       "</div>\n",
       "      <button class=\"colab-df-convert\" onclick=\"convertToInteractive('df-4301dbc0-583c-4b83-9777-90f94e610011')\"\n",
       "              title=\"Convert this dataframe to an interactive table.\"\n",
       "              style=\"display:none;\">\n",
       "        \n",
       "  <svg xmlns=\"http://www.w3.org/2000/svg\" height=\"24px\"viewBox=\"0 0 24 24\"\n",
       "       width=\"24px\">\n",
       "    <path d=\"M0 0h24v24H0V0z\" fill=\"none\"/>\n",
       "    <path d=\"M18.56 5.44l.94 2.06.94-2.06 2.06-.94-2.06-.94-.94-2.06-.94 2.06-2.06.94zm-11 1L8.5 8.5l.94-2.06 2.06-.94-2.06-.94L8.5 2.5l-.94 2.06-2.06.94zm10 10l.94 2.06.94-2.06 2.06-.94-2.06-.94-.94-2.06-.94 2.06-2.06.94z\"/><path d=\"M17.41 7.96l-1.37-1.37c-.4-.4-.92-.59-1.43-.59-.52 0-1.04.2-1.43.59L10.3 9.45l-7.72 7.72c-.78.78-.78 2.05 0 2.83L4 21.41c.39.39.9.59 1.41.59.51 0 1.02-.2 1.41-.59l7.78-7.78 2.81-2.81c.8-.78.8-2.07 0-2.86zM5.41 20L4 18.59l7.72-7.72 1.47 1.35L5.41 20z\"/>\n",
       "  </svg>\n",
       "      </button>\n",
       "      \n",
       "  <style>\n",
       "    .colab-df-container {\n",
       "      display:flex;\n",
       "      flex-wrap:wrap;\n",
       "      gap: 12px;\n",
       "    }\n",
       "\n",
       "    .colab-df-convert {\n",
       "      background-color: #E8F0FE;\n",
       "      border: none;\n",
       "      border-radius: 50%;\n",
       "      cursor: pointer;\n",
       "      display: none;\n",
       "      fill: #1967D2;\n",
       "      height: 32px;\n",
       "      padding: 0 0 0 0;\n",
       "      width: 32px;\n",
       "    }\n",
       "\n",
       "    .colab-df-convert:hover {\n",
       "      background-color: #E2EBFA;\n",
       "      box-shadow: 0px 1px 2px rgba(60, 64, 67, 0.3), 0px 1px 3px 1px rgba(60, 64, 67, 0.15);\n",
       "      fill: #174EA6;\n",
       "    }\n",
       "\n",
       "    [theme=dark] .colab-df-convert {\n",
       "      background-color: #3B4455;\n",
       "      fill: #D2E3FC;\n",
       "    }\n",
       "\n",
       "    [theme=dark] .colab-df-convert:hover {\n",
       "      background-color: #434B5C;\n",
       "      box-shadow: 0px 1px 3px 1px rgba(0, 0, 0, 0.15);\n",
       "      filter: drop-shadow(0px 1px 2px rgba(0, 0, 0, 0.3));\n",
       "      fill: #FFFFFF;\n",
       "    }\n",
       "  </style>\n",
       "\n",
       "      <script>\n",
       "        const buttonEl =\n",
       "          document.querySelector('#df-4301dbc0-583c-4b83-9777-90f94e610011 button.colab-df-convert');\n",
       "        buttonEl.style.display =\n",
       "          google.colab.kernel.accessAllowed ? 'block' : 'none';\n",
       "\n",
       "        async function convertToInteractive(key) {\n",
       "          const element = document.querySelector('#df-4301dbc0-583c-4b83-9777-90f94e610011');\n",
       "          const dataTable =\n",
       "            await google.colab.kernel.invokeFunction('convertToInteractive',\n",
       "                                                     [key], {});\n",
       "          if (!dataTable) return;\n",
       "\n",
       "          const docLinkHtml = 'Like what you see? Visit the ' +\n",
       "            '<a target=\"_blank\" href=https://colab.research.google.com/notebooks/data_table.ipynb>data table notebook</a>'\n",
       "            + ' to learn more about interactive tables.';\n",
       "          element.innerHTML = '';\n",
       "          dataTable['output_type'] = 'display_data';\n",
       "          await google.colab.output.renderOutput(dataTable, element);\n",
       "          const docLink = document.createElement('div');\n",
       "          docLink.innerHTML = docLinkHtml;\n",
       "          element.appendChild(docLink);\n",
       "        }\n",
       "      </script>\n",
       "    </div>\n",
       "  </div>\n",
       "  "
      ],
      "text/plain": [
       "             state  count     state_full\n",
       "0               CA    986     California\n",
       "1               TX    673          Texas\n",
       "2               FL    399        Florida\n",
       "3               NY    347       New York\n",
       "4               IL    267       Illinois\n",
       "..             ...    ...            ...\n",
       "258  Moscow Oblast      1  Moscow Oblast\n",
       "259        Tianjin      1        Tianjin\n",
       "260     Gelderland      1     Gelderland\n",
       "261         Athens      1         Athens\n",
       "262      Australia      1      Australia\n",
       "\n",
       "[263 rows x 3 columns]"
      ]
     },
     "execution_count": 56,
     "metadata": {},
     "output_type": "execute_result"
    }
   ],
   "source": [
    "#Create a dataframe for plotting location\n",
    "abbrev_to_us_state = dict(map(reversed, abbrev.items()))\n",
    "map_text = pd.DataFrame(state_dict)\n",
    "map_text['state_full']= map_text['state'].replace(abbrev_to_us_state)\n",
    "map_text"
   ]
  },
  {
   "cell_type": "code",
   "execution_count": null,
   "metadata": {
    "colab": {
     "base_uri": "https://localhost:8080/",
     "height": 1000
    },
    "id": "d3MhWsK78I6I",
    "outputId": "74e5fa6f-f8be-477e-84a0-ddd544329c6b"
   },
   "outputs": [
    {
     "data": {
      "text/html": [
       "<html>\n",
       "<head><meta charset=\"utf-8\" /></head>\n",
       "<body>\n",
       "    <div>            <script src=\"https://cdnjs.cloudflare.com/ajax/libs/mathjax/2.7.5/MathJax.js?config=TeX-AMS-MML_SVG\"></script><script type=\"text/javascript\">if (window.MathJax) {MathJax.Hub.Config({SVG: {font: \"STIX-Web\"}});}</script>                <script type=\"text/javascript\">window.PlotlyConfig = {MathJaxConfig: 'local'};</script>\n",
       "        <script src=\"https://cdn.plot.ly/plotly-2.8.3.min.js\"></script>                <div id=\"01ac1319-db6a-44de-ac62-78dc0182c1f2\" class=\"plotly-graph-div\" style=\"height:1250px; width:1250px;\"></div>            <script type=\"text/javascript\">                                    window.PLOTLYENV=window.PLOTLYENV || {};                                    if (document.getElementById(\"01ac1319-db6a-44de-ac62-78dc0182c1f2\")) {                    Plotly.newPlot(                        \"01ac1319-db6a-44de-ac62-78dc0182c1f2\",                        [{\"coloraxis\":\"coloraxis\",\"geo\":\"geo\",\"hovertemplate\":\"<b>%{hovertext}</b><br><br>state=%{location}<br>count=%{z}<extra></extra>\",\"hovertext\":[\"California\",\"Texas\",\"Florida\",\"New York\",\"Illinois\",\"Pennsylvania\",\"Georgia\",\"North Carolina\",\"Arizona\",\"Washington\",\"Ohio\",\"Colorado\",\"New Jersey\",\"Virginia\",\"Michigan\",\"Massachusetts\",\"Maryland\",\"Missouri\",\"Tennessee\",\"Nevada\",\"Indiana\",\"Minnesota\",\"Oregon\",\"Wisconsin\",\"Louisiana\",\"Oklahoma\",\"South Carolina\",\"New Mexico\",\"Kansas\",\"Alabama\",\"Utah\",\"Kentucky\",\"Ontario\",\"England\",\"Arkansas\",\"Connecticut\",\"US\",\"District of Columbia\",\"Iowa\",\"Idaho\",\"Mississippi\",\"Nebraska\",\"Alberta\",\"Delaware\",\"Hawaii\",\"British Columbia\",\"United States\",\"Rhode Island\",\"New South Wales\",\"New Hampshire\",\"Alaska\",\"\\u00cele-de-France\",\"China\",\"Mexico City\",\"Quebec\",\"Vermont\",\"Montana\",\"Maine\",\"Singapore\",\"Victoria\",\"North Dakota\",\"West Virginia\",\"Wyoming\",\"Bavaria\",\"Baden-W\\u00fcrttemberg\",\"Western Australia\",\"Queensland\",\"North Rhine-Westphalia\",\"Ciudad de M\\u00e9xico\",\"Hesse\",\"Santiago Metropolitan Region\",\"Bogota\",\"Quer\\u00e9taro\",\"Seoul\",\"Delhi\",\"South Korea\",\"Federal Territory of Kuala Lumpur\",\"Brussels\",\"Telangana\",\"Qu\\u00e9bec\",\"Lazio\",\"South Dakota\",\"Berlin\",\"Saskatchewan\",\"Bangkok\",\"Scotland\",\"Taipei City\",\"Zurich\",\"Federal District\",\"Lima Province\",\"Nuevo Le\\u00f3n\",\"Nouvelle-Aquitaine\",\"Sk\\u00e5ne County\",\"Vaud\",\"Manitoba\",\"State of S\\u00e3o Paulo\",\"Rhineland-Palatinate\",\"Provence-Alpes-C\\u00f4te d'Azur\",\"Sindh\",\"Guangdong\",\"New Providence\",\"South Africa\",\"Moscow\",\"Lombardy\",\"Walloon Region\",\"Mexico\",\"Canada\",\"Guatemala\",\"San Juan\",\"Saudi Arabia\",\"Jakarta\",\"Masovian Voivodeship\",\"Saxony\",\"Buenos Aires\",\"North Holland\",\"Makkah Province\",\"Costa Rica\",\"Hong Kong\",\"State of Rio de Janeiro\",\"Wales\",\"Northern Ireland\",\"Lviv Oblast\",\"KR\",\"Limpopo\",\"Israel\",\"Hokkaido Prefecture\",\"Catalonia\",\"Dar es Salaam\",\"Lima Region\",\"London\",\"Helsinki\",\"Ukraine\",\"Antioquia\",\"Hebei\",\"Maha Sarakham\",\"Auckland\",\"Saint John Parish\",\"Cluj County\",\"Hong Kong Island\",\"Istanbul\",\"Guatemala Department\",\"Bucharest\",\"Saint Petersburg\",\"St. Andrew Parish\",\"Veneto\",\"Styria\",\"Sacatep\\u00e9quez Department\",\"Amman Governorate\",\"Tuscany\",\"National District\",\"Haderslev\",\"State of Mexico\",\"Surat Thani\",\"Russia\",\"Schleswig-Holstein\",\"Sverdlovsk Oblast\",\"Tokyo\",\"Ulyanovsk Oblast\",\"Bolivar\",\"Chelyabinsk Oblast\",\"Kalmykia\",\"Hessen\",\"Estado de M\\u00e9xico\",\"Newfoundland and Labrador\",\"South Holland\",\"Varde\",\"Al Asimah Governate\",\"Copenhagen\",\"State of Paran\\u00e1\",\"Long Island\",\"Lucerne\",\"Region of Murcia\",\"Provincia de Alajuela\",\"Germany\",\"Bayam\\u00f3n\",\"S\\u00e3o Paulo\",\"State of Santa Catarina\",\"Nagano\",\"Stockholm County\",\"Campania\",\"Kowloon\",\"Doha\",\"United Kingdom\",\"Taichung City\",\"Guerrero\",\"Veracruz\",\"\\uc11c\\uc6b8\",\"Sonora\",\"Gold Coast\",\"Piemonte\",\"florida\",\"Chon Buri\",\"Tbilisi\",\"Canton of Bern\",\"Baja California\",\"Jalisco\",\"Tolna County\",\"County Meath\",\"Waikato\",\"Hedmark\",\"Daegu\",\"Lower Saxony\",\"Western Cape\",\"Cairo Governorate\",\"Taipei\",\"Geneva\",\"Thessaloniki\",\"Community of Madrid\",\"Attica\",\"Monaco\",\"Auvergne-Rh\\u00f4ne-Alpes\",\"India\",\"GB\",\"Gujarat\",\"Aichi\",\"Bulgaria\",\"Nairobi County\",\"Guanajuato\",\"Northland\",\"Yucat\\u00e1n\",\"Brittany\",\"Guayas\",\"Francisco Moraz\\u00e1n Department\",\"Tamaulipas\",\"Loja\",\"Nicaragua\",\"County Galway\",\"Montevideo Department\",\"San Jos\\u00e9 Province\",\"Arusha Region\",\"New Taipei City\",\"Guayama\",\"Languedoc-Roussillon-Midi-Pyr\\u00e9n\\u00e9es\",\"Osaka\",\"Callao Region\",\"San Fernando\",\"Inner Mongolia\",\"St. Croix\",\"New Brunswick\",\"Nova Scotia\",\"mazowieckie\",\"Chungcheongnam-do\",\"Dubai\",\"Daejeon\",\"Utrecht\",\"Dublin\",\"Australian Capital Territory\",\"Aarhus\",\"Tel Aviv District\",\"Tamuning\",\"Tel Aviv\",\"Overijssel\",\"Toscana\",\"Metropolitan Municipality of Lima\",\"Zhejiang\",\"Emilia-Romagna\",\"San Salvador Department\",\"Center District\",\"Moscow Oblast\",\"Tianjin\",\"Gelderland\",\"Athens\",\"Australia\"],\"locationmode\":\"USA-states\",\"locations\":[\"CA\",\"TX\",\"FL\",\"NY\",\"IL\",\"PA\",\"GA\",\"NC\",\"AZ\",\"WA\",\"OH\",\"CO\",\"NJ\",\"VA\",\"MI\",\"MA\",\"MD\",\"MO\",\"TN\",\"NV\",\"IN\",\"MN\",\"OR\",\"WI\",\"LA\",\"OK\",\"SC\",\"NM\",\"KS\",\"AL\",\"UT\",\"KY\",\"Ontario\",\"England\",\"AR\",\"CT\",\"US\",\"DC\",\"IA\",\"ID\",\"MS\",\"NE\",\"Alberta\",\"DE\",\"HI\",\"British Columbia\",\"United States\",\"RI\",\"New South Wales\",\"NH\",\"AK\",\"\\u00cele-de-France\",\"China\",\"Mexico City\",\"Quebec\",\"VT\",\"MT\",\"ME\",\"Singapore\",\"Victoria\",\"ND\",\"WV\",\"WY\",\"Bavaria\",\"Baden-W\\u00fcrttemberg\",\"Western Australia\",\"Queensland\",\"North Rhine-Westphalia\",\"Ciudad de M\\u00e9xico\",\"Hesse\",\"Santiago Metropolitan Region\",\"Bogota\",\"Quer\\u00e9taro\",\"Seoul\",\"Delhi\",\"South Korea\",\"Federal Territory of Kuala Lumpur\",\"Brussels\",\"Telangana\",\"Qu\\u00e9bec\",\"Lazio\",\"SD\",\"Berlin\",\"Saskatchewan\",\"Bangkok\",\"Scotland\",\"Taipei City\",\"Zurich\",\"Federal District\",\"Lima Province\",\"Nuevo Le\\u00f3n\",\"Nouvelle-Aquitaine\",\"Sk\\u00e5ne County\",\"Vaud\",\"Manitoba\",\"State of S\\u00e3o Paulo\",\"Rhineland-Palatinate\",\"Provence-Alpes-C\\u00f4te d'Azur\",\"Sindh\",\"Guangdong\",\"New Providence\",\"South Africa\",\"Moscow\",\"Lombardy\",\"Walloon Region\",\"Mexico\",\"Canada\",\"Guatemala\",\"San Juan\",\"Saudi Arabia\",\"Jakarta\",\"Masovian Voivodeship\",\"Saxony\",\"Buenos Aires\",\"North Holland\",\"Makkah Province\",\"Costa Rica\",\"Hong Kong\",\"State of Rio de Janeiro\",\"Wales\",\"Northern Ireland\",\"Lviv Oblast\",\"KR\",\"Limpopo\",\"Israel\",\"Hokkaido Prefecture\",\"Catalonia\",\"Dar es Salaam\",\"Lima Region\",\"London\",\"Helsinki\",\"Ukraine\",\"Antioquia\",\"Hebei\",\"Maha Sarakham\",\"Auckland\",\"Saint John Parish\",\"Cluj County\",\"Hong Kong Island\",\"Istanbul\",\"Guatemala Department\",\"Bucharest\",\"Saint Petersburg\",\"St. Andrew Parish\",\"Veneto\",\"Styria\",\"Sacatep\\u00e9quez Department\",\"Amman Governorate\",\"Tuscany\",\"National District\",\"Haderslev\",\"State of Mexico\",\"Surat Thani\",\"Russia\",\"Schleswig-Holstein\",\"Sverdlovsk Oblast\",\"Tokyo\",\"Ulyanovsk Oblast\",\"Bolivar\",\"Chelyabinsk Oblast\",\"Kalmykia\",\"Hessen\",\"Estado de M\\u00e9xico\",\"Newfoundland and Labrador\",\"South Holland\",\"Varde\",\"Al Asimah Governate\",\"Copenhagen\",\"State of Paran\\u00e1\",\"Long Island\",\"Lucerne\",\"Region of Murcia\",\"Provincia de Alajuela\",\"Germany\",\"Bayam\\u00f3n\",\"S\\u00e3o Paulo\",\"State of Santa Catarina\",\"Nagano\",\"Stockholm County\",\"Campania\",\"Kowloon\",\"Doha\",\"United Kingdom\",\"Taichung City\",\"Guerrero\",\"Veracruz\",\"\\uc11c\\uc6b8\",\"Sonora\",\"Gold Coast\",\"Piemonte\",\"florida\",\"Chon Buri\",\"Tbilisi\",\"Canton of Bern\",\"Baja California\",\"Jalisco\",\"Tolna County\",\"County Meath\",\"Waikato\",\"Hedmark\",\"Daegu\",\"Lower Saxony\",\"Western Cape\",\"Cairo Governorate\",\"Taipei\",\"Geneva\",\"Thessaloniki\",\"Community of Madrid\",\"Attica\",\"Monaco\",\"Auvergne-Rh\\u00f4ne-Alpes\",\"India\",\"GB\",\"Gujarat\",\"Aichi\",\"Bulgaria\",\"Nairobi County\",\"Guanajuato\",\"Northland\",\"Yucat\\u00e1n\",\"Brittany\",\"Guayas\",\"Francisco Moraz\\u00e1n Department\",\"Tamaulipas\",\"Loja\",\"Nicaragua\",\"County Galway\",\"Montevideo Department\",\"San Jos\\u00e9 Province\",\"Arusha Region\",\"New Taipei City\",\"Guayama\",\"Languedoc-Roussillon-Midi-Pyr\\u00e9n\\u00e9es\",\"Osaka\",\"Callao Region\",\"San Fernando\",\"Inner Mongolia\",\"St. Croix\",\"New Brunswick\",\"Nova Scotia\",\"mazowieckie\",\"Chungcheongnam-do\",\"Dubai\",\"Daejeon\",\"Utrecht\",\"Dublin\",\"Australian Capital Territory\",\"Aarhus\",\"Tel Aviv District\",\"Tamuning\",\"Tel Aviv\",\"Overijssel\",\"Toscana\",\"Metropolitan Municipality of Lima\",\"Zhejiang\",\"Emilia-Romagna\",\"San Salvador Department\",\"Center District\",\"Moscow Oblast\",\"Tianjin\",\"Gelderland\",\"Athens\",\"Australia\"],\"name\":\"\",\"z\":[986,673,399,347,267,229,227,181,180,154,149,142,128,126,122,117,114,112,98,95,91,82,81,79,68,63,61,61,58,53,53,49,49,45,37,33,32,31,30,22,21,21,20,18,16,14,14,13,13,13,12,12,11,10,10,10,10,9,8,8,8,8,8,7,6,6,5,4,4,4,4,4,3,3,3,3,3,3,3,3,3,3,3,3,3,3,3,3,3,3,2,2,2,2,2,2,2,2,2,2,2,2,2,2,2,2,2,2,2,2,2,2,2,2,2,2,1,1,1,1,1,1,1,1,1,1,1,1,1,1,1,1,1,1,1,1,1,1,1,1,1,1,1,1,1,1,1,1,1,1,1,1,1,1,1,1,1,1,1,1,1,1,1,1,1,1,1,1,1,1,1,1,1,1,1,1,1,1,1,1,1,1,1,1,1,1,1,1,1,1,1,1,1,1,1,1,1,1,1,1,1,1,1,1,1,1,1,1,1,1,1,1,1,1,1,1,1,1,1,1,1,1,1,1,1,1,1,1,1,1,1,1,1,1,1,1,1,1,1,1,1,1,1,1,1,1,1,1,1,1,1,1,1,1,1,1,1,1,1,1,1,1,1],\"type\":\"choropleth\"},{\"locationmode\":\"USA-states\",\"locations\":[\"CA\",\"TX\",\"FL\",\"NY\",\"IL\",\"PA\",\"GA\",\"NC\",\"AZ\",\"WA\",\"OH\",\"CO\",\"NJ\",\"VA\",\"MI\",\"MA\",\"MD\",\"MO\",\"TN\",\"NV\",\"IN\",\"MN\",\"OR\",\"WI\",\"LA\",\"OK\",\"SC\",\"NM\",\"KS\",\"AL\",\"UT\",\"KY\",\"Ontario\",\"England\",\"AR\",\"CT\",\"US\",\"DC\",\"IA\",\"ID\",\"MS\",\"NE\",\"Alberta\",\"DE\",\"HI\",\"British Columbia\",\"United States\",\"RI\",\"New South Wales\",\"NH\",\"AK\",\"\\u00cele-de-France\",\"China\",\"Mexico City\",\"Quebec\",\"VT\",\"MT\",\"ME\",\"Singapore\",\"Victoria\",\"ND\",\"WV\",\"WY\",\"Bavaria\",\"Baden-W\\u00fcrttemberg\",\"Western Australia\",\"Queensland\",\"North Rhine-Westphalia\",\"Ciudad de M\\u00e9xico\",\"Hesse\",\"Santiago Metropolitan Region\",\"Bogota\",\"Quer\\u00e9taro\",\"Seoul\",\"Delhi\",\"South Korea\",\"Federal Territory of Kuala Lumpur\",\"Brussels\",\"Telangana\",\"Qu\\u00e9bec\",\"Lazio\",\"SD\",\"Berlin\",\"Saskatchewan\",\"Bangkok\",\"Scotland\",\"Taipei City\",\"Zurich\",\"Federal District\",\"Lima Province\",\"Nuevo Le\\u00f3n\",\"Nouvelle-Aquitaine\",\"Sk\\u00e5ne County\",\"Vaud\",\"Manitoba\",\"State of S\\u00e3o Paulo\",\"Rhineland-Palatinate\",\"Provence-Alpes-C\\u00f4te d'Azur\",\"Sindh\",\"Guangdong\",\"New Providence\",\"South Africa\",\"Moscow\",\"Lombardy\",\"Walloon Region\",\"Mexico\",\"Canada\",\"Guatemala\",\"San Juan\",\"Saudi Arabia\",\"Jakarta\",\"Masovian Voivodeship\",\"Saxony\",\"Buenos Aires\",\"North Holland\",\"Makkah Province\",\"Costa Rica\",\"Hong Kong\",\"State of Rio de Janeiro\",\"Wales\",\"Northern Ireland\",\"Lviv Oblast\",\"KR\",\"Limpopo\",\"Israel\",\"Hokkaido Prefecture\",\"Catalonia\",\"Dar es Salaam\",\"Lima Region\",\"London\",\"Helsinki\",\"Ukraine\",\"Antioquia\",\"Hebei\",\"Maha Sarakham\",\"Auckland\",\"Saint John Parish\",\"Cluj County\",\"Hong Kong Island\",\"Istanbul\",\"Guatemala Department\",\"Bucharest\",\"Saint Petersburg\",\"St. Andrew Parish\",\"Veneto\",\"Styria\",\"Sacatep\\u00e9quez Department\",\"Amman Governorate\",\"Tuscany\",\"National District\",\"Haderslev\",\"State of Mexico\",\"Surat Thani\",\"Russia\",\"Schleswig-Holstein\",\"Sverdlovsk Oblast\",\"Tokyo\",\"Ulyanovsk Oblast\",\"Bolivar\",\"Chelyabinsk Oblast\",\"Kalmykia\",\"Hessen\",\"Estado de M\\u00e9xico\",\"Newfoundland and Labrador\",\"South Holland\",\"Varde\",\"Al Asimah Governate\",\"Copenhagen\",\"State of Paran\\u00e1\",\"Long Island\",\"Lucerne\",\"Region of Murcia\",\"Provincia de Alajuela\",\"Germany\",\"Bayam\\u00f3n\",\"S\\u00e3o Paulo\",\"State of Santa Catarina\",\"Nagano\",\"Stockholm County\",\"Campania\",\"Kowloon\",\"Doha\",\"United Kingdom\",\"Taichung City\",\"Guerrero\",\"Veracruz\",\"\\uc11c\\uc6b8\",\"Sonora\",\"Gold Coast\",\"Piemonte\",\"florida\",\"Chon Buri\",\"Tbilisi\",\"Canton of Bern\",\"Baja California\",\"Jalisco\",\"Tolna County\",\"County Meath\",\"Waikato\",\"Hedmark\",\"Daegu\",\"Lower Saxony\",\"Western Cape\",\"Cairo Governorate\",\"Taipei\",\"Geneva\",\"Thessaloniki\",\"Community of Madrid\",\"Attica\",\"Monaco\",\"Auvergne-Rh\\u00f4ne-Alpes\",\"India\",\"GB\",\"Gujarat\",\"Aichi\",\"Bulgaria\",\"Nairobi County\",\"Guanajuato\",\"Northland\",\"Yucat\\u00e1n\",\"Brittany\",\"Guayas\",\"Francisco Moraz\\u00e1n Department\",\"Tamaulipas\",\"Loja\",\"Nicaragua\",\"County Galway\",\"Montevideo Department\",\"San Jos\\u00e9 Province\",\"Arusha Region\",\"New Taipei City\",\"Guayama\",\"Languedoc-Roussillon-Midi-Pyr\\u00e9n\\u00e9es\",\"Osaka\",\"Callao Region\",\"San Fernando\",\"Inner Mongolia\",\"St. Croix\",\"New Brunswick\",\"Nova Scotia\",\"mazowieckie\",\"Chungcheongnam-do\",\"Dubai\",\"Daejeon\",\"Utrecht\",\"Dublin\",\"Australian Capital Territory\",\"Aarhus\",\"Tel Aviv District\",\"Tamuning\",\"Tel Aviv\",\"Overijssel\",\"Toscana\",\"Metropolitan Municipality of Lima\",\"Zhejiang\",\"Emilia-Romagna\",\"San Salvador Department\",\"Center District\",\"Moscow Oblast\",\"Tianjin\",\"Gelderland\",\"Athens\",\"Australia\"],\"mode\":\"text\",\"text\":[\"California\",\"Texas\",\"Florida\",\"New York\",\"Illinois\",\"Pennsylvania\",\"Georgia\",\"North Carolina\",\"Arizona\",\"Washington\",\"Ohio\",\"Colorado\",\"New Jersey\",\"Virginia\",\"Michigan\",\"Massachusetts\",\"Maryland\",\"Missouri\",\"Tennessee\",\"Nevada\",\"Indiana\",\"Minnesota\",\"Oregon\",\"Wisconsin\",\"Louisiana\",\"Oklahoma\",\"South Carolina\",\"New Mexico\",\"Kansas\",\"Alabama\",\"Utah\",\"Kentucky\",\"Ontario\",\"England\",\"Arkansas\",\"Connecticut\",\"US\",\"District of Columbia\",\"Iowa\",\"Idaho\",\"Mississippi\",\"Nebraska\",\"Alberta\",\"Delaware\",\"Hawaii\",\"British Columbia\",\"United States\",\"Rhode Island\",\"New South Wales\",\"New Hampshire\",\"Alaska\",\"\\u00cele-de-France\",\"China\",\"Mexico City\",\"Quebec\",\"Vermont\",\"Montana\",\"Maine\",\"Singapore\",\"Victoria\",\"North Dakota\",\"West Virginia\",\"Wyoming\",\"Bavaria\",\"Baden-W\\u00fcrttemberg\",\"Western Australia\",\"Queensland\",\"North Rhine-Westphalia\",\"Ciudad de M\\u00e9xico\",\"Hesse\",\"Santiago Metropolitan Region\",\"Bogota\",\"Quer\\u00e9taro\",\"Seoul\",\"Delhi\",\"South Korea\",\"Federal Territory of Kuala Lumpur\",\"Brussels\",\"Telangana\",\"Qu\\u00e9bec\",\"Lazio\",\"South Dakota\",\"Berlin\",\"Saskatchewan\",\"Bangkok\",\"Scotland\",\"Taipei City\",\"Zurich\",\"Federal District\",\"Lima Province\",\"Nuevo Le\\u00f3n\",\"Nouvelle-Aquitaine\",\"Sk\\u00e5ne County\",\"Vaud\",\"Manitoba\",\"State of S\\u00e3o Paulo\",\"Rhineland-Palatinate\",\"Provence-Alpes-C\\u00f4te d'Azur\",\"Sindh\",\"Guangdong\",\"New Providence\",\"South Africa\",\"Moscow\",\"Lombardy\",\"Walloon Region\",\"Mexico\",\"Canada\",\"Guatemala\",\"San Juan\",\"Saudi Arabia\",\"Jakarta\",\"Masovian Voivodeship\",\"Saxony\",\"Buenos Aires\",\"North Holland\",\"Makkah Province\",\"Costa Rica\",\"Hong Kong\",\"State of Rio de Janeiro\",\"Wales\",\"Northern Ireland\",\"Lviv Oblast\",\"KR\",\"Limpopo\",\"Israel\",\"Hokkaido Prefecture\",\"Catalonia\",\"Dar es Salaam\",\"Lima Region\",\"London\",\"Helsinki\",\"Ukraine\",\"Antioquia\",\"Hebei\",\"Maha Sarakham\",\"Auckland\",\"Saint John Parish\",\"Cluj County\",\"Hong Kong Island\",\"Istanbul\",\"Guatemala Department\",\"Bucharest\",\"Saint Petersburg\",\"St. Andrew Parish\",\"Veneto\",\"Styria\",\"Sacatep\\u00e9quez Department\",\"Amman Governorate\",\"Tuscany\",\"National District\",\"Haderslev\",\"State of Mexico\",\"Surat Thani\",\"Russia\",\"Schleswig-Holstein\",\"Sverdlovsk Oblast\",\"Tokyo\",\"Ulyanovsk Oblast\",\"Bolivar\",\"Chelyabinsk Oblast\",\"Kalmykia\",\"Hessen\",\"Estado de M\\u00e9xico\",\"Newfoundland and Labrador\",\"South Holland\",\"Varde\",\"Al Asimah Governate\",\"Copenhagen\",\"State of Paran\\u00e1\",\"Long Island\",\"Lucerne\",\"Region of Murcia\",\"Provincia de Alajuela\",\"Germany\",\"Bayam\\u00f3n\",\"S\\u00e3o Paulo\",\"State of Santa Catarina\",\"Nagano\",\"Stockholm County\",\"Campania\",\"Kowloon\",\"Doha\",\"United Kingdom\",\"Taichung City\",\"Guerrero\",\"Veracruz\",\"\\uc11c\\uc6b8\",\"Sonora\",\"Gold Coast\",\"Piemonte\",\"florida\",\"Chon Buri\",\"Tbilisi\",\"Canton of Bern\",\"Baja California\",\"Jalisco\",\"Tolna County\",\"County Meath\",\"Waikato\",\"Hedmark\",\"Daegu\",\"Lower Saxony\",\"Western Cape\",\"Cairo Governorate\",\"Taipei\",\"Geneva\",\"Thessaloniki\",\"Community of Madrid\",\"Attica\",\"Monaco\",\"Auvergne-Rh\\u00f4ne-Alpes\",\"India\",\"GB\",\"Gujarat\",\"Aichi\",\"Bulgaria\",\"Nairobi County\",\"Guanajuato\",\"Northland\",\"Yucat\\u00e1n\",\"Brittany\",\"Guayas\",\"Francisco Moraz\\u00e1n Department\",\"Tamaulipas\",\"Loja\",\"Nicaragua\",\"County Galway\",\"Montevideo Department\",\"San Jos\\u00e9 Province\",\"Arusha Region\",\"New Taipei City\",\"Guayama\",\"Languedoc-Roussillon-Midi-Pyr\\u00e9n\\u00e9es\",\"Osaka\",\"Callao Region\",\"San Fernando\",\"Inner Mongolia\",\"St. Croix\",\"New Brunswick\",\"Nova Scotia\",\"mazowieckie\",\"Chungcheongnam-do\",\"Dubai\",\"Daejeon\",\"Utrecht\",\"Dublin\",\"Australian Capital Territory\",\"Aarhus\",\"Tel Aviv District\",\"Tamuning\",\"Tel Aviv\",\"Overijssel\",\"Toscana\",\"Metropolitan Municipality of Lima\",\"Zhejiang\",\"Emilia-Romagna\",\"San Salvador Department\",\"Center District\",\"Moscow Oblast\",\"Tianjin\",\"Gelderland\",\"Athens\",\"Australia\"],\"type\":\"scattergeo\"}],                        {\"template\":{\"data\":{\"bar\":[{\"error_x\":{\"color\":\"#2a3f5f\"},\"error_y\":{\"color\":\"#2a3f5f\"},\"marker\":{\"line\":{\"color\":\"#E5ECF6\",\"width\":0.5},\"pattern\":{\"fillmode\":\"overlay\",\"size\":10,\"solidity\":0.2}},\"type\":\"bar\"}],\"barpolar\":[{\"marker\":{\"line\":{\"color\":\"#E5ECF6\",\"width\":0.5},\"pattern\":{\"fillmode\":\"overlay\",\"size\":10,\"solidity\":0.2}},\"type\":\"barpolar\"}],\"carpet\":[{\"aaxis\":{\"endlinecolor\":\"#2a3f5f\",\"gridcolor\":\"white\",\"linecolor\":\"white\",\"minorgridcolor\":\"white\",\"startlinecolor\":\"#2a3f5f\"},\"baxis\":{\"endlinecolor\":\"#2a3f5f\",\"gridcolor\":\"white\",\"linecolor\":\"white\",\"minorgridcolor\":\"white\",\"startlinecolor\":\"#2a3f5f\"},\"type\":\"carpet\"}],\"choropleth\":[{\"colorbar\":{\"outlinewidth\":0,\"ticks\":\"\"},\"type\":\"choropleth\"}],\"contour\":[{\"colorbar\":{\"outlinewidth\":0,\"ticks\":\"\"},\"colorscale\":[[0.0,\"#0d0887\"],[0.1111111111111111,\"#46039f\"],[0.2222222222222222,\"#7201a8\"],[0.3333333333333333,\"#9c179e\"],[0.4444444444444444,\"#bd3786\"],[0.5555555555555556,\"#d8576b\"],[0.6666666666666666,\"#ed7953\"],[0.7777777777777778,\"#fb9f3a\"],[0.8888888888888888,\"#fdca26\"],[1.0,\"#f0f921\"]],\"type\":\"contour\"}],\"contourcarpet\":[{\"colorbar\":{\"outlinewidth\":0,\"ticks\":\"\"},\"type\":\"contourcarpet\"}],\"heatmap\":[{\"colorbar\":{\"outlinewidth\":0,\"ticks\":\"\"},\"colorscale\":[[0.0,\"#0d0887\"],[0.1111111111111111,\"#46039f\"],[0.2222222222222222,\"#7201a8\"],[0.3333333333333333,\"#9c179e\"],[0.4444444444444444,\"#bd3786\"],[0.5555555555555556,\"#d8576b\"],[0.6666666666666666,\"#ed7953\"],[0.7777777777777778,\"#fb9f3a\"],[0.8888888888888888,\"#fdca26\"],[1.0,\"#f0f921\"]],\"type\":\"heatmap\"}],\"heatmapgl\":[{\"colorbar\":{\"outlinewidth\":0,\"ticks\":\"\"},\"colorscale\":[[0.0,\"#0d0887\"],[0.1111111111111111,\"#46039f\"],[0.2222222222222222,\"#7201a8\"],[0.3333333333333333,\"#9c179e\"],[0.4444444444444444,\"#bd3786\"],[0.5555555555555556,\"#d8576b\"],[0.6666666666666666,\"#ed7953\"],[0.7777777777777778,\"#fb9f3a\"],[0.8888888888888888,\"#fdca26\"],[1.0,\"#f0f921\"]],\"type\":\"heatmapgl\"}],\"histogram\":[{\"marker\":{\"pattern\":{\"fillmode\":\"overlay\",\"size\":10,\"solidity\":0.2}},\"type\":\"histogram\"}],\"histogram2d\":[{\"colorbar\":{\"outlinewidth\":0,\"ticks\":\"\"},\"colorscale\":[[0.0,\"#0d0887\"],[0.1111111111111111,\"#46039f\"],[0.2222222222222222,\"#7201a8\"],[0.3333333333333333,\"#9c179e\"],[0.4444444444444444,\"#bd3786\"],[0.5555555555555556,\"#d8576b\"],[0.6666666666666666,\"#ed7953\"],[0.7777777777777778,\"#fb9f3a\"],[0.8888888888888888,\"#fdca26\"],[1.0,\"#f0f921\"]],\"type\":\"histogram2d\"}],\"histogram2dcontour\":[{\"colorbar\":{\"outlinewidth\":0,\"ticks\":\"\"},\"colorscale\":[[0.0,\"#0d0887\"],[0.1111111111111111,\"#46039f\"],[0.2222222222222222,\"#7201a8\"],[0.3333333333333333,\"#9c179e\"],[0.4444444444444444,\"#bd3786\"],[0.5555555555555556,\"#d8576b\"],[0.6666666666666666,\"#ed7953\"],[0.7777777777777778,\"#fb9f3a\"],[0.8888888888888888,\"#fdca26\"],[1.0,\"#f0f921\"]],\"type\":\"histogram2dcontour\"}],\"mesh3d\":[{\"colorbar\":{\"outlinewidth\":0,\"ticks\":\"\"},\"type\":\"mesh3d\"}],\"parcoords\":[{\"line\":{\"colorbar\":{\"outlinewidth\":0,\"ticks\":\"\"}},\"type\":\"parcoords\"}],\"pie\":[{\"automargin\":true,\"type\":\"pie\"}],\"scatter\":[{\"marker\":{\"colorbar\":{\"outlinewidth\":0,\"ticks\":\"\"}},\"type\":\"scatter\"}],\"scatter3d\":[{\"line\":{\"colorbar\":{\"outlinewidth\":0,\"ticks\":\"\"}},\"marker\":{\"colorbar\":{\"outlinewidth\":0,\"ticks\":\"\"}},\"type\":\"scatter3d\"}],\"scattercarpet\":[{\"marker\":{\"colorbar\":{\"outlinewidth\":0,\"ticks\":\"\"}},\"type\":\"scattercarpet\"}],\"scattergeo\":[{\"marker\":{\"colorbar\":{\"outlinewidth\":0,\"ticks\":\"\"}},\"type\":\"scattergeo\"}],\"scattergl\":[{\"marker\":{\"colorbar\":{\"outlinewidth\":0,\"ticks\":\"\"}},\"type\":\"scattergl\"}],\"scattermapbox\":[{\"marker\":{\"colorbar\":{\"outlinewidth\":0,\"ticks\":\"\"}},\"type\":\"scattermapbox\"}],\"scatterpolar\":[{\"marker\":{\"colorbar\":{\"outlinewidth\":0,\"ticks\":\"\"}},\"type\":\"scatterpolar\"}],\"scatterpolargl\":[{\"marker\":{\"colorbar\":{\"outlinewidth\":0,\"ticks\":\"\"}},\"type\":\"scatterpolargl\"}],\"scatterternary\":[{\"marker\":{\"colorbar\":{\"outlinewidth\":0,\"ticks\":\"\"}},\"type\":\"scatterternary\"}],\"surface\":[{\"colorbar\":{\"outlinewidth\":0,\"ticks\":\"\"},\"colorscale\":[[0.0,\"#0d0887\"],[0.1111111111111111,\"#46039f\"],[0.2222222222222222,\"#7201a8\"],[0.3333333333333333,\"#9c179e\"],[0.4444444444444444,\"#bd3786\"],[0.5555555555555556,\"#d8576b\"],[0.6666666666666666,\"#ed7953\"],[0.7777777777777778,\"#fb9f3a\"],[0.8888888888888888,\"#fdca26\"],[1.0,\"#f0f921\"]],\"type\":\"surface\"}],\"table\":[{\"cells\":{\"fill\":{\"color\":\"#EBF0F8\"},\"line\":{\"color\":\"white\"}},\"header\":{\"fill\":{\"color\":\"#C8D4E3\"},\"line\":{\"color\":\"white\"}},\"type\":\"table\"}]},\"layout\":{\"annotationdefaults\":{\"arrowcolor\":\"#2a3f5f\",\"arrowhead\":0,\"arrowwidth\":1},\"autotypenumbers\":\"strict\",\"coloraxis\":{\"colorbar\":{\"outlinewidth\":0,\"ticks\":\"\"}},\"colorscale\":{\"diverging\":[[0,\"#8e0152\"],[0.1,\"#c51b7d\"],[0.2,\"#de77ae\"],[0.3,\"#f1b6da\"],[0.4,\"#fde0ef\"],[0.5,\"#f7f7f7\"],[0.6,\"#e6f5d0\"],[0.7,\"#b8e186\"],[0.8,\"#7fbc41\"],[0.9,\"#4d9221\"],[1,\"#276419\"]],\"sequential\":[[0.0,\"#0d0887\"],[0.1111111111111111,\"#46039f\"],[0.2222222222222222,\"#7201a8\"],[0.3333333333333333,\"#9c179e\"],[0.4444444444444444,\"#bd3786\"],[0.5555555555555556,\"#d8576b\"],[0.6666666666666666,\"#ed7953\"],[0.7777777777777778,\"#fb9f3a\"],[0.8888888888888888,\"#fdca26\"],[1.0,\"#f0f921\"]],\"sequentialminus\":[[0.0,\"#0d0887\"],[0.1111111111111111,\"#46039f\"],[0.2222222222222222,\"#7201a8\"],[0.3333333333333333,\"#9c179e\"],[0.4444444444444444,\"#bd3786\"],[0.5555555555555556,\"#d8576b\"],[0.6666666666666666,\"#ed7953\"],[0.7777777777777778,\"#fb9f3a\"],[0.8888888888888888,\"#fdca26\"],[1.0,\"#f0f921\"]]},\"colorway\":[\"#636efa\",\"#EF553B\",\"#00cc96\",\"#ab63fa\",\"#FFA15A\",\"#19d3f3\",\"#FF6692\",\"#B6E880\",\"#FF97FF\",\"#FECB52\"],\"font\":{\"color\":\"#2a3f5f\"},\"geo\":{\"bgcolor\":\"white\",\"lakecolor\":\"white\",\"landcolor\":\"#E5ECF6\",\"showlakes\":true,\"showland\":true,\"subunitcolor\":\"white\"},\"hoverlabel\":{\"align\":\"left\"},\"hovermode\":\"closest\",\"mapbox\":{\"style\":\"light\"},\"paper_bgcolor\":\"white\",\"plot_bgcolor\":\"#E5ECF6\",\"polar\":{\"angularaxis\":{\"gridcolor\":\"white\",\"linecolor\":\"white\",\"ticks\":\"\"},\"bgcolor\":\"#E5ECF6\",\"radialaxis\":{\"gridcolor\":\"white\",\"linecolor\":\"white\",\"ticks\":\"\"}},\"scene\":{\"xaxis\":{\"backgroundcolor\":\"#E5ECF6\",\"gridcolor\":\"white\",\"gridwidth\":2,\"linecolor\":\"white\",\"showbackground\":true,\"ticks\":\"\",\"zerolinecolor\":\"white\"},\"yaxis\":{\"backgroundcolor\":\"#E5ECF6\",\"gridcolor\":\"white\",\"gridwidth\":2,\"linecolor\":\"white\",\"showbackground\":true,\"ticks\":\"\",\"zerolinecolor\":\"white\"},\"zaxis\":{\"backgroundcolor\":\"#E5ECF6\",\"gridcolor\":\"white\",\"gridwidth\":2,\"linecolor\":\"white\",\"showbackground\":true,\"ticks\":\"\",\"zerolinecolor\":\"white\"}},\"shapedefaults\":{\"line\":{\"color\":\"#2a3f5f\"}},\"ternary\":{\"aaxis\":{\"gridcolor\":\"white\",\"linecolor\":\"white\",\"ticks\":\"\"},\"baxis\":{\"gridcolor\":\"white\",\"linecolor\":\"white\",\"ticks\":\"\"},\"bgcolor\":\"#E5ECF6\",\"caxis\":{\"gridcolor\":\"white\",\"linecolor\":\"white\",\"ticks\":\"\"}},\"title\":{\"x\":0.05},\"xaxis\":{\"automargin\":true,\"gridcolor\":\"white\",\"linecolor\":\"white\",\"ticks\":\"\",\"title\":{\"standoff\":15},\"zerolinecolor\":\"white\",\"zerolinewidth\":2},\"yaxis\":{\"automargin\":true,\"gridcolor\":\"white\",\"linecolor\":\"white\",\"ticks\":\"\",\"title\":{\"standoff\":15},\"zerolinecolor\":\"white\",\"zerolinewidth\":2}}},\"geo\":{\"domain\":{\"x\":[0.0,1.0],\"y\":[0.0,1.0]},\"center\":{},\"scope\":\"usa\"},\"coloraxis\":{\"colorbar\":{\"title\":{\"text\":\"count\"}},\"colorscale\":[[0.0,\"#fde725\"],[0.1111111111111111,\"#b5de2b\"],[0.2222222222222222,\"#6ece58\"],[0.3333333333333333,\"#35b779\"],[0.4444444444444444,\"#1f9e89\"],[0.5555555555555556,\"#26828e\"],[0.6666666666666666,\"#31688e\"],[0.7777777777777778,\"#3e4989\"],[0.8888888888888888,\"#482878\"],[1.0,\"#440154\"]]},\"legend\":{\"tracegroupgap\":0},\"margin\":{\"t\":60},\"title\":{\"text\":\"NEGATIVE REVIEWS BY LOCATION\",\"xanchor\":\"center\",\"yanchor\":\"top\",\"x\":0.5},\"width\":1250,\"height\":1250},                        {\"responsive\": true}                    ).then(function(){\n",
       "                            \n",
       "var gd = document.getElementById('01ac1319-db6a-44de-ac62-78dc0182c1f2');\n",
       "var x = new MutationObserver(function (mutations, observer) {{\n",
       "        var display = window.getComputedStyle(gd).display;\n",
       "        if (!display || display === 'none') {{\n",
       "            console.log([gd, 'removed!']);\n",
       "            Plotly.purge(gd);\n",
       "            observer.disconnect();\n",
       "        }}\n",
       "}});\n",
       "\n",
       "// Listen for the removal of the full notebook cells\n",
       "var notebookContainer = gd.closest('#notebook-container');\n",
       "if (notebookContainer) {{\n",
       "    x.observe(notebookContainer, {childList: true});\n",
       "}}\n",
       "\n",
       "// Listen for the clearing of the current output cell\n",
       "var outputEl = gd.closest('.output');\n",
       "if (outputEl) {{\n",
       "    x.observe(outputEl, {childList: true});\n",
       "}}\n",
       "\n",
       "                        })                };                            </script>        </div>\n",
       "</body>\n",
       "</html>"
      ]
     },
     "metadata": {},
     "output_type": "display_data"
    }
   ],
   "source": [
    "#plot the location sisctribution\n",
    "fig = px.choropleth(map_text,\n",
    "                    locations='state', \n",
    "                    locationmode=\"USA-states\", hover_name ='state_full',\n",
    "                    scope=\"usa\",color='count',color_continuous_scale=\"Viridis_r\"\n",
    "                    \n",
    "                    )\n",
    "fig.add_scattergeo(\n",
    "    locations=map_text['state'],\n",
    "    locationmode='USA-states',\n",
    "    text=map_text['state_full'],\n",
    "    mode='text')\n",
    "\n",
    "fig.update_layout(\n",
    "    title={'text':'NEGATIVE REVIEWS BY LOCATION',\n",
    "           'xanchor':'center',\n",
    "           'yanchor':'top',\n",
    "           'x':0.5},width =1250,height=1250)\n",
    "fig.show()"
   ]
  },
  {
   "cell_type": "code",
   "execution_count": null,
   "metadata": {
    "colab": {
     "base_uri": "https://localhost:8080/",
     "height": 542
    },
    "id": "tLZRvy_H8iE9",
    "outputId": "da55a4d3-1d25-46e6-96e9-d6887d205711"
   },
   "outputs": [
    {
     "data": {
      "text/html": [
       "<html>\n",
       "<head><meta charset=\"utf-8\" /></head>\n",
       "<body>\n",
       "    <div>            <script src=\"https://cdnjs.cloudflare.com/ajax/libs/mathjax/2.7.5/MathJax.js?config=TeX-AMS-MML_SVG\"></script><script type=\"text/javascript\">if (window.MathJax) {MathJax.Hub.Config({SVG: {font: \"STIX-Web\"}});}</script>                <script type=\"text/javascript\">window.PlotlyConfig = {MathJaxConfig: 'local'};</script>\n",
       "        <script src=\"https://cdn.plot.ly/plotly-2.8.3.min.js\"></script>                <div id=\"ab07820d-4502-4756-be94-dfbe999274a7\" class=\"plotly-graph-div\" style=\"height:525px; width:100%;\"></div>            <script type=\"text/javascript\">                                    window.PLOTLYENV=window.PLOTLYENV || {};                                    if (document.getElementById(\"ab07820d-4502-4756-be94-dfbe999274a7\")) {                    Plotly.newPlot(                        \"ab07820d-4502-4756-be94-dfbe999274a7\",                        [{\"x\":[\"California\",\"Texas\",\"Florida\",\"New York\",\"Illinois\",\"Pennsylvania\",\"Georgia\",\"North Carolina\",\"Arizona\",\"Washington\"],\"y\":[986,673,399,347,267,229,227,181,180,154],\"type\":\"bar\"}],                        {\"template\":{\"data\":{\"bar\":[{\"error_x\":{\"color\":\"#2a3f5f\"},\"error_y\":{\"color\":\"#2a3f5f\"},\"marker\":{\"line\":{\"color\":\"#E5ECF6\",\"width\":0.5},\"pattern\":{\"fillmode\":\"overlay\",\"size\":10,\"solidity\":0.2}},\"type\":\"bar\"}],\"barpolar\":[{\"marker\":{\"line\":{\"color\":\"#E5ECF6\",\"width\":0.5},\"pattern\":{\"fillmode\":\"overlay\",\"size\":10,\"solidity\":0.2}},\"type\":\"barpolar\"}],\"carpet\":[{\"aaxis\":{\"endlinecolor\":\"#2a3f5f\",\"gridcolor\":\"white\",\"linecolor\":\"white\",\"minorgridcolor\":\"white\",\"startlinecolor\":\"#2a3f5f\"},\"baxis\":{\"endlinecolor\":\"#2a3f5f\",\"gridcolor\":\"white\",\"linecolor\":\"white\",\"minorgridcolor\":\"white\",\"startlinecolor\":\"#2a3f5f\"},\"type\":\"carpet\"}],\"choropleth\":[{\"colorbar\":{\"outlinewidth\":0,\"ticks\":\"\"},\"type\":\"choropleth\"}],\"contour\":[{\"colorbar\":{\"outlinewidth\":0,\"ticks\":\"\"},\"colorscale\":[[0.0,\"#0d0887\"],[0.1111111111111111,\"#46039f\"],[0.2222222222222222,\"#7201a8\"],[0.3333333333333333,\"#9c179e\"],[0.4444444444444444,\"#bd3786\"],[0.5555555555555556,\"#d8576b\"],[0.6666666666666666,\"#ed7953\"],[0.7777777777777778,\"#fb9f3a\"],[0.8888888888888888,\"#fdca26\"],[1.0,\"#f0f921\"]],\"type\":\"contour\"}],\"contourcarpet\":[{\"colorbar\":{\"outlinewidth\":0,\"ticks\":\"\"},\"type\":\"contourcarpet\"}],\"heatmap\":[{\"colorbar\":{\"outlinewidth\":0,\"ticks\":\"\"},\"colorscale\":[[0.0,\"#0d0887\"],[0.1111111111111111,\"#46039f\"],[0.2222222222222222,\"#7201a8\"],[0.3333333333333333,\"#9c179e\"],[0.4444444444444444,\"#bd3786\"],[0.5555555555555556,\"#d8576b\"],[0.6666666666666666,\"#ed7953\"],[0.7777777777777778,\"#fb9f3a\"],[0.8888888888888888,\"#fdca26\"],[1.0,\"#f0f921\"]],\"type\":\"heatmap\"}],\"heatmapgl\":[{\"colorbar\":{\"outlinewidth\":0,\"ticks\":\"\"},\"colorscale\":[[0.0,\"#0d0887\"],[0.1111111111111111,\"#46039f\"],[0.2222222222222222,\"#7201a8\"],[0.3333333333333333,\"#9c179e\"],[0.4444444444444444,\"#bd3786\"],[0.5555555555555556,\"#d8576b\"],[0.6666666666666666,\"#ed7953\"],[0.7777777777777778,\"#fb9f3a\"],[0.8888888888888888,\"#fdca26\"],[1.0,\"#f0f921\"]],\"type\":\"heatmapgl\"}],\"histogram\":[{\"marker\":{\"pattern\":{\"fillmode\":\"overlay\",\"size\":10,\"solidity\":0.2}},\"type\":\"histogram\"}],\"histogram2d\":[{\"colorbar\":{\"outlinewidth\":0,\"ticks\":\"\"},\"colorscale\":[[0.0,\"#0d0887\"],[0.1111111111111111,\"#46039f\"],[0.2222222222222222,\"#7201a8\"],[0.3333333333333333,\"#9c179e\"],[0.4444444444444444,\"#bd3786\"],[0.5555555555555556,\"#d8576b\"],[0.6666666666666666,\"#ed7953\"],[0.7777777777777778,\"#fb9f3a\"],[0.8888888888888888,\"#fdca26\"],[1.0,\"#f0f921\"]],\"type\":\"histogram2d\"}],\"histogram2dcontour\":[{\"colorbar\":{\"outlinewidth\":0,\"ticks\":\"\"},\"colorscale\":[[0.0,\"#0d0887\"],[0.1111111111111111,\"#46039f\"],[0.2222222222222222,\"#7201a8\"],[0.3333333333333333,\"#9c179e\"],[0.4444444444444444,\"#bd3786\"],[0.5555555555555556,\"#d8576b\"],[0.6666666666666666,\"#ed7953\"],[0.7777777777777778,\"#fb9f3a\"],[0.8888888888888888,\"#fdca26\"],[1.0,\"#f0f921\"]],\"type\":\"histogram2dcontour\"}],\"mesh3d\":[{\"colorbar\":{\"outlinewidth\":0,\"ticks\":\"\"},\"type\":\"mesh3d\"}],\"parcoords\":[{\"line\":{\"colorbar\":{\"outlinewidth\":0,\"ticks\":\"\"}},\"type\":\"parcoords\"}],\"pie\":[{\"automargin\":true,\"type\":\"pie\"}],\"scatter\":[{\"marker\":{\"colorbar\":{\"outlinewidth\":0,\"ticks\":\"\"}},\"type\":\"scatter\"}],\"scatter3d\":[{\"line\":{\"colorbar\":{\"outlinewidth\":0,\"ticks\":\"\"}},\"marker\":{\"colorbar\":{\"outlinewidth\":0,\"ticks\":\"\"}},\"type\":\"scatter3d\"}],\"scattercarpet\":[{\"marker\":{\"colorbar\":{\"outlinewidth\":0,\"ticks\":\"\"}},\"type\":\"scattercarpet\"}],\"scattergeo\":[{\"marker\":{\"colorbar\":{\"outlinewidth\":0,\"ticks\":\"\"}},\"type\":\"scattergeo\"}],\"scattergl\":[{\"marker\":{\"colorbar\":{\"outlinewidth\":0,\"ticks\":\"\"}},\"type\":\"scattergl\"}],\"scattermapbox\":[{\"marker\":{\"colorbar\":{\"outlinewidth\":0,\"ticks\":\"\"}},\"type\":\"scattermapbox\"}],\"scatterpolar\":[{\"marker\":{\"colorbar\":{\"outlinewidth\":0,\"ticks\":\"\"}},\"type\":\"scatterpolar\"}],\"scatterpolargl\":[{\"marker\":{\"colorbar\":{\"outlinewidth\":0,\"ticks\":\"\"}},\"type\":\"scatterpolargl\"}],\"scatterternary\":[{\"marker\":{\"colorbar\":{\"outlinewidth\":0,\"ticks\":\"\"}},\"type\":\"scatterternary\"}],\"surface\":[{\"colorbar\":{\"outlinewidth\":0,\"ticks\":\"\"},\"colorscale\":[[0.0,\"#0d0887\"],[0.1111111111111111,\"#46039f\"],[0.2222222222222222,\"#7201a8\"],[0.3333333333333333,\"#9c179e\"],[0.4444444444444444,\"#bd3786\"],[0.5555555555555556,\"#d8576b\"],[0.6666666666666666,\"#ed7953\"],[0.7777777777777778,\"#fb9f3a\"],[0.8888888888888888,\"#fdca26\"],[1.0,\"#f0f921\"]],\"type\":\"surface\"}],\"table\":[{\"cells\":{\"fill\":{\"color\":\"#EBF0F8\"},\"line\":{\"color\":\"white\"}},\"header\":{\"fill\":{\"color\":\"#C8D4E3\"},\"line\":{\"color\":\"white\"}},\"type\":\"table\"}]},\"layout\":{\"annotationdefaults\":{\"arrowcolor\":\"#2a3f5f\",\"arrowhead\":0,\"arrowwidth\":1},\"autotypenumbers\":\"strict\",\"coloraxis\":{\"colorbar\":{\"outlinewidth\":0,\"ticks\":\"\"}},\"colorscale\":{\"diverging\":[[0,\"#8e0152\"],[0.1,\"#c51b7d\"],[0.2,\"#de77ae\"],[0.3,\"#f1b6da\"],[0.4,\"#fde0ef\"],[0.5,\"#f7f7f7\"],[0.6,\"#e6f5d0\"],[0.7,\"#b8e186\"],[0.8,\"#7fbc41\"],[0.9,\"#4d9221\"],[1,\"#276419\"]],\"sequential\":[[0.0,\"#0d0887\"],[0.1111111111111111,\"#46039f\"],[0.2222222222222222,\"#7201a8\"],[0.3333333333333333,\"#9c179e\"],[0.4444444444444444,\"#bd3786\"],[0.5555555555555556,\"#d8576b\"],[0.6666666666666666,\"#ed7953\"],[0.7777777777777778,\"#fb9f3a\"],[0.8888888888888888,\"#fdca26\"],[1.0,\"#f0f921\"]],\"sequentialminus\":[[0.0,\"#0d0887\"],[0.1111111111111111,\"#46039f\"],[0.2222222222222222,\"#7201a8\"],[0.3333333333333333,\"#9c179e\"],[0.4444444444444444,\"#bd3786\"],[0.5555555555555556,\"#d8576b\"],[0.6666666666666666,\"#ed7953\"],[0.7777777777777778,\"#fb9f3a\"],[0.8888888888888888,\"#fdca26\"],[1.0,\"#f0f921\"]]},\"colorway\":[\"#636efa\",\"#EF553B\",\"#00cc96\",\"#ab63fa\",\"#FFA15A\",\"#19d3f3\",\"#FF6692\",\"#B6E880\",\"#FF97FF\",\"#FECB52\"],\"font\":{\"color\":\"#2a3f5f\"},\"geo\":{\"bgcolor\":\"white\",\"lakecolor\":\"white\",\"landcolor\":\"#E5ECF6\",\"showlakes\":true,\"showland\":true,\"subunitcolor\":\"white\"},\"hoverlabel\":{\"align\":\"left\"},\"hovermode\":\"closest\",\"mapbox\":{\"style\":\"light\"},\"paper_bgcolor\":\"white\",\"plot_bgcolor\":\"#E5ECF6\",\"polar\":{\"angularaxis\":{\"gridcolor\":\"white\",\"linecolor\":\"white\",\"ticks\":\"\"},\"bgcolor\":\"#E5ECF6\",\"radialaxis\":{\"gridcolor\":\"white\",\"linecolor\":\"white\",\"ticks\":\"\"}},\"scene\":{\"xaxis\":{\"backgroundcolor\":\"#E5ECF6\",\"gridcolor\":\"white\",\"gridwidth\":2,\"linecolor\":\"white\",\"showbackground\":true,\"ticks\":\"\",\"zerolinecolor\":\"white\"},\"yaxis\":{\"backgroundcolor\":\"#E5ECF6\",\"gridcolor\":\"white\",\"gridwidth\":2,\"linecolor\":\"white\",\"showbackground\":true,\"ticks\":\"\",\"zerolinecolor\":\"white\"},\"zaxis\":{\"backgroundcolor\":\"#E5ECF6\",\"gridcolor\":\"white\",\"gridwidth\":2,\"linecolor\":\"white\",\"showbackground\":true,\"ticks\":\"\",\"zerolinecolor\":\"white\"}},\"shapedefaults\":{\"line\":{\"color\":\"#2a3f5f\"}},\"ternary\":{\"aaxis\":{\"gridcolor\":\"white\",\"linecolor\":\"white\",\"ticks\":\"\"},\"baxis\":{\"gridcolor\":\"white\",\"linecolor\":\"white\",\"ticks\":\"\"},\"bgcolor\":\"#E5ECF6\",\"caxis\":{\"gridcolor\":\"white\",\"linecolor\":\"white\",\"ticks\":\"\"}},\"title\":{\"x\":0.05},\"xaxis\":{\"automargin\":true,\"gridcolor\":\"white\",\"linecolor\":\"white\",\"ticks\":\"\",\"title\":{\"standoff\":15},\"zerolinecolor\":\"white\",\"zerolinewidth\":2},\"yaxis\":{\"automargin\":true,\"gridcolor\":\"white\",\"linecolor\":\"white\",\"ticks\":\"\",\"title\":{\"standoff\":15},\"zerolinecolor\":\"white\",\"zerolinewidth\":2}}},\"title\":{\"text\":\"Top 10 States with Negative Reviews\",\"xanchor\":\"center\",\"yanchor\":\"top\",\"x\":0.5}},                        {\"responsive\": true}                    ).then(function(){\n",
       "                            \n",
       "var gd = document.getElementById('ab07820d-4502-4756-be94-dfbe999274a7');\n",
       "var x = new MutationObserver(function (mutations, observer) {{\n",
       "        var display = window.getComputedStyle(gd).display;\n",
       "        if (!display || display === 'none') {{\n",
       "            console.log([gd, 'removed!']);\n",
       "            Plotly.purge(gd);\n",
       "            observer.disconnect();\n",
       "        }}\n",
       "}});\n",
       "\n",
       "// Listen for the removal of the full notebook cells\n",
       "var notebookContainer = gd.closest('#notebook-container');\n",
       "if (notebookContainer) {{\n",
       "    x.observe(notebookContainer, {childList: true});\n",
       "}}\n",
       "\n",
       "// Listen for the clearing of the current output cell\n",
       "var outputEl = gd.closest('.output');\n",
       "if (outputEl) {{\n",
       "    x.observe(outputEl, {childList: true});\n",
       "}}\n",
       "\n",
       "                        })                };                            </script>        </div>\n",
       "</body>\n",
       "</html>"
      ]
     },
     "metadata": {},
     "output_type": "display_data"
    }
   ],
   "source": [
    "import plotly.graph_objects as go\n",
    "import plotly.offline as pyo\n",
    "from plotly.offline import init_notebook_mode\n",
    "\n",
    "fig = go.Figure([go.Bar(x=map_text['state_full'][0:10],\n",
    "                        y=map_text['count'][0:10])])\n",
    "fig.update_layout(\n",
    "    title={'text':'Top 10 States with Negative Reviews',\n",
    "           'xanchor':'center',\n",
    "           'yanchor':'top',\n",
    "           'x':0.5})\n",
    " \n",
    "fig.show()"
   ]
  },
  {
   "cell_type": "markdown",
   "metadata": {
    "id": "A7KCz4CM_IP4"
   },
   "source": [
    "Insights\n",
    "1. The state with most negative reviews is California\n",
    "2. Cities that are popular tend to have the most negative reviews"
   ]
  },
  {
   "cell_type": "code",
   "execution_count": null,
   "metadata": {
    "id": "6g7rLBqhMsk5"
   },
   "outputs": [],
   "source": []
  },
  {
   "cell_type": "markdown",
   "metadata": {
    "id": "mtWZzq_UNzVc"
   },
   "source": [
    "## NEGATIVE REVIEWS BY GENDER"
   ]
  },
  {
   "cell_type": "code",
   "execution_count": null,
   "metadata": {
    "colab": {
     "base_uri": "https://localhost:8080/"
    },
    "id": "QjH5-HzoN3Bk",
    "outputId": "b35d873e-e593-432a-89e8-8bb930bf20f8"
   },
   "outputs": [
    {
     "data": {
      "text/plain": [
       "Man      5074\n",
       "Woman    1434\n",
       "Name: Gender, dtype: int64"
      ]
     },
     "execution_count": 66,
     "metadata": {},
     "output_type": "execute_result"
    }
   ],
   "source": [
    "df['Gender'].value_counts()"
   ]
  },
  {
   "cell_type": "code",
   "execution_count": null,
   "metadata": {
    "colab": {
     "base_uri": "https://localhost:8080/",
     "height": 542
    },
    "id": "2wMZT-7YN8ew",
    "outputId": "f5470460-3d70-4cee-8da3-379123a2e8e0"
   },
   "outputs": [
    {
     "data": {
      "text/html": [
       "<html>\n",
       "<head><meta charset=\"utf-8\" /></head>\n",
       "<body>\n",
       "    <div>            <script src=\"https://cdnjs.cloudflare.com/ajax/libs/mathjax/2.7.5/MathJax.js?config=TeX-AMS-MML_SVG\"></script><script type=\"text/javascript\">if (window.MathJax) {MathJax.Hub.Config({SVG: {font: \"STIX-Web\"}});}</script>                <script type=\"text/javascript\">window.PlotlyConfig = {MathJaxConfig: 'local'};</script>\n",
       "        <script src=\"https://cdn.plot.ly/plotly-2.8.3.min.js\"></script>                <div id=\"3cfecd8a-3473-4622-9666-f65632169f96\" class=\"plotly-graph-div\" style=\"height:525px; width:100%;\"></div>            <script type=\"text/javascript\">                                    window.PLOTLYENV=window.PLOTLYENV || {};                                    if (document.getElementById(\"3cfecd8a-3473-4622-9666-f65632169f96\")) {                    Plotly.newPlot(                        \"3cfecd8a-3473-4622-9666-f65632169f96\",                        [{\"labels\":[\"Man\",\"Woman\"],\"values\":[5074,1434],\"type\":\"pie\"}],                        {\"template\":{\"data\":{\"bar\":[{\"error_x\":{\"color\":\"#2a3f5f\"},\"error_y\":{\"color\":\"#2a3f5f\"},\"marker\":{\"line\":{\"color\":\"#E5ECF6\",\"width\":0.5},\"pattern\":{\"fillmode\":\"overlay\",\"size\":10,\"solidity\":0.2}},\"type\":\"bar\"}],\"barpolar\":[{\"marker\":{\"line\":{\"color\":\"#E5ECF6\",\"width\":0.5},\"pattern\":{\"fillmode\":\"overlay\",\"size\":10,\"solidity\":0.2}},\"type\":\"barpolar\"}],\"carpet\":[{\"aaxis\":{\"endlinecolor\":\"#2a3f5f\",\"gridcolor\":\"white\",\"linecolor\":\"white\",\"minorgridcolor\":\"white\",\"startlinecolor\":\"#2a3f5f\"},\"baxis\":{\"endlinecolor\":\"#2a3f5f\",\"gridcolor\":\"white\",\"linecolor\":\"white\",\"minorgridcolor\":\"white\",\"startlinecolor\":\"#2a3f5f\"},\"type\":\"carpet\"}],\"choropleth\":[{\"colorbar\":{\"outlinewidth\":0,\"ticks\":\"\"},\"type\":\"choropleth\"}],\"contour\":[{\"colorbar\":{\"outlinewidth\":0,\"ticks\":\"\"},\"colorscale\":[[0.0,\"#0d0887\"],[0.1111111111111111,\"#46039f\"],[0.2222222222222222,\"#7201a8\"],[0.3333333333333333,\"#9c179e\"],[0.4444444444444444,\"#bd3786\"],[0.5555555555555556,\"#d8576b\"],[0.6666666666666666,\"#ed7953\"],[0.7777777777777778,\"#fb9f3a\"],[0.8888888888888888,\"#fdca26\"],[1.0,\"#f0f921\"]],\"type\":\"contour\"}],\"contourcarpet\":[{\"colorbar\":{\"outlinewidth\":0,\"ticks\":\"\"},\"type\":\"contourcarpet\"}],\"heatmap\":[{\"colorbar\":{\"outlinewidth\":0,\"ticks\":\"\"},\"colorscale\":[[0.0,\"#0d0887\"],[0.1111111111111111,\"#46039f\"],[0.2222222222222222,\"#7201a8\"],[0.3333333333333333,\"#9c179e\"],[0.4444444444444444,\"#bd3786\"],[0.5555555555555556,\"#d8576b\"],[0.6666666666666666,\"#ed7953\"],[0.7777777777777778,\"#fb9f3a\"],[0.8888888888888888,\"#fdca26\"],[1.0,\"#f0f921\"]],\"type\":\"heatmap\"}],\"heatmapgl\":[{\"colorbar\":{\"outlinewidth\":0,\"ticks\":\"\"},\"colorscale\":[[0.0,\"#0d0887\"],[0.1111111111111111,\"#46039f\"],[0.2222222222222222,\"#7201a8\"],[0.3333333333333333,\"#9c179e\"],[0.4444444444444444,\"#bd3786\"],[0.5555555555555556,\"#d8576b\"],[0.6666666666666666,\"#ed7953\"],[0.7777777777777778,\"#fb9f3a\"],[0.8888888888888888,\"#fdca26\"],[1.0,\"#f0f921\"]],\"type\":\"heatmapgl\"}],\"histogram\":[{\"marker\":{\"pattern\":{\"fillmode\":\"overlay\",\"size\":10,\"solidity\":0.2}},\"type\":\"histogram\"}],\"histogram2d\":[{\"colorbar\":{\"outlinewidth\":0,\"ticks\":\"\"},\"colorscale\":[[0.0,\"#0d0887\"],[0.1111111111111111,\"#46039f\"],[0.2222222222222222,\"#7201a8\"],[0.3333333333333333,\"#9c179e\"],[0.4444444444444444,\"#bd3786\"],[0.5555555555555556,\"#d8576b\"],[0.6666666666666666,\"#ed7953\"],[0.7777777777777778,\"#fb9f3a\"],[0.8888888888888888,\"#fdca26\"],[1.0,\"#f0f921\"]],\"type\":\"histogram2d\"}],\"histogram2dcontour\":[{\"colorbar\":{\"outlinewidth\":0,\"ticks\":\"\"},\"colorscale\":[[0.0,\"#0d0887\"],[0.1111111111111111,\"#46039f\"],[0.2222222222222222,\"#7201a8\"],[0.3333333333333333,\"#9c179e\"],[0.4444444444444444,\"#bd3786\"],[0.5555555555555556,\"#d8576b\"],[0.6666666666666666,\"#ed7953\"],[0.7777777777777778,\"#fb9f3a\"],[0.8888888888888888,\"#fdca26\"],[1.0,\"#f0f921\"]],\"type\":\"histogram2dcontour\"}],\"mesh3d\":[{\"colorbar\":{\"outlinewidth\":0,\"ticks\":\"\"},\"type\":\"mesh3d\"}],\"parcoords\":[{\"line\":{\"colorbar\":{\"outlinewidth\":0,\"ticks\":\"\"}},\"type\":\"parcoords\"}],\"pie\":[{\"automargin\":true,\"type\":\"pie\"}],\"scatter\":[{\"marker\":{\"colorbar\":{\"outlinewidth\":0,\"ticks\":\"\"}},\"type\":\"scatter\"}],\"scatter3d\":[{\"line\":{\"colorbar\":{\"outlinewidth\":0,\"ticks\":\"\"}},\"marker\":{\"colorbar\":{\"outlinewidth\":0,\"ticks\":\"\"}},\"type\":\"scatter3d\"}],\"scattercarpet\":[{\"marker\":{\"colorbar\":{\"outlinewidth\":0,\"ticks\":\"\"}},\"type\":\"scattercarpet\"}],\"scattergeo\":[{\"marker\":{\"colorbar\":{\"outlinewidth\":0,\"ticks\":\"\"}},\"type\":\"scattergeo\"}],\"scattergl\":[{\"marker\":{\"colorbar\":{\"outlinewidth\":0,\"ticks\":\"\"}},\"type\":\"scattergl\"}],\"scattermapbox\":[{\"marker\":{\"colorbar\":{\"outlinewidth\":0,\"ticks\":\"\"}},\"type\":\"scattermapbox\"}],\"scatterpolar\":[{\"marker\":{\"colorbar\":{\"outlinewidth\":0,\"ticks\":\"\"}},\"type\":\"scatterpolar\"}],\"scatterpolargl\":[{\"marker\":{\"colorbar\":{\"outlinewidth\":0,\"ticks\":\"\"}},\"type\":\"scatterpolargl\"}],\"scatterternary\":[{\"marker\":{\"colorbar\":{\"outlinewidth\":0,\"ticks\":\"\"}},\"type\":\"scatterternary\"}],\"surface\":[{\"colorbar\":{\"outlinewidth\":0,\"ticks\":\"\"},\"colorscale\":[[0.0,\"#0d0887\"],[0.1111111111111111,\"#46039f\"],[0.2222222222222222,\"#7201a8\"],[0.3333333333333333,\"#9c179e\"],[0.4444444444444444,\"#bd3786\"],[0.5555555555555556,\"#d8576b\"],[0.6666666666666666,\"#ed7953\"],[0.7777777777777778,\"#fb9f3a\"],[0.8888888888888888,\"#fdca26\"],[1.0,\"#f0f921\"]],\"type\":\"surface\"}],\"table\":[{\"cells\":{\"fill\":{\"color\":\"#EBF0F8\"},\"line\":{\"color\":\"white\"}},\"header\":{\"fill\":{\"color\":\"#C8D4E3\"},\"line\":{\"color\":\"white\"}},\"type\":\"table\"}]},\"layout\":{\"annotationdefaults\":{\"arrowcolor\":\"#2a3f5f\",\"arrowhead\":0,\"arrowwidth\":1},\"autotypenumbers\":\"strict\",\"coloraxis\":{\"colorbar\":{\"outlinewidth\":0,\"ticks\":\"\"}},\"colorscale\":{\"diverging\":[[0,\"#8e0152\"],[0.1,\"#c51b7d\"],[0.2,\"#de77ae\"],[0.3,\"#f1b6da\"],[0.4,\"#fde0ef\"],[0.5,\"#f7f7f7\"],[0.6,\"#e6f5d0\"],[0.7,\"#b8e186\"],[0.8,\"#7fbc41\"],[0.9,\"#4d9221\"],[1,\"#276419\"]],\"sequential\":[[0.0,\"#0d0887\"],[0.1111111111111111,\"#46039f\"],[0.2222222222222222,\"#7201a8\"],[0.3333333333333333,\"#9c179e\"],[0.4444444444444444,\"#bd3786\"],[0.5555555555555556,\"#d8576b\"],[0.6666666666666666,\"#ed7953\"],[0.7777777777777778,\"#fb9f3a\"],[0.8888888888888888,\"#fdca26\"],[1.0,\"#f0f921\"]],\"sequentialminus\":[[0.0,\"#0d0887\"],[0.1111111111111111,\"#46039f\"],[0.2222222222222222,\"#7201a8\"],[0.3333333333333333,\"#9c179e\"],[0.4444444444444444,\"#bd3786\"],[0.5555555555555556,\"#d8576b\"],[0.6666666666666666,\"#ed7953\"],[0.7777777777777778,\"#fb9f3a\"],[0.8888888888888888,\"#fdca26\"],[1.0,\"#f0f921\"]]},\"colorway\":[\"#636efa\",\"#EF553B\",\"#00cc96\",\"#ab63fa\",\"#FFA15A\",\"#19d3f3\",\"#FF6692\",\"#B6E880\",\"#FF97FF\",\"#FECB52\"],\"font\":{\"color\":\"#2a3f5f\"},\"geo\":{\"bgcolor\":\"white\",\"lakecolor\":\"white\",\"landcolor\":\"#E5ECF6\",\"showlakes\":true,\"showland\":true,\"subunitcolor\":\"white\"},\"hoverlabel\":{\"align\":\"left\"},\"hovermode\":\"closest\",\"mapbox\":{\"style\":\"light\"},\"paper_bgcolor\":\"white\",\"plot_bgcolor\":\"#E5ECF6\",\"polar\":{\"angularaxis\":{\"gridcolor\":\"white\",\"linecolor\":\"white\",\"ticks\":\"\"},\"bgcolor\":\"#E5ECF6\",\"radialaxis\":{\"gridcolor\":\"white\",\"linecolor\":\"white\",\"ticks\":\"\"}},\"scene\":{\"xaxis\":{\"backgroundcolor\":\"#E5ECF6\",\"gridcolor\":\"white\",\"gridwidth\":2,\"linecolor\":\"white\",\"showbackground\":true,\"ticks\":\"\",\"zerolinecolor\":\"white\"},\"yaxis\":{\"backgroundcolor\":\"#E5ECF6\",\"gridcolor\":\"white\",\"gridwidth\":2,\"linecolor\":\"white\",\"showbackground\":true,\"ticks\":\"\",\"zerolinecolor\":\"white\"},\"zaxis\":{\"backgroundcolor\":\"#E5ECF6\",\"gridcolor\":\"white\",\"gridwidth\":2,\"linecolor\":\"white\",\"showbackground\":true,\"ticks\":\"\",\"zerolinecolor\":\"white\"}},\"shapedefaults\":{\"line\":{\"color\":\"#2a3f5f\"}},\"ternary\":{\"aaxis\":{\"gridcolor\":\"white\",\"linecolor\":\"white\",\"ticks\":\"\"},\"baxis\":{\"gridcolor\":\"white\",\"linecolor\":\"white\",\"ticks\":\"\"},\"bgcolor\":\"#E5ECF6\",\"caxis\":{\"gridcolor\":\"white\",\"linecolor\":\"white\",\"ticks\":\"\"}},\"title\":{\"x\":0.05},\"xaxis\":{\"automargin\":true,\"gridcolor\":\"white\",\"linecolor\":\"white\",\"ticks\":\"\",\"title\":{\"standoff\":15},\"zerolinecolor\":\"white\",\"zerolinewidth\":2},\"yaxis\":{\"automargin\":true,\"gridcolor\":\"white\",\"linecolor\":\"white\",\"ticks\":\"\",\"title\":{\"standoff\":15},\"zerolinecolor\":\"white\",\"zerolinewidth\":2}}},\"title\":{\"text\":\" Negative Reviews By Gender\",\"xanchor\":\"center\",\"yanchor\":\"top\",\"x\":0.5}},                        {\"responsive\": true}                    ).then(function(){\n",
       "                            \n",
       "var gd = document.getElementById('3cfecd8a-3473-4622-9666-f65632169f96');\n",
       "var x = new MutationObserver(function (mutations, observer) {{\n",
       "        var display = window.getComputedStyle(gd).display;\n",
       "        if (!display || display === 'none') {{\n",
       "            console.log([gd, 'removed!']);\n",
       "            Plotly.purge(gd);\n",
       "            observer.disconnect();\n",
       "        }}\n",
       "}});\n",
       "\n",
       "// Listen for the removal of the full notebook cells\n",
       "var notebookContainer = gd.closest('#notebook-container');\n",
       "if (notebookContainer) {{\n",
       "    x.observe(notebookContainer, {childList: true});\n",
       "}}\n",
       "\n",
       "// Listen for the clearing of the current output cell\n",
       "var outputEl = gd.closest('.output');\n",
       "if (outputEl) {{\n",
       "    x.observe(outputEl, {childList: true});\n",
       "}}\n",
       "\n",
       "                        })                };                            </script>        </div>\n",
       "</body>\n",
       "</html>"
      ]
     },
     "metadata": {},
     "output_type": "display_data"
    }
   ],
   "source": [
    "label =['Man', 'Woman']\n",
    "value = [5074,1434]\n",
    "fig = go.Figure(data=[go.Pie(labels=label,\n",
    "                      values=value)])\n",
    "fig.update_layout(\n",
    "    title={'text':' Negative Reviews By Gender',\n",
    "           'xanchor':'center',\n",
    "           'yanchor':'top',\n",
    "           'x':0.5})\n",
    " \n",
    "fig.show()"
   ]
  },
  {
   "cell_type": "code",
   "execution_count": null,
   "metadata": {
    "id": "AMuiHpp3ON2P"
   },
   "outputs": [],
   "source": []
  },
  {
   "cell_type": "markdown",
   "metadata": {
    "id": "JPoqFsm5_oCv"
   },
   "source": [
    "Insights\n",
    "1. 78% of users giving the negative reviews are men and 22% are women\n",
    "2. It is highly expected as men tend to host their female partners more often"
   ]
  },
  {
   "cell_type": "markdown",
   "metadata": {
    "id": "zAF26DRzO_30"
   },
   "source": [
    "## NEGATIVE REVIEWS BY AGE"
   ]
  },
  {
   "cell_type": "markdown",
   "metadata": {
    "id": "QDY4uTqmPACt"
   },
   "source": []
  },
  {
   "cell_type": "code",
   "execution_count": null,
   "metadata": {
    "colab": {
     "base_uri": "https://localhost:8080/",
     "height": 542
    },
    "id": "qvHhQdXBPIUV",
    "outputId": "0239e756-9be1-4da6-e29b-c81c7159d36e"
   },
   "outputs": [
    {
     "data": {
      "text/html": [
       "<html>\n",
       "<head><meta charset=\"utf-8\" /></head>\n",
       "<body>\n",
       "    <div>            <script src=\"https://cdnjs.cloudflare.com/ajax/libs/mathjax/2.7.5/MathJax.js?config=TeX-AMS-MML_SVG\"></script><script type=\"text/javascript\">if (window.MathJax) {MathJax.Hub.Config({SVG: {font: \"STIX-Web\"}});}</script>                <script type=\"text/javascript\">window.PlotlyConfig = {MathJaxConfig: 'local'};</script>\n",
       "        <script src=\"https://cdn.plot.ly/plotly-2.8.3.min.js\"></script>                <div id=\"697bc53a-2d37-4fad-844a-a81a7116ab3d\" class=\"plotly-graph-div\" style=\"height:525px; width:100%;\"></div>            <script type=\"text/javascript\">                                    window.PLOTLYENV=window.PLOTLYENV || {};                                    if (document.getElementById(\"697bc53a-2d37-4fad-844a-a81a7116ab3d\")) {                    Plotly.newPlot(                        \"697bc53a-2d37-4fad-844a-a81a7116ab3d\",                        [{\"x\":[29.0,28.0,30.0,29.0,34.0,33.0,31.0,22.0,37.0,21.0,31.0,29.0,37.0,31.0,33.0,25.0,25.0,33.0,32.0,25.0,26.0,29.0,22.0,32.0,38.0,38.0,28.0,32.0,34.0,35.0,27.0,29.0,33.0,27.0,38.0,33.0,41.0,27.0,31.0,27.0,29.0,34.0,31.0,25.0,26.0,25.0,51.0,32.0,33.0,35.0,38.0,29.0,26.0,30.0,28.0,27.0,28.0,41.0,32.0,36.0,29.0,30.0,34.0,40.0,24.0,32.0,42.0,30.0,26.0,27.0,23.0,28.0,26.0,30.0,30.0,30.0,27.0,29.0,32.0,29.0,23.0,34.0,40.0,28.0,27.0,35.0,34.0,35.0,41.0,34.0,37.0,27.0,37.0,30.0,30.0,27.0,29.0,27.0,26.0,36.0,28.0,35.0,34.0,23.0,33.0,32.0,34.0,36.0,23.0,28.0,39.0,31.0,41.0,40.0,25.0,33.0,24.0,24.0,32.0,22.0,23.0,27.0,39.0,25.0,34.0,25.0,31.0,36.0,33.0,29.0,21.0,28.0,32.0,26.0,31.0,25.0,24.0,26.0,39.0,34.0,32.0,25.0,26.0,33.0,25.0,38.0,36.0,33.0,35.0,24.0,28.0,33.0,31.0,28.0,23.0,30.0,23.0,36.0,31.0,30.0,49.0,31.0,31.0,22.0,34.0,32.0,28.0,28.0,23.0,27.0,25.0,34.0,24.0,29.0,30.0,30.0,45.0,25.0,33.0,32.0,45.0,30.0,35.0,31.0,28.0,26.0,32.0,33.0,25.0,38.0,42.0,32.0,23.0,24.0,39.0,23.0,21.0,51.0,36.0,32.0,29.0,37.0,37.0,27.0,30.0,22.0,34.0,45.0,25.0,32.0,30.0,30.0,41.0,32.0,26.0,26.0,26.0,39.0,29.0,27.0,46.0,33.0,33.0,35.0,30.0,23.0,31.0,24.0,28.0,39.0,32.0,30.0,26.0,22.0,32.0,38.0,32.0,37.0,31.0,34.0,31.0,23.0,28.0,32.0,40.0,34.0,29.0,26.0,24.0,38.0,37.0,31.0,25.0,34.0,42.0,24.0,30.0,26.0,33.0,28.0,25.0,24.0,35.0,25.0,29.0,27.0,31.0,25.0,34.0,26.0,31.0,32.0,25.0,31.0,25.0,31.0,25.0,34.0,36.0,31.0,23.0,26.0,29.0,25.0,41.0,29.0,23.0,37.0,28.0,28.0,30.0,24.0,27.0,26.0,26.0,31.0,44.0,29.0,24.0,31.0,24.0,36.0,31.0,33.0,40.0,32.0,36.0,28.0,29.0,31.0,30.0,33.0,36.0,33.0,32.0,38.0,35.0,34.0,30.0,23.0,39.0,37.0,26.0,26.0,26.0,32.0,31.0,31.0,30.0,29.0,31.0,31.0,27.0,43.0,28.0,30.0,36.0,48.0,25.0,22.0,35.0,25.0,32.0,39.0,24.0,23.0,36.0,34.0,25.0,31.0,24.0,28.0,24.0,33.0,27.0,28.0,31.0,32.0,25.0,27.0,30.0,29.0,25.0,32.0,28.0,33.0,30.0,37.0,26.0,25.0,32.0,26.0,34.0,41.0,31.0,26.0,48.0,26.0,25.0,25.0,40.0,27.0,22.0,36.0,27.0,32.0,24.0,24.0,24.0,34.0,48.0,38.0,30.0,22.0,28.0,31.0,30.0,30.0,29.0,27.0,28.0,24.0,32.0,34.0,33.0,25.0,23.0,30.0,31.0,32.0,35.0,21.0,40.0,27.0,34.0,31.0,39.0,33.0,27.0,35.0,31.0,36.0,36.0,32.0,30.0,29.0,27.0,48.0,30.0,31.0,29.0,24.0,23.0,27.0,27.0,30.0,33.0,27.0,30.0,27.0,27.0,26.0,43.0,27.0,39.0,32.0,34.0,29.0,44.0,30.0,40.0,32.0,29.0,32.0,32.0,26.0,40.0,35.0,31.0,33.0,32.0,27.0,31.0,26.0,27.0,33.0,28.0,31.0,27.0,31.0,31.0,36.0,25.0,34.0,31.0,32.0,25.0,29.0,35.0,24.0,26.0,33.0,34.0,23.0,25.0,31.0,29.0,26.0,42.0,33.0,27.0,30.0,35.0,30.0,22.0,37.0,31.0,40.0,29.0,26.0,32.0,42.0,29.0,34.0,25.0,33.0,25.0,27.0,28.0,30.0,30.0,30.0,27.0,35.0,33.0,27.0,24.0,23.0,24.0,31.0,27.0,28.0,28.0,33.0,28.0,26.0,24.0,33.0,28.0,29.0,29.0,24.0,24.0,31.0,27.0,30.0,43.0,23.0,37.0,28.0,28.0,41.0,36.0,33.0,25.0,30.0,26.0,32.0,26.0,40.0,38.0,35.0,23.0,29.0,22.0,35.0,31.0,35.0,26.0,25.0,26.0,24.0,24.0,32.0,32.0,27.0,28.0,33.0,33.0,33.0,23.0,31.0,38.0,30.0,27.0,29.0,30.0,32.0,31.0,42.0,29.0,36.0,28.0,28.0,24.0,43.0,32.0,31.0,37.0,23.0,26.0,32.0,25.0,25.0,32.0,25.0,27.0,28.0,30.0,26.0,35.0,27.0,33.0,38.0,29.0,24.0,27.0,26.0,30.0,39.0,28.0,31.0,34.0,28.0,28.0,27.0,31.0,34.0,28.0,29.0,32.0,37.0,25.0,32.0,33.0,28.0,28.0,27.0,33.0,26.0,32.0,25.0,34.0,29.0,37.0,36.0,24.0,25.0,28.0,26.0,34.0,30.0,34.0,27.0,32.0,36.0,24.0,33.0,25.0,28.0,33.0,27.0,27.0,26.0,26.0,27.0,33.0,39.0,25.0,34.0,23.0,38.0,33.0,21.0,31.0,29.0,28.0,39.0,30.0,24.0,27.0,29.0,26.0,35.0,29.0,30.0,28.0,25.0,24.0,31.0,39.0,26.0,33.0,29.0,37.0,22.0,36.0,35.0,29.0,29.0,37.0,32.0,29.0,42.0,24.0,29.0,30.0,33.0,26.0,28.0,29.0,34.0,24.0,31.0,34.0,28.0,32.0,23.0,31.0,28.0,29.0,37.0,31.0,31.0,37.0,26.0,31.0,30.0,28.0,26.0,31.0,36.0,24.0,41.0,37.0,33.0,34.0,33.0,29.0,23.0,36.0,32.0,37.0,26.0,23.0,40.0,24.0,31.0,36.0,32.0,29.0,24.0,38.0,33.0,41.0,35.0,33.0,28.0,26.0,29.0,27.0,24.0,30.0,42.0,28.0,31.0,33.0,28.0,28.0,27.0,24.0,25.0,33.0,32.0,28.0,46.0,33.0,31.0,23.0,29.0,33.0,31.0,25.0,42.0,30.0,28.0,33.0,24.0,36.0,31.0,28.0,32.0,27.0,27.0,34.0,28.0,26.0,36.0,41.0,36.0,26.0,27.0,37.0,22.0,25.0,39.0,36.0,35.0,23.0,24.0,26.0,35.0,37.0,24.0,31.0,31.0,31.0,35.0,36.0,34.0,26.0,28.0,30.0,23.0,25.0,42.0,30.0,33.0,31.0,24.0,31.0,31.0,22.0,24.0,31.0,33.0,31.0,37.0,29.0,28.0,43.0,32.0,25.0,27.0,24.0,36.0,39.0,24.0,32.0,28.0,35.0,33.0,26.0,32.0,23.0,29.0,30.0,43.0,27.0,28.0,33.0,25.0,32.0,38.0,27.0,32.0,28.0,27.0,30.0,39.0,25.0,26.0,29.0,37.0,28.0,27.0,27.0,45.0,28.0,28.0,28.0,28.0,22.0,33.0,27.0,32.0,30.0,31.0,23.0,29.0,28.0,27.0,26.0,29.0,24.0,31.0,29.0,25.0,29.0,36.0,26.0,27.0,28.0,30.0,20.0,31.0,27.0,27.0,26.0,34.0,23.0,35.0,30.0,34.0,25.0,33.0,36.0,28.0,32.0,35.0,29.0,30.0,23.0,46.0,39.0,39.0,41.0,38.0,31.0,28.0,29.0,39.0,33.0,42.0,30.0,22.0,30.0,33.0,35.0,23.0,35.0,26.0,29.0,27.0,23.0,31.0,36.0,38.0,23.0,25.0,29.0,24.0,35.0,37.0,26.0,28.0,32.0,28.0,24.0,29.0,26.0,36.0,29.0,31.0,32.0,28.0,26.0,37.0,33.0,33.0,26.0,36.0,23.0,29.0,32.0,30.0,39.0,28.0,30.0,26.0,24.0,26.0,32.0,44.0,31.0,25.0,26.0,28.0,29.0,31.0,21.0,29.0,33.0,29.0,29.0,29.0,27.0,27.0,36.0,26.0,28.0,22.0,23.0,33.0,26.0,35.0,27.0,35.0,34.0,26.0,34.0,47.0,26.0,34.0,33.0,39.0,29.0,30.0,23.0,45.0,35.0,30.0,24.0,31.0,30.0,34.0,26.0,25.0,24.0,23.0,29.0,40.0,32.0,39.0,30.0,32.0,33.0,33.0,32.0,26.0,24.0,25.0,21.0,33.0,29.0,33.0,38.0,27.0,29.0,24.0,32.0,33.0,38.0,24.0,27.0,30.0,24.0,28.0,28.0,32.0,25.0,22.0,27.0,27.0,31.0,41.0,27.0,31.0,30.0,30.0,27.0,27.0,31.0,33.0,25.0,36.0,23.0,36.0,36.0,36.0,24.0,33.0,32.0,34.0,37.0,30.0,29.0,32.0,38.0,32.0,26.0,27.0,33.0,27.0,34.0,33.0,28.0,33.0,29.0,36.0,23.0,28.0,35.0,32.0,29.0,32.0,37.0,31.0,36.0,26.0,27.0,31.0,29.0,36.0,30.0,35.0,42.0,28.0,27.0,27.0,29.0,29.0,27.0,36.0,39.0,23.0,24.0,28.0,24.0,29.0,32.0,31.0,28.0,25.0,32.0,31.0,30.0,30.0,27.0,24.0,33.0,25.0,24.0,42.0,34.0,32.0,23.0,31.0,31.0,35.0,35.0,23.0,25.0,36.0,34.0,33.0,33.0,31.0,33.0,27.0,29.0,32.0,36.0,31.0,36.0,34.0,36.0,44.0,25.0,28.0,25.0,36.0,32.0,24.0,34.0,29.0,28.0,25.0,24.0,30.0,33.0,32.0,30.0,22.0,31.0,33.0,28.0,34.0,29.0,29.0,33.0,35.0,32.0,48.0,21.0,24.0,28.0,27.0,27.0,26.0,43.0,35.0,25.0,26.0,34.0,32.0,24.0,39.0,36.0,28.0,24.0,38.0,25.0,34.0,34.0,28.0,25.0,38.0,54.0,33.0,27.0,33.0,27.0,49.0,30.0,24.0,30.0,30.0,36.0,28.0,29.0,29.0,36.0,23.0,26.0,26.0,33.0,37.0,26.0,31.0,32.0,26.0,36.0,25.0,29.0,35.0,34.0,28.0,32.0,32.0,23.0,30.0,28.0,39.0,33.0,34.0,43.0,27.0,29.0,38.0,27.0,31.0,38.0,27.0,32.0,29.0,33.0,27.0,20.0,31.0,34.0,35.0,39.0,27.0,34.0,31.0,27.0,35.0,29.0,33.0,33.0,25.0,33.0,31.0,31.0,24.0,35.0,32.0,26.0,40.0,30.0,26.0,34.0,35.0,29.0,35.0,38.0,30.0,32.0,43.0,33.0,29.0,24.0,26.0,32.0,32.0,39.0,30.0,32.0,33.0,34.0,21.0,34.0,36.0,28.0,24.0,32.0,24.0,35.0,30.0,28.0,38.0,25.0,31.0,36.0,36.0,22.0,34.0,25.0,24.0,29.0,28.0,26.0,29.0,35.0,26.0,39.0,32.0,29.0,24.0,29.0,33.0,44.0,37.0,32.0,37.0,31.0,33.0,30.0,30.0,35.0,27.0,39.0,30.0,36.0,24.0,27.0,26.0,25.0,28.0,43.0,42.0,35.0,25.0,24.0,34.0,35.0,42.0,35.0,33.0,43.0,27.0,27.0,25.0,35.0,42.0,24.0,38.0,34.0,30.0,25.0,31.0,30.0,26.0,29.0,31.0,32.0,23.0,25.0,32.0,26.0,33.0,29.0,31.0,26.0,30.0,35.0,32.0,30.0,30.0,27.0,29.0,28.0,30.0,22.0,30.0,29.0,31.0,41.0,30.0,25.0,35.0,23.0,30.0,36.0,31.0,26.0,29.0,30.0,31.0,41.0,28.0,36.0,37.0,33.0,23.0,33.0,23.0,29.0,31.0,39.0,29.0,28.0,34.0,26.0,39.0,28.0,29.0,27.0,21.0,34.0,28.0,23.0,29.0,25.0,24.0,34.0,42.0,30.0,29.0,42.0,22.0,50.0,36.0,23.0,24.0,36.0,41.0,23.0,29.0,29.0,41.0,26.0,26.0,29.0,25.0,28.0,30.0,39.0,46.0,30.0,25.0,24.0,23.0,44.0,44.0,33.0,31.0,36.0,31.0,40.0,29.0,28.0,38.0,30.0,32.0,29.0,33.0,30.0,33.0,24.0,26.0,34.0,33.0,28.0,23.0,28.0,27.0,26.0,31.0,27.0,32.0,25.0,34.0,33.0,42.0,27.0,41.0,32.0,32.0,27.0,25.0,51.0,34.0,29.0,30.0,29.0,36.0,42.0,24.0,30.0,25.0,29.0,34.0,37.0,32.0,43.0,26.0,30.0,36.0,27.0,20.0,29.0,26.0,28.0,34.0,26.0,28.0,33.0,26.0,23.0,28.0,35.0,26.0,30.0,27.0,32.0,48.0,26.0,23.0,35.0,27.0,31.0,29.0,35.0,39.0,33.0,33.0,24.0,38.0,37.0,39.0,31.0,36.0,25.0,33.0,40.0,24.0,29.0,25.0,32.0,36.0,28.0,26.0,36.0,27.0,34.0,23.0,29.0,23.0,30.0,30.0,31.0,37.0,32.0,31.0,26.0,30.0,24.0,29.0,36.0,29.0,29.0,37.0,31.0,27.0,42.0,30.0,23.0,35.0,26.0,25.0,28.0,27.0,29.0,32.0,25.0,33.0,26.0,34.0,33.0,28.0,30.0,39.0,38.0,38.0,43.0,28.0,30.0,26.0,31.0,29.0,27.0,22.0,33.0,35.0,30.0,34.0,18.0,30.0,25.0,31.0,34.0,26.0,30.0,35.0,35.0,34.0,27.0,28.0,36.0,28.0,25.0,34.0,39.0,31.0,26.0,29.0,39.0,26.0,30.0,32.0,34.0,34.0,33.0,29.0,31.0,24.0,39.0,27.0,35.0,31.0,20.0,30.0,35.0,29.0,23.0,26.0,26.0,26.0,29.0,30.0,32.0,24.0,22.0,23.0,28.0,33.0,34.0,32.0,28.0,32.0,20.0,35.0,29.0,43.0,32.0,25.0,27.0,25.0,39.0,23.0,26.0,33.0,31.0,30.0,20.0,29.0,45.0,30.0,37.0,33.0,32.0,25.0,30.0,27.0,35.0,27.0,43.0,44.0,30.0,30.0,28.0,26.0,38.0,21.0,30.0,37.0,17.0,29.0,30.0,40.0,40.0,24.0,37.0,36.0,34.0,23.0,35.0,25.0,36.0,39.0,30.0,43.0,23.0,34.0,34.0,24.0,28.0,38.0,24.0,46.0,32.0,30.0,25.0,39.0,29.0,26.0,35.0,29.0,27.0,23.0,29.0,27.0,25.0,35.0,37.0,27.0,29.0,34.0,32.0,25.0,36.0,29.0,32.0,36.0,32.0,30.0,30.0,32.0,36.0,25.0,28.0,26.0,28.0,30.0,35.0,28.0,39.0,25.0,32.0,29.0,24.0,45.0,23.0,34.0,28.0,25.0,42.0,27.0,32.0,31.0,32.0,26.0,45.0,30.0,28.0,36.0,25.0,34.0,33.0,22.0,23.0,28.0,29.0,32.0,28.0,26.0,27.0,24.0,34.0,24.0,25.0,22.0,35.0,40.0,28.0,23.0,39.0,47.0,27.0,32.0,31.0,26.0,33.0,39.0,30.0,37.0,29.0,26.0,44.0,25.0,29.0,38.0,41.0,30.0,26.0,27.0,27.0,26.0,35.0,24.0,32.0,27.0,38.0,26.0,24.0,32.0,31.0,28.0,29.0,25.0,24.0,42.0,41.0,35.0,39.0,31.0,37.0,27.0,26.0,24.0,35.0,27.0,27.0,26.0,47.0,27.0,26.0,21.0,33.0,28.0,42.0,25.0,32.0,36.0,32.0,35.0,34.0,32.0,27.0,34.0,30.0,27.0,29.0,30.0,44.0,40.0,31.0,35.0,30.0,26.0,27.0,27.0,40.0,28.0,23.0,33.0,23.0,25.0,32.0,34.0,35.0,25.0,29.0,25.0,24.0,30.0,31.0,24.0,39.0,30.0,25.0,41.0,33.0,37.0,30.0,30.0,46.0,42.0,26.0,28.0,29.0,24.0,25.0,34.0,26.0,27.0,24.0,30.0,26.0,28.0,33.0,29.0,35.0,33.0,28.0,29.0,30.0,28.0,23.0,21.0,37.0,39.0,32.0,36.0,26.0,24.0,34.0,26.0,33.0,28.0,29.0,32.0,31.0,33.0,28.0,29.0,31.0,28.0,29.0,26.0,24.0,35.0,40.0,34.0,33.0,30.0,22.0,27.0,34.0,39.0,34.0,39.0,32.0,33.0,31.0,34.0,29.0,32.0,29.0,30.0,31.0,29.0,26.0,31.0,24.0,31.0,26.0,31.0,27.0,34.0,26.0,27.0,30.0,26.0,33.0,27.0,34.0,27.0,28.0,36.0,30.0,24.0,30.0,41.0,23.0,31.0,35.0,29.0,41.0,30.0,33.0,47.0,46.0,38.0,43.0,23.0,26.0,41.0,27.0,27.0,34.0,37.0,49.0,37.0,32.0,30.0,31.0,39.0,32.0,27.0,24.0,30.0,34.0,29.0,29.0,41.0,31.0,30.0,43.0,22.0,30.0,27.0,23.0,37.0,26.0,27.0,32.0,27.0,28.0,43.0,29.0,34.0,36.0,44.0,29.0,30.0,29.0,27.0,35.0,32.0,23.0,29.0,25.0,33.0,26.0,38.0,33.0,30.0,33.0,29.0,33.0,43.0,35.0,29.0,39.0,26.0,25.0,29.0,33.0,45.0,28.0,24.0,27.0,44.0,27.0,24.0,38.0,43.0,28.0,28.0,24.0,24.0,24.0,24.0,26.0,27.0,36.0,31.0,36.0,26.0,34.0,33.0,23.0,27.0,43.0,30.0,30.0,27.0,32.0,27.0,29.0,32.0,39.0,30.0,29.0,26.0,39.0,31.0,28.0,32.0,29.0,27.0,34.0,33.0,25.0,31.0,34.0,30.0,50.0,35.0,26.0,24.0,32.0,24.0,30.0,33.0,25.0,31.0,43.0,26.0,37.0,26.0,35.0,22.0,32.0,30.0,27.0,35.0,27.0,28.0,45.0,27.0,20.0,26.0,21.0,26.0,29.0,32.0,34.0,30.0,33.0,25.0,32.0,24.0,26.0,35.0,32.0,30.0,26.0,28.0,34.0,39.0,31.0,33.0,37.0,39.0,28.0,31.0,25.0,29.0,24.0,54.0,30.0,25.0,33.0,29.0,27.0,25.0,30.0,25.0,27.0,30.0,39.0,31.0,42.0,42.0,36.0,28.0,26.0,27.0,28.0,26.0,27.0,24.0,26.0,27.0,27.0,26.0,30.0,30.0,29.0,42.0,25.0,31.0,37.0,28.0,36.0,37.0,41.0,29.0,31.0,33.0,32.0,33.0,29.0,29.0,30.0,25.0,32.0,31.0,23.0,31.0,38.0,26.0,25.0,25.0,26.0,24.0,23.0,28.0,27.0,36.0,28.0,45.0,56.0,30.0,21.0,24.0,24.0,27.0,30.0,30.0,26.0,27.0,29.0,27.0,32.0,27.0,27.0,32.0,38.0,33.0,23.0,42.0,35.0,30.0,26.0,34.0,37.0,36.0,26.0,31.0,26.0,24.0,33.0,24.0,32.0,32.0,30.0,42.0,30.0,26.0,23.0,24.0,25.0,25.0,30.0,30.0,33.0,32.0,25.0,31.0,31.0,32.0,27.0,25.0,26.0,23.0,37.0,27.0,39.0,25.0,27.0,31.0,41.0,42.0,34.0,22.0,27.0,25.0,25.0,25.0,26.0,31.0,24.0,35.0,22.0,26.0,28.0,35.0,39.0,28.0,34.0,40.0,27.0,36.0,25.0,25.0,25.0,30.0,41.0,28.0,28.0,31.0,35.0,30.0,29.0,29.0,27.0,37.0,40.0,36.0,27.0,47.0,32.0,36.0,35.0,28.0,33.0,33.0,45.0,32.0,33.0,32.0,29.0,24.0,35.0,30.0,26.0,32.0,28.0,28.0,36.0,24.0,26.0,34.0,38.0,31.0,21.0,31.0,22.0,34.0,38.0,33.0,27.0,24.0,41.0,27.0,25.0,30.0,29.0,31.0,34.0,39.0,29.0,25.0,24.0,23.0,35.0,24.0,32.0,30.0,39.0,30.0,24.0,31.0,25.0,26.0,34.0,28.0,24.0,33.0,27.0,32.0,28.0,34.0,35.0,34.0,40.0,38.0,39.0,24.0,22.0,51.0,31.0,32.0,32.0,28.0,42.0,23.0,22.0,27.0,32.0,26.0,22.0,26.0,40.0,31.0,29.0,26.0,23.0,36.0,33.0,24.0,30.0,29.0,23.0,28.0,28.0,34.0,28.0,27.0,42.0,23.0,25.0,31.0,32.0,31.0,23.0,30.0,23.0,26.0,32.0,25.0,36.0,34.0,41.0,33.0,30.0,28.0,32.0,34.0,30.0,31.0,29.0,28.0,36.0,32.0,30.0,23.0,38.0,34.0,50.0,38.0,33.0,25.0,33.0,25.0,32.0,24.0,32.0,33.0,32.0,27.0,26.0,39.0,29.0,29.0,33.0,25.0,30.0,37.0,37.0,42.0,33.0,42.0,37.0,43.0,30.0,34.0,32.0,34.0,28.0,43.0,33.0,40.0,26.0,39.0,23.0,29.0,27.0,29.0,26.0,34.0,27.0,43.0,33.0,25.0,36.0,38.0,35.0,24.0,28.0,30.0,24.0,24.0,39.0,27.0,34.0,28.0,25.0,26.0,30.0,27.0,38.0,28.0,25.0,33.0,31.0,27.0,32.0,27.0,43.0,23.0,23.0,29.0,25.0,33.0,28.0,24.0,23.0,31.0,32.0,41.0,30.0,45.0,34.0,33.0,29.0,29.0,23.0,46.0,28.0,24.0,37.0,26.0,31.0,34.0,27.0,40.0,25.0,39.0,24.0,38.0,32.0,35.0,24.0,25.0,30.0,26.0,28.0,36.0,36.0,32.0,37.0,27.0,34.0,32.0,26.0,24.0,29.0,39.0,25.0,33.0,33.0,31.0,32.0,31.0,32.0,25.0,33.0,27.0,37.0,31.0,41.0,38.0,29.0,37.0,31.0,38.0,32.0,24.0,29.0,32.0,29.0,23.0,42.0,29.0,26.0,24.0,33.0,34.0,32.0,25.0,23.0,34.0,44.0,30.0,33.0,35.0,30.0,30.0,28.0,37.0,25.0,34.0,31.0,30.0,35.0,31.0,28.0,22.0,25.0,37.0,37.0,25.0,25.0,33.0,26.0,23.0,29.0,39.0,24.0,27.0,27.0,32.0,26.0,27.0,32.0,29.0,25.0,22.0,31.0,32.0,30.0,33.0,32.0,33.0,28.0,32.0,27.0,29.0,30.0,43.0,30.0,27.0,25.0,26.0,41.0,31.0,29.0,29.0,29.0,26.0,29.0,29.0,32.0,28.0,28.0,32.0,32.0,27.0,34.0,30.0,36.0,26.0,32.0,31.0,29.0,33.0,33.0,44.0,53.0,47.0,33.0,44.0,34.0,23.0,29.0,27.0,31.0,29.0,28.0,35.0,29.0,40.0,21.0,28.0,31.0,22.0,29.0,30.0,35.0,31.0,32.0,31.0,27.0,35.0,27.0,33.0,27.0,34.0,31.0,25.0,32.0,29.0,26.0,31.0,41.0,32.0,39.0,22.0,34.0,24.0,35.0,39.0,32.0,32.0,42.0,33.0,29.0,28.0,42.0,41.0,26.0,33.0,32.0,29.0,22.0,26.0,24.0,22.0,28.0,25.0,33.0,35.0,53.0,24.0,30.0,32.0,24.0,31.0,33.0,31.0,42.0,30.0,31.0,27.0,27.0,35.0,30.0,27.0,45.0,32.0,31.0,30.0,33.0,31.0,28.0,24.0,39.0,33.0,27.0,49.0,26.0,30.0,26.0,28.0,32.0,26.0,34.0,24.0,30.0,32.0,33.0,27.0,33.0,27.0,28.0,35.0,26.0,23.0,30.0,32.0,42.0,30.0,38.0,23.0,43.0,24.0,32.0,30.0,33.0,23.0,40.0,30.0,33.0,35.0,29.0,27.0,32.0,23.0,34.0,33.0,24.0,30.0,33.0,26.0,25.0,36.0,32.0,35.0,26.0,22.0,33.0,32.0,29.0,23.0,37.0,27.0,24.0,26.0,29.0,27.0,25.0,30.0,30.0,25.0,33.0,25.0,27.0,37.0,27.0,37.0,27.0,39.0,31.0,26.0,29.0,30.0,31.0,30.0,27.0,24.0,30.0,48.0,39.0,28.0,32.0,33.0,28.0,32.0,32.0,25.0,30.0,34.0,24.0,26.0,44.0,25.0,32.0,32.0,25.0,33.0,28.0,28.0,28.0,39.0,39.0,29.0,51.0,39.0,33.0,24.0,31.0,27.0,34.0,31.0,32.0,39.0,32.0,27.0,39.0,25.0,33.0,35.0,29.0,29.0,31.0,39.0,26.0,33.0,25.0,25.0,26.0,47.0,32.0,36.0,27.0,31.0,28.0,26.0,39.0,30.0,44.0,28.0,34.0,36.0,33.0,34.0,33.0,28.0,28.0,27.0,28.0,28.0,28.0,23.0,23.0,26.0,24.0,29.0,32.0,31.0,31.0,26.0,30.0,24.0,27.0,28.0,32.0,29.0,30.0,28.0,35.0,34.0,32.0,27.0,43.0,37.0,32.0,25.0,25.0,34.0,25.0,27.0,35.0,42.0,26.0,31.0,31.0,26.0,28.0,25.0,34.0,29.0,28.0,32.0,22.0,28.0,35.0,33.0,23.0,30.0,31.0,26.0,29.0,40.0,42.0,30.0,34.0,35.0,33.0,33.0,28.0,34.0,42.0,33.0,39.0,25.0,25.0,40.0,29.0,29.0,30.0,25.0,28.0,22.0,41.0,29.0,42.0,25.0,30.0,28.0,30.0,30.0,32.0,27.0,33.0,30.0,26.0,28.0,33.0,26.0,27.0,30.0,26.0,31.0,29.0,30.0,29.0,29.0,30.0,28.0,36.0,27.0,23.0,28.0,34.0,29.0,33.0,33.0,33.0,37.0,34.0,25.0,36.0,25.0,21.0,28.0,29.0,24.0,33.0,39.0,30.0,32.0,29.0,25.0,28.0,34.0,32.0,25.0,39.0,24.0,35.0,32.0,37.0,25.0,24.0,32.0,26.0,29.0,25.0,29.0,30.0,39.0,23.0,26.0,29.0,37.0,48.0,37.0,32.0,33.0,28.0,32.0,38.0,29.0,26.0,43.0,24.0,29.0,31.0,38.0,32.0,29.0,28.0,25.0,28.0,25.0,24.0,35.0,23.0,33.0,31.0,31.0,31.0,22.0,28.0,29.0,36.0,33.0,41.0,27.0,28.0,31.0,24.0,23.0,30.0,24.0,28.0,45.0,24.0,29.0,30.0,29.0,28.0,31.0,39.0,31.0,29.0,32.0,24.0,35.0,24.0,34.0,33.0,27.0,27.0,22.0,25.0,42.0,31.0,36.0,36.0,35.0,29.0,36.0,27.0,27.0,29.0,26.0,39.0,25.0,43.0,32.0,25.0,37.0,27.0,28.0,24.0,30.0,22.0,33.0,34.0,24.0,31.0,29.0,27.0,31.0,26.0,40.0,35.0,29.0,26.0,25.0,34.0,34.0,25.0,35.0,25.0,25.0,37.0,29.0,31.0,29.0,34.0,26.0,31.0,26.0,27.0,27.0,34.0,38.0,26.0,25.0,23.0,39.0,25.0,39.0,28.0,23.0,25.0,29.0,26.0,33.0,39.0,38.0,32.0,30.0,23.0,33.0,30.0,42.0,28.0,32.0,27.0,33.0,31.0,32.0,33.0,30.0,31.0,36.0,29.0,37.0,30.0,31.0,28.0,37.0,24.0,42.0,28.0,31.0,22.0,33.0,36.0,38.0,36.0,33.0,43.0,42.0,39.0,33.0,27.0,23.0,31.0,30.0,38.0,24.0,29.0,32.0,36.0,40.0,35.0,25.0,29.0,26.0,28.0,26.0,30.0,33.0,28.0,35.0,29.0,33.0,30.0,35.0,24.0,26.0,24.0,32.0,31.0,29.0,36.0,28.0,30.0,32.0,31.0,23.0,26.0,38.0,25.0,25.0,29.0,33.0,32.0,28.0,24.0,26.0,27.0,64.0,27.0,33.0,24.0,27.0,30.0,25.0,28.0,37.0,24.0,31.0,32.0,25.0,34.0,32.0,28.0,24.0,28.0,34.0,36.0,32.0,23.0,33.0,33.0,37.0,26.0,37.0,31.0,31.0,24.0,22.0,33.0,32.0,35.0,28.0,40.0,26.0,30.0,36.0,38.0,34.0,26.0,29.0,25.0,43.0,25.0,28.0,33.0,25.0,30.0,29.0,34.0,24.0,22.0,28.0,21.0,32.0,29.0,26.0,32.0,22.0,34.0,33.0,30.0,44.0,27.0,36.0,27.0,23.0,43.0,33.0,28.0,34.0,27.0,29.0,24.0,27.0,26.0,29.0,33.0,33.0,34.0,35.0,35.0,32.0,44.0,39.0,25.0,31.0,29.0,29.0,30.0,30.0,30.0,29.0,32.0,26.0,23.0,32.0,25.0,27.0,29.0,32.0,35.0,26.0,36.0,26.0,29.0,30.0,34.0,27.0,32.0,29.0,24.0,28.0,48.0,44.0,31.0,26.0,35.0,27.0,31.0,30.0,35.0,28.0,32.0,37.0,29.0,29.0,28.0,27.0,24.0,31.0,39.0,35.0,35.0,34.0,23.0,31.0,31.0,26.0,31.0,36.0,31.0,29.0,27.0,30.0,25.0,36.0,48.0,36.0,26.0,35.0,36.0,31.0,31.0,33.0,31.0,36.0,26.0,35.0,33.0,32.0,33.0,31.0,30.0,23.0,23.0,31.0,26.0,30.0,29.0,25.0,30.0,36.0,24.0,31.0,29.0,29.0,29.0,24.0,28.0,32.0,27.0,24.0,45.0,35.0,24.0,36.0,32.0,39.0,32.0,26.0,27.0,44.0,23.0,30.0,34.0,28.0,28.0,28.0,31.0,26.0,32.0,34.0,30.0,37.0,32.0,26.0,32.0,32.0,27.0,29.0,31.0,24.0,31.0,28.0,35.0,33.0,31.0,38.0,23.0,23.0,24.0,26.0,27.0,31.0,21.0,25.0,23.0,30.0,45.0,37.0,28.0,25.0,28.0,31.0,30.0,25.0,26.0,33.0,31.0,28.0,37.0,30.0,36.0,35.0,29.0,30.0,35.0,27.0,40.0,30.0,34.0,39.0,26.0,47.0,34.0,31.0,32.0,15.0,27.0,31.0,33.0,36.0,30.0,35.0,27.0,40.0,33.0,26.0,25.0,30.0,31.0,24.0,40.0,31.0,26.0,45.0,31.0,28.0,32.0,32.0,27.0,32.0,32.0,34.0,31.0,31.0,28.0,42.0,29.0,31.0,34.0,48.0,31.0,25.0,37.0,30.0,28.0,33.0,31.0,25.0,26.0,37.0,36.0,31.0,34.0,32.0,34.0,36.0,22.0,27.0,24.0,34.0,49.0,25.0,40.0,45.0,29.0,32.0,26.0,25.0,28.0,34.0,34.0,28.0,28.0,43.0,26.0,29.0,31.0,30.0,23.0,28.0,23.0,28.0,24.0,28.0,32.0,41.0,35.0,30.0,47.0,27.0,29.0,23.0,39.0,34.0,33.0,37.0,27.0,24.0,24.0,32.0,22.0,29.0,28.0,29.0,27.0,37.0,30.0,25.0,27.0,35.0,34.0,30.0,36.0,32.0,26.0,42.0,26.0,30.0,34.0,29.0,30.0,29.0,34.0,29.0,30.0,34.0,26.0,24.0,27.0,25.0,32.0,24.0,35.0,32.0,25.0,24.0,29.0,33.0,36.0,39.0,27.0,28.0,26.0,29.0,32.0,30.0,32.0,30.0,35.0,33.0,29.0,40.0,27.0,28.0,28.0,29.0,28.0,32.0,25.0,32.0,30.0,24.0,26.0,25.0,33.0,22.0,28.0,25.0,31.0,28.0,26.0,35.0,30.0,26.0,25.0,33.0,32.0,33.0,31.0,25.0,24.0,28.0,37.0,30.0,33.0,35.0,29.0,27.0,27.0,29.0,31.0,26.0,29.0,30.0,33.0,23.0,31.0,24.0,28.0,23.0,24.0,26.0,33.0,37.0,34.0,34.0,31.0,29.0,27.0,25.0,37.0,26.0,26.0,39.0,28.0,23.0,32.0,23.0,34.0,26.0,21.0,23.0,32.0,41.0,43.0,25.0,42.0,27.0,29.0,32.0,30.0,36.0,32.0,32.0,44.0,22.0,31.0,30.0,39.0,30.0,34.0,24.0,27.0,28.0,28.0,24.0,33.0,35.0,30.0,35.0,35.0,27.0,38.0,38.0,27.0,26.0,35.0,22.0,29.0,27.0,32.0,24.0,28.0,40.0,25.0,26.0,26.0,26.0,24.0,28.0,39.0,25.0,33.0,34.0,37.0,28.0,25.0,29.0,31.0,29.0,30.0,29.0,30.0,26.0,39.0,32.0,33.0,32.0,29.0,36.0,33.0,46.0,36.0,29.0,28.0,36.0,27.0,32.0,38.0,32.0,31.0,25.0,26.0,28.0,33.0,26.0,26.0,34.0,26.0,31.0,24.0,30.0,24.0,30.0,33.0,43.0,33.0,26.0,35.0,28.0,67.0,28.0,28.0,20.0,22.0,25.0,28.0,26.0,31.0,25.0,24.0,31.0,29.0,24.0,37.0,31.0,42.0,27.0,42.0,24.0,33.0,44.0,22.0,36.0,22.0,38.0,29.0,24.0,25.0,16.0,35.0,34.0,26.0,33.0,29.0,27.0,26.0,24.0,31.0,25.0,34.0,33.0,26.0,23.0,25.0,36.0,27.0,30.0,25.0,35.0,35.0,30.0,39.0,30.0,25.0,30.0,25.0,29.0,31.0,28.0,35.0,23.0,28.0,27.0,24.0,28.0,31.0,26.0,39.0,31.0,35.0,42.0,39.0,28.0,29.0,27.0,25.0,37.0,28.0,28.0,34.0,23.0,35.0,30.0,49.0,32.0,25.0,31.0,32.0,28.0,26.0,29.0,23.0,38.0,40.0,29.0,23.0,28.0,31.0,30.0,28.0,30.0,23.0,25.0,36.0,24.0,27.0,23.0,30.0,29.0,28.0,34.0,32.0,40.0,33.0,27.0,33.0,42.0,31.0,36.0,30.0,29.0,27.0,30.0,25.0,35.0,31.0,33.0,30.0,29.0,27.0,35.0,26.0,26.0,23.0,32.0,34.0,35.0,27.0,26.0,32.0,27.0,29.0,35.0,32.0,32.0,25.0,33.0,31.0,24.0,32.0,39.0,36.0,28.0,29.0,39.0,26.0,29.0,30.0,33.0,26.0,27.0,23.0,43.0,25.0,30.0,28.0,30.0,26.0,22.0,23.0,26.0,40.0,31.0,24.0,30.0,31.0,30.0,27.0,32.0,28.0,37.0,33.0,32.0,32.0,23.0,31.0,23.0,28.0,24.0,22.0,25.0,22.0,33.0,31.0,29.0,33.0,29.0,31.0,34.0,32.0,30.0,36.0,23.0,22.0,28.0,25.0,33.0,29.0,29.0,31.0,24.0,33.0,24.0,24.0,27.0,28.0,31.0,34.0,30.0,28.0,35.0,33.0,35.0,35.0,32.0,27.0,29.0,34.0,31.0,25.0,24.0,26.0,30.0,32.0,31.0,26.0,22.0,42.0,27.0,26.0,31.0,27.0,35.0,27.0,24.0,27.0,25.0,36.0,24.0,30.0,30.0,42.0,33.0,31.0,25.0,27.0,31.0,62.0,28.0,41.0,38.0,29.0,27.0,27.0,34.0,28.0,45.0,23.0,35.0,31.0,48.0,38.0,30.0,39.0,29.0,24.0,27.0,31.0,33.0,25.0,32.0,32.0,24.0,42.0,42.0,29.0,25.0,34.0,31.0,28.0,30.0,26.0,35.0,36.0,27.0,41.0,49.0,29.0,31.0,26.0,34.0,33.0,37.0,25.0,31.0,28.0,28.0,38.0,30.0,25.0,27.0,24.0,30.0,39.0,36.0,31.0,25.0,23.0,37.0,29.0,28.0,30.0,38.0,28.0,27.0,36.0,24.0,23.0,29.0,28.0,23.0,27.0,35.0,24.0,37.0,49.0,29.0,33.0,40.0,33.0,26.0,26.0,35.0,33.0,26.0,25.0,31.0,23.0,23.0,35.0,31.0,42.0,31.0,36.0,34.0,30.0,31.0,25.0,44.0,27.0,28.0,27.0,34.0,32.0,28.0,36.0,25.0,28.0,29.0,39.0,31.0,28.0,26.0,24.0,36.0,32.0,32.0,30.0,29.0,42.0,39.0,23.0,35.0,27.0,30.0,23.0,29.0,26.0,33.0,39.0,39.0,24.0,26.0,24.0,27.0,27.0,33.0,22.0,43.0,24.0,29.0,31.0,26.0,36.0,34.0,31.0,39.0,28.0,28.0,39.0,28.0,32.0,32.0,31.0,38.0,33.0,39.0,41.0,35.0,32.0,28.0,32.0,27.0,24.0,30.0,26.0,30.0,31.0,23.0,23.0,34.0,34.0,28.0,25.0,35.0,30.0,31.0,37.0,43.0,29.0,36.0,32.0,39.0,37.0,33.0,43.0,26.0,28.0,28.0,26.0,34.0,31.0,28.0,26.0,25.0,23.0,34.0,28.0,33.0,27.0,34.0,29.0,27.0,30.0,29.0,23.0,24.0,36.0,39.0,31.0,27.0,36.0,34.0,39.0,26.0,30.0,29.0,33.0,25.0,30.0,22.0,32.0,27.0,28.0,32.0,33.0,29.0,32.0,35.0,22.0,27.0,30.0,25.0,30.0,30.0,29.0,22.0,34.0,30.0,26.0,31.0,30.0,33.0,27.0,26.0,26.0,29.0,34.0,26.0,28.0,32.0,32.0,29.0,27.0,29.0,34.0,41.0,30.0,30.0,29.0,28.0,29.0,30.0,40.0,29.0,28.0,25.0,34.0,28.0,35.0,32.0,30.0,33.0,31.0,26.0,25.0,34.0,32.0,26.0,19.0,30.0,22.0,25.0,25.0,24.0,38.0,31.0,36.0,33.0,35.0,21.0,32.0,31.0,24.0,30.0,34.0,34.0,35.0,28.0,39.0,33.0,35.0,35.0,26.0,34.0,32.0,26.0,39.0,35.0,31.0,29.0,25.0,35.0,32.0,26.0,34.0,39.0,23.0,31.0,28.0,31.0,26.0,32.0,31.0,28.0,27.0,52.0,31.0,32.0,35.0,30.0,43.0,33.0,29.0,23.0,23.0,32.0,27.0,34.0,34.0,27.0,36.0,30.0,25.0,26.0,26.0,29.0,26.0,28.0,34.0,30.0,32.0,30.0,27.0,32.0,33.0,30.0,34.0,29.0,24.0,29.0,25.0,31.0,31.0,29.0,39.0,39.0,23.0,24.0,29.0,21.0,32.0,39.0,27.0,25.0,28.0,27.0,31.0,36.0,26.0,25.0,27.0,23.0,28.0,35.0,29.0,28.0,31.0,33.0,33.0,25.0,26.0,46.0,28.0,29.0,28.0,35.0,33.0,33.0,23.0,27.0,28.0,23.0,30.0,25.0,35.0,36.0,28.0,24.0,32.0,32.0,33.0,38.0,43.0,26.0,29.0,32.0,30.0,34.0,34.0,25.0,24.0,27.0,28.0,25.0,28.0,29.0,36.0,34.0,41.0,26.0,28.0,25.0,37.0,25.0,35.0,25.0,33.0,29.0,36.0,30.0,29.0,31.0,27.0,27.0,33.0,36.0,24.0,22.0,25.0,42.0,25.0,27.0,28.0,26.0,41.0,26.0,31.0,31.0,41.0,29.0,26.0,34.0,27.0,33.0,26.0,22.0,25.0,24.0,26.0,29.0,25.0,30.0,48.0,32.0,40.0,24.0,30.0,24.0,35.0,35.0,47.0,27.0,37.0,29.0,29.0,29.0,30.0,26.0,29.0,34.0,27.0,23.0,34.0,28.0,32.0,41.0,34.0,31.0,34.0,33.0,32.0,35.0,28.0,42.0,26.0,34.0,29.0,22.0,25.0,26.0,27.0,31.0,43.0,25.0,28.0,28.0,26.0,30.0,27.0,37.0,33.0,28.0,24.0,35.0,23.0,34.0,34.0,35.0,33.0,33.0,29.0,29.0,29.0,39.0,33.0,39.0,32.0,39.0,33.0,35.0,31.0,31.0,32.0,31.0,34.0,27.0,34.0,28.0,25.0,41.0,27.0,30.0,25.0,36.0,41.0,35.0,27.0,23.0,37.0,24.0,27.0,23.0,28.0,37.0,27.0,28.0,27.0,26.0,30.0,27.0,30.0,28.0,29.0,31.0,26.0,28.0,34.0,28.0,31.0,31.0,32.0,30.0,30.0,25.0,30.0,28.0,36.0,27.0,27.0,26.0,25.0,34.0,28.0,26.0,26.0,26.0,33.0,32.0,28.0,25.0,35.0,32.0,28.0,25.0,30.0,36.0,39.0,27.0,33.0,26.0,25.0,42.0,32.0,32.0,22.0,39.0,22.0,25.0,29.0,31.0,34.0,27.0,23.0,37.0,24.0,28.0,24.0,33.0,26.0,31.0,29.0,42.0,30.0,32.0,40.0,34.0,32.0,30.0,33.0,32.0,39.0,30.0,25.0,33.0,24.0,37.0,31.0,33.0,32.0,30.0,38.0,31.0,25.0,37.0,33.0,28.0,22.0,48.0,38.0,32.0,33.0,28.0,27.0,40.0,23.0,31.0,29.0,28.0,26.0,26.0,32.0,32.0,26.0,27.0,30.0,40.0,28.0,40.0,27.0,30.0,28.0,32.0,39.0,39.0,28.0,34.0,24.0,28.0,29.0,33.0,32.0,40.0,34.0,29.0,27.0,24.0,33.0,26.0,39.0,32.0,30.0,33.0,30.0,31.0,27.0,30.0,32.0,35.0,35.0,32.0,24.0,23.0,26.0,31.0,26.0,42.0,31.0,26.0,29.0,28.0,45.0,39.0,34.0,31.0,34.0,34.0,38.0,28.0,34.0,21.0,26.0,24.0,28.0,25.0,38.0,40.0,35.0,32.0,33.0,32.0,45.0,33.0,38.0,27.0,40.0,31.0,30.0,29.0,24.0,60.0,33.0,31.0,37.0,22.0,26.0,24.0,35.0,36.0,30.0,30.0,34.0,30.0,27.0,37.0,31.0,29.0,22.0,26.0,29.0,30.0,37.0,35.0,37.0,23.0,30.0,44.0,28.0,28.0,32.0,28.0,28.0,24.0,27.0,32.0,26.0,25.0,30.0,25.0,24.0,30.0,25.0,25.0,27.0,34.0,37.0,24.0,32.0,36.0,27.0,27.0,29.0,30.0,26.0,35.0,37.0,24.0,32.0,36.0,33.0,30.0,30.0,28.0,30.0,27.0,31.0,44.0,30.0,34.0,33.0,24.0,27.0,25.0,23.0,25.0,24.0,31.0,30.0,38.0,32.0,41.0,42.0,30.0,24.0,29.0,27.0,34.0,23.0,34.0,35.0,26.0,41.0,33.0,30.0,35.0,32.0,43.0,34.0,37.0,34.0,31.0,34.0,29.0,24.0,24.0,27.0,24.0,25.0,27.0,33.0,28.0,32.0,27.0,36.0,33.0,23.0,30.0,28.0,39.0,39.0,30.0,24.0,42.0,33.0,23.0,26.0,30.0,33.0,33.0,39.0,24.0,31.0,27.0,64.0,27.0,24.0,25.0,25.0,28.0,28.0,22.0,33.0,30.0,26.0,28.0,38.0,24.0,31.0,21.0,29.0,28.0,24.0,28.0,31.0,36.0,31.0,29.0,27.0,35.0,33.0,26.0,26.0,34.0,27.0,31.0,32.0,26.0,24.0,26.0,34.0,33.0,27.0,30.0,33.0,27.0,42.0,28.0,26.0,31.0,24.0,29.0,33.0,33.0,39.0,23.0,26.0,30.0,29.0,25.0,30.0,34.0,24.0,27.0,26.0,30.0,30.0,36.0,35.0,46.0,24.0,33.0,33.0,27.0,25.0,37.0,43.0,25.0,29.0,34.0,32.0,32.0,24.0,26.0,27.0,37.0,27.0,37.0,30.0,25.0,29.0,22.0,18.0,28.0,46.0,43.0,29.0,29.0,33.0,31.0,24.0,33.0,38.0,38.0,27.0,26.0,29.0,43.0,28.0,33.0,34.0,30.0,26.0,33.0,32.0,32.0,39.0,40.0,35.0,34.0,27.0,31.0,32.0,27.0,32.0,43.0,30.0,39.0,26.0,32.0,30.0,30.0,34.0,31.0,24.0,30.0,35.0,23.0,25.0,29.0,26.0,24.0,37.0,31.0,35.0,29.0,21.0,41.0,33.0,30.0,27.0,36.0,32.0,30.0,22.0,24.0,26.0,32.0,26.0,25.0,24.0,32.0,40.0,23.0,33.0,33.0,28.0,30.0,46.0,30.0,32.0,33.0,26.0,27.0,23.0,26.0,26.0,33.0,26.0,38.0,26.0,39.0,38.0,23.0,30.0,24.0,27.0,28.0,37.0,36.0,35.0,29.0,23.0,39.0,32.0,33.0,29.0,43.0,28.0,27.0,39.0,30.0,35.0,30.0,24.0,32.0,28.0,36.0,27.0,34.0,27.0,25.0,23.0,35.0,32.0,32.0,41.0,28.0,29.0,29.0,41.0,28.0,23.0,25.0,45.0,47.0,28.0,31.0,30.0,37.0,29.0,29.0,27.0,26.0,27.0,31.0,42.0,24.0,28.0,30.0,26.0,34.0,31.0,38.0,38.0,35.0,33.0,29.0,35.0,25.0,29.0,31.0,27.0,31.0,30.0,29.0,25.0,28.0,28.0,34.0,30.0,24.0,27.0,43.0,31.0,32.0,26.0,34.0,35.0,38.0,24.0,25.0,31.0,30.0,30.0,30.0,39.0,29.0,23.0,47.0,37.0,24.0,47.0,37.0,26.0,33.0,26.0,34.0,32.0,26.0,29.0,22.0,24.0,24.0,34.0,35.0,38.0,33.0,39.0,28.0,24.0,29.0,28.0,33.0,27.0,33.0,27.0,28.0,27.0,27.0,32.0,34.0,34.0,40.0,37.0,24.0,31.0,25.0,23.0,25.0,33.0,24.0,31.0,25.0,23.0,23.0,36.0,30.0,29.0,33.0,30.0,27.0,24.0,34.0,31.0,29.0,29.0,39.0,27.0,38.0,23.0,26.0,39.0,26.0,28.0,32.0,39.0,30.0,27.0,25.0,24.0,28.0,31.0,29.0,27.0,25.0,43.0,35.0,34.0,27.0,29.0,34.0,33.0,25.0,30.0,29.0,30.0,26.0,34.0,31.0,30.0,32.0,31.0,30.0,24.0,27.0,25.0,32.0,25.0,26.0,36.0,24.0,34.0,25.0,33.0,30.0,30.0,27.0,25.0,41.0,31.0,24.0,29.0,30.0,31.0,34.0,35.0,24.0,36.0,29.0,30.0,29.0,25.0,34.0,34.0,25.0,39.0,46.0,22.0,30.0,25.0,28.0,29.0,34.0,29.0,29.0,45.0,27.0,42.0,28.0,38.0,31.0,34.0,27.0,29.0,24.0,29.0,26.0,41.0,32.0,31.0,35.0,25.0,23.0,46.0,47.0,26.0,27.0,32.0,29.0,30.0,25.0,23.0,63.0,33.0,24.0,32.0,32.0,22.0,28.0,35.0,23.0,22.0,26.0,30.0,28.0,28.0,26.0,44.0,33.0,22.0,29.0,29.0,45.0,37.0,27.0,28.0,39.0,28.0,28.0,34.0,32.0,33.0,31.0,56.0,30.0,25.0,31.0,31.0,28.0,36.0,25.0,25.0,22.0,33.0,23.0,22.0,24.0,30.0,42.0,29.0,30.0,24.0,38.0,42.0,37.0,43.0,23.0,32.0,47.0,38.0,28.0,36.0,31.0,23.0,25.0,29.0,25.0,23.0,27.0,30.0,26.0,29.0,21.0,45.0,42.0,33.0,28.0,37.0,27.0,42.0,26.0,36.0,32.0,23.0,29.0,38.0,30.0,24.0,28.0,30.0,29.0,25.0,35.0,20.0,39.0,27.0,30.0,31.0,30.0,30.0,29.0,32.0,35.0,25.0,52.0,28.0,24.0,36.0,39.0,25.0,32.0,28.0,38.0,30.0,34.0,33.0,34.0,23.0,23.0,41.0,31.0,27.0,24.0,40.0,32.0,32.0,24.0,29.0,29.0,33.0,27.0,28.0,27.0,31.0,31.0,44.0,31.0,31.0,27.0,35.0,28.0,33.0,28.0,35.0,19.0,26.0,31.0,32.0,27.0,31.0,28.0,28.0,23.0,35.0,44.0,41.0,33.0,33.0,32.0,35.0,31.0,42.0,45.0,22.0,32.0,32.0,48.0,36.0,27.0,24.0,26.0,28.0,25.0,34.0,31.0,31.0,28.0,24.0,33.0,28.0,28.0,43.0,31.0,34.0,24.0,25.0,33.0,39.0,38.0,28.0,32.0,32.0,22.0,31.0,34.0,32.0,36.0,32.0,36.0,28.0,33.0,28.0,28.0,26.0,23.0,26.0,36.0,29.0,28.0,27.0,34.0,28.0,32.0,26.0,29.0,33.0,32.0,34.0,29.0,45.0,32.0,33.0,23.0,26.0,33.0,31.0,31.0,29.0,27.0,26.0,28.0,33.0,32.0,29.0,29.0,32.0,27.0,24.0,26.0,30.0,35.0,29.0,27.0,37.0,29.0,30.0,31.0,45.0,33.0,22.0,31.0,35.0,39.0,26.0,36.0,35.0,28.0,25.0,31.0,36.0,35.0,26.0,23.0,28.0,26.0,31.0,27.0,31.0,30.0,30.0,29.0,23.0,28.0,33.0,29.0,32.0,36.0,31.0,34.0,36.0,28.0,24.0,27.0,32.0,24.0,21.0,25.0,26.0,25.0,31.0,25.0,25.0,31.0,27.0,29.0,22.0,54.0,26.0,32.0,29.0,31.0,25.0,33.0,24.0,27.0,27.0,24.0,40.0,28.0,31.0,29.0,33.0,47.0,28.0,26.0,33.0,31.0,25.0,27.0,33.0,29.0,25.0,26.0,26.0,30.0,27.0,40.0,34.0,37.0,25.0,39.0,31.0,34.0,35.0,31.0,36.0,28.0,30.0,27.0,25.0,22.0,32.0,37.0,32.0,43.0,27.0,33.0,23.0,29.0,31.0,30.0,25.0,26.0,29.0,32.0,29.0,29.0,39.0,27.0,35.0,26.0,23.0,28.0,39.0,50.0,25.0,29.0,29.0,27.0,30.0,35.0,28.0,34.0,25.0,26.0,28.0,21.0,26.0,28.0,28.0,24.0,39.0,24.0,31.0,33.0,30.0,31.0,27.0,26.0,33.0,37.0,27.0,41.0,27.0,39.0,29.0,31.0,25.0,24.0,31.0,32.0,34.0,24.0,31.0,32.0,22.0,22.0,27.0,26.0,27.0,29.0,27.0,27.0,30.0,30.0,28.0,27.0,24.0,28.0,25.0,28.0,36.0,27.0,31.0,28.0,32.0,27.0,23.0,24.0,29.0,33.0,30.0,32.0,32.0,24.0,33.0,26.0,26.0,32.0,23.0,33.0,26.0,32.0,23.0,30.0,24.0,27.0,34.0,33.0,40.0,28.0,31.0,43.0,27.0,30.0,24.0,30.0,26.0,27.0,45.0,30.0,30.0,32.0,29.0,31.0,32.0,29.0,26.0,25.0,26.0,29.0,30.0,33.0,36.0,36.0,32.0,22.0,30.0,34.0,25.0,30.0,26.0,27.0,39.0,30.0,25.0,28.0,30.0,46.0,38.0,32.0,26.0,31.0,30.0,40.0,38.0,23.0,35.0,28.0,26.0,24.0,31.0,28.0,32.0,32.0,30.0,30.0,40.0,43.0,33.0,33.0,23.0,26.0,30.0,23.0,24.0,23.0,32.0,42.0,25.0,34.0,28.0,26.0,24.0,28.0,34.0,26.0,34.0,26.0,28.0,31.0,25.0,30.0,23.0,33.0,25.0,29.0,37.0,26.0,24.0,25.0,24.0,39.0,33.0,35.0,39.0,25.0,31.0,26.0,42.0,24.0,44.0,29.0,35.0,41.0,30.0,28.0,28.0,28.0,33.0,32.0,38.0,36.0,24.0,22.0,34.0,33.0,26.0,28.0,32.0,39.0,30.0,30.0,34.0,26.0,25.0,31.0,34.0,24.0,32.0,33.0,28.0,32.0,41.0,42.0,26.0,32.0,36.0,25.0,29.0,26.0,40.0,26.0,34.0,20.0,41.0,28.0,28.0,26.0,38.0,39.0,24.0,34.0,32.0,29.0,39.0,30.0,28.0,26.0,29.0,36.0,33.0,27.0,34.0,29.0,33.0,29.0,23.0,29.0,33.0,25.0,29.0,42.0,34.0,35.0,29.0,31.0,27.0,27.0,32.0,26.0,27.0,25.0,30.0,31.0,27.0,30.0,25.0,29.0,24.0,39.0,45.0,39.0,25.0,23.0,29.0,26.0,38.0,33.0,35.0,32.0,34.0,33.0,27.0,30.0,29.0,33.0,26.0,25.0,26.0,28.0,32.0,31.0,39.0,29.0,35.0,27.0,27.0,39.0,28.0,24.0,28.0,25.0,32.0,33.0,26.0,31.0,29.0,26.0,30.0,26.0,28.0,24.0,29.0,32.0,29.0,44.0,34.0,41.0,33.0,25.0,39.0,32.0,33.0,34.0,24.0,27.0,36.0,38.0,26.0,33.0,26.0,45.0,23.0,38.0,23.0,39.0,31.0,24.0,35.0,29.0,28.0,34.0,32.0,26.0,30.0,31.0,25.0,23.0,33.0,43.0,43.0,35.0,36.0,26.0,26.0,33.0,31.0,30.0,29.0,30.0,28.0,32.0,30.0,44.0,27.0,32.0,36.0,30.0,45.0,38.0,34.0,23.0,27.0,25.0,27.0,34.0,29.0,29.0,41.0,31.0,32.0,34.0,38.0,33.0,35.0,24.0,29.0,27.0,28.0,34.0,33.0,25.0,22.0,23.0,31.0,28.0,36.0,27.0,35.0,37.0,24.0,29.0,25.0,38.0,31.0,29.0,30.0,30.0,30.0,28.0,44.0,35.0,45.0,26.0,39.0,26.0,34.0,32.0,28.0,30.0,34.0,32.0,41.0,25.0,33.0,35.0,24.0,23.0,34.0,24.0,29.0,29.0,28.0,35.0,31.0,27.0,28.0,40.0,27.0,25.0,29.0,39.0,34.0,33.0,29.0,22.0,34.0,25.0,27.0,32.0,32.0,36.0,24.0,24.0,26.0,31.0,22.0,24.0,34.0,27.0,38.0,29.0,41.0,30.0,37.0,24.0,42.0,27.0,26.0,30.0,36.0,30.0,32.0,30.0,37.0,29.0,26.0,32.0,27.0,14.0,33.0,38.0,29.0,26.0,35.0,43.0,31.0,32.0,27.0,23.0,31.0,35.0,27.0,21.0,34.0,28.0,31.0,38.0,37.0,23.0,42.0,30.0,37.0,39.0,42.0,30.0,24.0,37.0,32.0,41.0,29.0,34.0,32.0,27.0,28.0,30.0,29.0,29.0,23.0,35.0,28.0,36.0,27.0,33.0,25.0,27.0,24.0,33.0,25.0,24.0,36.0,27.0,23.0,31.0,28.0,25.0,27.0,35.0,31.0,28.0,48.0,32.0,28.0,32.0,25.0,26.0,26.0,30.0,38.0,30.0,33.0,28.0,35.0,30.0,30.0,31.0,52.0,36.0,36.0,25.0,25.0,33.0,30.0,25.0,32.0,27.0,39.0,26.0,31.0,29.0,24.0,30.0,30.0,44.0,25.0,33.0,30.0,32.0,25.0,30.0,41.0,34.0,29.0,33.0,29.0,33.0,34.0,45.0,27.0,31.0,35.0,36.0,41.0,28.0,33.0,26.0,31.0,27.0,30.0,31.0,27.0,25.0,25.0,23.0,34.0,29.0,24.0,32.0,32.0,27.0,29.0,31.0,28.0,26.0,36.0,26.0,35.0,30.0,33.0,29.0,34.0,26.0,28.0,41.0,33.0,37.0,27.0,33.0,36.0,23.0,28.0,26.0,29.0,43.0,33.0,33.0,31.0,22.0,33.0,34.0,27.0,43.0,36.0,28.0,27.0,29.0,32.0,26.0,28.0,23.0,32.0,30.0,30.0,32.0,39.0,28.0,43.0,22.0,34.0,37.0,22.0,37.0,24.0,31.0,30.0,29.0,25.0,24.0,27.0,28.0,29.0,31.0,30.0,23.0,24.0,42.0,33.0,33.0,23.0,28.0,27.0,26.0,29.0,28.0,24.0,25.0,28.0,40.0],\"type\":\"histogram\"}],                        {\"template\":{\"data\":{\"bar\":[{\"error_x\":{\"color\":\"#2a3f5f\"},\"error_y\":{\"color\":\"#2a3f5f\"},\"marker\":{\"line\":{\"color\":\"#E5ECF6\",\"width\":0.5},\"pattern\":{\"fillmode\":\"overlay\",\"size\":10,\"solidity\":0.2}},\"type\":\"bar\"}],\"barpolar\":[{\"marker\":{\"line\":{\"color\":\"#E5ECF6\",\"width\":0.5},\"pattern\":{\"fillmode\":\"overlay\",\"size\":10,\"solidity\":0.2}},\"type\":\"barpolar\"}],\"carpet\":[{\"aaxis\":{\"endlinecolor\":\"#2a3f5f\",\"gridcolor\":\"white\",\"linecolor\":\"white\",\"minorgridcolor\":\"white\",\"startlinecolor\":\"#2a3f5f\"},\"baxis\":{\"endlinecolor\":\"#2a3f5f\",\"gridcolor\":\"white\",\"linecolor\":\"white\",\"minorgridcolor\":\"white\",\"startlinecolor\":\"#2a3f5f\"},\"type\":\"carpet\"}],\"choropleth\":[{\"colorbar\":{\"outlinewidth\":0,\"ticks\":\"\"},\"type\":\"choropleth\"}],\"contour\":[{\"colorbar\":{\"outlinewidth\":0,\"ticks\":\"\"},\"colorscale\":[[0.0,\"#0d0887\"],[0.1111111111111111,\"#46039f\"],[0.2222222222222222,\"#7201a8\"],[0.3333333333333333,\"#9c179e\"],[0.4444444444444444,\"#bd3786\"],[0.5555555555555556,\"#d8576b\"],[0.6666666666666666,\"#ed7953\"],[0.7777777777777778,\"#fb9f3a\"],[0.8888888888888888,\"#fdca26\"],[1.0,\"#f0f921\"]],\"type\":\"contour\"}],\"contourcarpet\":[{\"colorbar\":{\"outlinewidth\":0,\"ticks\":\"\"},\"type\":\"contourcarpet\"}],\"heatmap\":[{\"colorbar\":{\"outlinewidth\":0,\"ticks\":\"\"},\"colorscale\":[[0.0,\"#0d0887\"],[0.1111111111111111,\"#46039f\"],[0.2222222222222222,\"#7201a8\"],[0.3333333333333333,\"#9c179e\"],[0.4444444444444444,\"#bd3786\"],[0.5555555555555556,\"#d8576b\"],[0.6666666666666666,\"#ed7953\"],[0.7777777777777778,\"#fb9f3a\"],[0.8888888888888888,\"#fdca26\"],[1.0,\"#f0f921\"]],\"type\":\"heatmap\"}],\"heatmapgl\":[{\"colorbar\":{\"outlinewidth\":0,\"ticks\":\"\"},\"colorscale\":[[0.0,\"#0d0887\"],[0.1111111111111111,\"#46039f\"],[0.2222222222222222,\"#7201a8\"],[0.3333333333333333,\"#9c179e\"],[0.4444444444444444,\"#bd3786\"],[0.5555555555555556,\"#d8576b\"],[0.6666666666666666,\"#ed7953\"],[0.7777777777777778,\"#fb9f3a\"],[0.8888888888888888,\"#fdca26\"],[1.0,\"#f0f921\"]],\"type\":\"heatmapgl\"}],\"histogram\":[{\"marker\":{\"pattern\":{\"fillmode\":\"overlay\",\"size\":10,\"solidity\":0.2}},\"type\":\"histogram\"}],\"histogram2d\":[{\"colorbar\":{\"outlinewidth\":0,\"ticks\":\"\"},\"colorscale\":[[0.0,\"#0d0887\"],[0.1111111111111111,\"#46039f\"],[0.2222222222222222,\"#7201a8\"],[0.3333333333333333,\"#9c179e\"],[0.4444444444444444,\"#bd3786\"],[0.5555555555555556,\"#d8576b\"],[0.6666666666666666,\"#ed7953\"],[0.7777777777777778,\"#fb9f3a\"],[0.8888888888888888,\"#fdca26\"],[1.0,\"#f0f921\"]],\"type\":\"histogram2d\"}],\"histogram2dcontour\":[{\"colorbar\":{\"outlinewidth\":0,\"ticks\":\"\"},\"colorscale\":[[0.0,\"#0d0887\"],[0.1111111111111111,\"#46039f\"],[0.2222222222222222,\"#7201a8\"],[0.3333333333333333,\"#9c179e\"],[0.4444444444444444,\"#bd3786\"],[0.5555555555555556,\"#d8576b\"],[0.6666666666666666,\"#ed7953\"],[0.7777777777777778,\"#fb9f3a\"],[0.8888888888888888,\"#fdca26\"],[1.0,\"#f0f921\"]],\"type\":\"histogram2dcontour\"}],\"mesh3d\":[{\"colorbar\":{\"outlinewidth\":0,\"ticks\":\"\"},\"type\":\"mesh3d\"}],\"parcoords\":[{\"line\":{\"colorbar\":{\"outlinewidth\":0,\"ticks\":\"\"}},\"type\":\"parcoords\"}],\"pie\":[{\"automargin\":true,\"type\":\"pie\"}],\"scatter\":[{\"marker\":{\"colorbar\":{\"outlinewidth\":0,\"ticks\":\"\"}},\"type\":\"scatter\"}],\"scatter3d\":[{\"line\":{\"colorbar\":{\"outlinewidth\":0,\"ticks\":\"\"}},\"marker\":{\"colorbar\":{\"outlinewidth\":0,\"ticks\":\"\"}},\"type\":\"scatter3d\"}],\"scattercarpet\":[{\"marker\":{\"colorbar\":{\"outlinewidth\":0,\"ticks\":\"\"}},\"type\":\"scattercarpet\"}],\"scattergeo\":[{\"marker\":{\"colorbar\":{\"outlinewidth\":0,\"ticks\":\"\"}},\"type\":\"scattergeo\"}],\"scattergl\":[{\"marker\":{\"colorbar\":{\"outlinewidth\":0,\"ticks\":\"\"}},\"type\":\"scattergl\"}],\"scattermapbox\":[{\"marker\":{\"colorbar\":{\"outlinewidth\":0,\"ticks\":\"\"}},\"type\":\"scattermapbox\"}],\"scatterpolar\":[{\"marker\":{\"colorbar\":{\"outlinewidth\":0,\"ticks\":\"\"}},\"type\":\"scatterpolar\"}],\"scatterpolargl\":[{\"marker\":{\"colorbar\":{\"outlinewidth\":0,\"ticks\":\"\"}},\"type\":\"scatterpolargl\"}],\"scatterternary\":[{\"marker\":{\"colorbar\":{\"outlinewidth\":0,\"ticks\":\"\"}},\"type\":\"scatterternary\"}],\"surface\":[{\"colorbar\":{\"outlinewidth\":0,\"ticks\":\"\"},\"colorscale\":[[0.0,\"#0d0887\"],[0.1111111111111111,\"#46039f\"],[0.2222222222222222,\"#7201a8\"],[0.3333333333333333,\"#9c179e\"],[0.4444444444444444,\"#bd3786\"],[0.5555555555555556,\"#d8576b\"],[0.6666666666666666,\"#ed7953\"],[0.7777777777777778,\"#fb9f3a\"],[0.8888888888888888,\"#fdca26\"],[1.0,\"#f0f921\"]],\"type\":\"surface\"}],\"table\":[{\"cells\":{\"fill\":{\"color\":\"#EBF0F8\"},\"line\":{\"color\":\"white\"}},\"header\":{\"fill\":{\"color\":\"#C8D4E3\"},\"line\":{\"color\":\"white\"}},\"type\":\"table\"}]},\"layout\":{\"annotationdefaults\":{\"arrowcolor\":\"#2a3f5f\",\"arrowhead\":0,\"arrowwidth\":1},\"autotypenumbers\":\"strict\",\"coloraxis\":{\"colorbar\":{\"outlinewidth\":0,\"ticks\":\"\"}},\"colorscale\":{\"diverging\":[[0,\"#8e0152\"],[0.1,\"#c51b7d\"],[0.2,\"#de77ae\"],[0.3,\"#f1b6da\"],[0.4,\"#fde0ef\"],[0.5,\"#f7f7f7\"],[0.6,\"#e6f5d0\"],[0.7,\"#b8e186\"],[0.8,\"#7fbc41\"],[0.9,\"#4d9221\"],[1,\"#276419\"]],\"sequential\":[[0.0,\"#0d0887\"],[0.1111111111111111,\"#46039f\"],[0.2222222222222222,\"#7201a8\"],[0.3333333333333333,\"#9c179e\"],[0.4444444444444444,\"#bd3786\"],[0.5555555555555556,\"#d8576b\"],[0.6666666666666666,\"#ed7953\"],[0.7777777777777778,\"#fb9f3a\"],[0.8888888888888888,\"#fdca26\"],[1.0,\"#f0f921\"]],\"sequentialminus\":[[0.0,\"#0d0887\"],[0.1111111111111111,\"#46039f\"],[0.2222222222222222,\"#7201a8\"],[0.3333333333333333,\"#9c179e\"],[0.4444444444444444,\"#bd3786\"],[0.5555555555555556,\"#d8576b\"],[0.6666666666666666,\"#ed7953\"],[0.7777777777777778,\"#fb9f3a\"],[0.8888888888888888,\"#fdca26\"],[1.0,\"#f0f921\"]]},\"colorway\":[\"#636efa\",\"#EF553B\",\"#00cc96\",\"#ab63fa\",\"#FFA15A\",\"#19d3f3\",\"#FF6692\",\"#B6E880\",\"#FF97FF\",\"#FECB52\"],\"font\":{\"color\":\"#2a3f5f\"},\"geo\":{\"bgcolor\":\"white\",\"lakecolor\":\"white\",\"landcolor\":\"#E5ECF6\",\"showlakes\":true,\"showland\":true,\"subunitcolor\":\"white\"},\"hoverlabel\":{\"align\":\"left\"},\"hovermode\":\"closest\",\"mapbox\":{\"style\":\"light\"},\"paper_bgcolor\":\"white\",\"plot_bgcolor\":\"#E5ECF6\",\"polar\":{\"angularaxis\":{\"gridcolor\":\"white\",\"linecolor\":\"white\",\"ticks\":\"\"},\"bgcolor\":\"#E5ECF6\",\"radialaxis\":{\"gridcolor\":\"white\",\"linecolor\":\"white\",\"ticks\":\"\"}},\"scene\":{\"xaxis\":{\"backgroundcolor\":\"#E5ECF6\",\"gridcolor\":\"white\",\"gridwidth\":2,\"linecolor\":\"white\",\"showbackground\":true,\"ticks\":\"\",\"zerolinecolor\":\"white\"},\"yaxis\":{\"backgroundcolor\":\"#E5ECF6\",\"gridcolor\":\"white\",\"gridwidth\":2,\"linecolor\":\"white\",\"showbackground\":true,\"ticks\":\"\",\"zerolinecolor\":\"white\"},\"zaxis\":{\"backgroundcolor\":\"#E5ECF6\",\"gridcolor\":\"white\",\"gridwidth\":2,\"linecolor\":\"white\",\"showbackground\":true,\"ticks\":\"\",\"zerolinecolor\":\"white\"}},\"shapedefaults\":{\"line\":{\"color\":\"#2a3f5f\"}},\"ternary\":{\"aaxis\":{\"gridcolor\":\"white\",\"linecolor\":\"white\",\"ticks\":\"\"},\"baxis\":{\"gridcolor\":\"white\",\"linecolor\":\"white\",\"ticks\":\"\"},\"bgcolor\":\"#E5ECF6\",\"caxis\":{\"gridcolor\":\"white\",\"linecolor\":\"white\",\"ticks\":\"\"}},\"title\":{\"x\":0.05},\"xaxis\":{\"automargin\":true,\"gridcolor\":\"white\",\"linecolor\":\"white\",\"ticks\":\"\",\"title\":{\"standoff\":15},\"zerolinecolor\":\"white\",\"zerolinewidth\":2},\"yaxis\":{\"automargin\":true,\"gridcolor\":\"white\",\"linecolor\":\"white\",\"ticks\":\"\",\"title\":{\"standoff\":15},\"zerolinecolor\":\"white\",\"zerolinewidth\":2}}},\"title\":{\"text\":\" Negative Reviews By Age\",\"xanchor\":\"center\",\"yanchor\":\"top\",\"x\":0.5},\"xaxis\":{\"title\":{\"text\":\"Age\"}},\"yaxis\":{\"title\":{\"text\":\"Frequency\"}}},                        {\"responsive\": true}                    ).then(function(){\n",
       "                            \n",
       "var gd = document.getElementById('697bc53a-2d37-4fad-844a-a81a7116ab3d');\n",
       "var x = new MutationObserver(function (mutations, observer) {{\n",
       "        var display = window.getComputedStyle(gd).display;\n",
       "        if (!display || display === 'none') {{\n",
       "            console.log([gd, 'removed!']);\n",
       "            Plotly.purge(gd);\n",
       "            observer.disconnect();\n",
       "        }}\n",
       "}});\n",
       "\n",
       "// Listen for the removal of the full notebook cells\n",
       "var notebookContainer = gd.closest('#notebook-container');\n",
       "if (notebookContainer) {{\n",
       "    x.observe(notebookContainer, {childList: true});\n",
       "}}\n",
       "\n",
       "// Listen for the clearing of the current output cell\n",
       "var outputEl = gd.closest('.output');\n",
       "if (outputEl) {{\n",
       "    x.observe(outputEl, {childList: true});\n",
       "}}\n",
       "\n",
       "                        })                };                            </script>        </div>\n",
       "</body>\n",
       "</html>"
      ]
     },
     "metadata": {},
     "output_type": "display_data"
    }
   ],
   "source": [
    "fig = go.Figure(data=[go.Histogram(x=df['Age'])])\n",
    "fig.update_layout(\n",
    "    title={'text':' Negative Reviews By Age',\n",
    "           'xanchor':'center',\n",
    "           'yanchor':'top',\n",
    "           'x':0.5},xaxis_title=\"Age\", yaxis_title=\"Frequency\")\n",
    "\n",
    "fig.show()"
   ]
  },
  {
   "cell_type": "code",
   "execution_count": null,
   "metadata": {
    "id": "e85tl7iTPPOx"
   },
   "outputs": [],
   "source": [
    "df['Agegroup'] = pd.cut(x=df['Age'], bins=[0, 10, 20, 30, 40, 50, 60,70, 80],\n",
    "                    labels=['0 - 10 years', '11 - 20 years', '21 - 30 years',\n",
    "                            '31 - 40 years', '41- 50 years','51 - 60 years','61 - 70 years','71 - 80 years'])\n",
    " "
   ]
  },
  {
   "cell_type": "code",
   "execution_count": null,
   "metadata": {
    "colab": {
     "base_uri": "https://localhost:8080/",
     "height": 710
    },
    "id": "l-Ap8Xj2QmFS",
    "outputId": "976d7c27-fdc9-4ac3-f72d-8734cff85ff0"
   },
   "outputs": [
    {
     "data": {
      "text/plain": [
       "Text(0.5, 1.0, 'Negative Reviews according to Age Group')"
      ]
     },
     "execution_count": 85,
     "metadata": {},
     "output_type": "execute_result"
    },
    {
     "data": {
      "image/png": "[encoded data removed]",
      "text/plain": [
       "<Figure size 1080x1080 with 1 Axes>"
      ]
     },
     "metadata": {},
     "output_type": "display_data"
    }
   ],
   "source": [
    "plt.figure(figsize = (15,15))\n",
    "sns.countplot(y='Agegroup',data=df)\n",
    "sns.set(font_scale=1.3)\n",
    "plt.xlabel('Frequency')\n",
    "plt.title('Negative Reviews according to Age Group')"
   ]
  },
  {
   "cell_type": "code",
   "execution_count": null,
   "metadata": {
    "id": "9cp7rj57QmI5"
   },
   "outputs": [],
   "source": []
  },
  {
   "cell_type": "markdown",
   "metadata": {
    "id": "vDvpAAkMAIL9"
   },
   "source": [
    "Insights\n",
    "1. The distribution of age is rightly skewed  but centered around 30 years of age\n",
    "2. This is highly expected as youths tend to Use Airbnb often"
   ]
  },
  {
   "cell_type": "code",
   "execution_count": null,
   "metadata": {
    "id": "lt9lwbRtQmO6"
   },
   "outputs": [],
   "source": []
  },
  {
   "cell_type": "markdown",
   "metadata": {
    "id": "elZY20s2QUQm"
   },
   "source": [
    "## NEGATIVE REVIEWS BY RACE"
   ]
  },
  {
   "cell_type": "code",
   "execution_count": null,
   "metadata": {
    "id": "cW8QmM28UCWB"
   },
   "outputs": [],
   "source": []
  },
  {
   "cell_type": "markdown",
   "metadata": {
    "id": "2Epul59IQUUv"
   },
   "source": []
  },
  {
   "cell_type": "code",
   "execution_count": null,
   "metadata": {
    "colab": {
     "base_uri": "https://localhost:8080/"
    },
    "id": "4fkHN4uUSdOV",
    "outputId": "946bedba-557d-46b5-c51f-8b2de9b6184b"
   },
   "outputs": [
    {
     "data": {
      "text/plain": [
       "white              3288\n",
       "black              1151\n",
       "asian               929\n",
       "middle eastern      594\n",
       "latino hispanic     455\n",
       "indian               91\n",
       "Name: Race, dtype: int64"
      ]
     },
     "execution_count": 86,
     "metadata": {},
     "output_type": "execute_result"
    }
   ],
   "source": [
    "df['Race'].value_counts()"
   ]
  },
  {
   "cell_type": "code",
   "execution_count": null,
   "metadata": {
    "colab": {
     "base_uri": "https://localhost:8080/",
     "height": 542
    },
    "id": "yRk0yXunSh4E",
    "outputId": "35f49898-4253-47fe-fd99-b503b4592896"
   },
   "outputs": [
    {
     "data": {
      "text/html": [
       "<html>\n",
       "<head><meta charset=\"utf-8\" /></head>\n",
       "<body>\n",
       "    <div>            <script src=\"https://cdnjs.cloudflare.com/ajax/libs/mathjax/2.7.5/MathJax.js?config=TeX-AMS-MML_SVG\"></script><script type=\"text/javascript\">if (window.MathJax) {MathJax.Hub.Config({SVG: {font: \"STIX-Web\"}});}</script>                <script type=\"text/javascript\">window.PlotlyConfig = {MathJaxConfig: 'local'};</script>\n",
       "        <script src=\"https://cdn.plot.ly/plotly-2.8.3.min.js\"></script>                <div id=\"0ab89ade-d088-4a49-a5e5-e5473d034845\" class=\"plotly-graph-div\" style=\"height:525px; width:100%;\"></div>            <script type=\"text/javascript\">                                    window.PLOTLYENV=window.PLOTLYENV || {};                                    if (document.getElementById(\"0ab89ade-d088-4a49-a5e5-e5473d034845\")) {                    Plotly.newPlot(                        \"0ab89ade-d088-4a49-a5e5-e5473d034845\",                        [{\"x\":[\"white\",\"white\",\"middle eastern\",\"asian\",\"black\",\"black\",\"middle eastern\",\"black\",\"white\",\"white\",\"white\",\"white\",\"white\",\"middle eastern\",\"asian\",\"latino hispanic\",\"white\",\"white\",\"white\",\"white\",\"middle eastern\",\"black\",\"white\",\"white\",\"white\",\"black\",\"white\",\"asian\",\"white\",\"asian\",\"white\",\"white\",\"white\",\"black\",\"white\",\"asian\",\"black\",\"black\",\"black\",\"white\",\"white\",\"asian\",\"black\",\"latino hispanic\",\"middle eastern\",\"latino hispanic\",\"white\",\"latino hispanic\",\"black\",\"black\",\"white\",\"white\",\"asian\",\"asian\",\"asian\",\"indian\",\"black\",\"white\",\"black\",\"white\",\"asian\",\"white\",\"black\",\"white\",\"middle eastern\",\"white\",\"white\",\"white\",\"black\",\"middle eastern\",\"asian\",\"white\",\"asian\",\"black\",\"latino hispanic\",\"white\",\"black\",\"white\",\"white\",\"white\",\"white\",\"white\",\"asian\",\"black\",\"white\",\"asian\",\"white\",\"white\",\"white\",\"white\",\"middle eastern\",\"white\",\"white\",\"black\",\"middle eastern\",\"black\",\"white\",\"white\",\"black\",\"white\",\"asian\",\"asian\",\"black\",\"asian\",\"black\",\"white\",\"white\",\"white\",\"white\",\"black\",\"middle eastern\",\"asian\",\"black\",\"white\",\"white\",\"middle eastern\",\"latino hispanic\",\"white\",\"white\",\"white\",\"black\",\"asian\",\"white\",\"white\",\"middle eastern\",\"white\",\"black\",\"black\",\"white\",\"white\",\"white\",\"black\",\"white\",\"white\",\"white\",\"white\",\"white\",\"white\",\"white\",\"black\",\"white\",\"white\",\"indian\",\"black\",\"latino hispanic\",\"middle eastern\",\"white\",\"white\",\"middle eastern\",\"black\",\"middle eastern\",\"white\",\"white\",\"black\",\"black\",\"asian\",\"white\",\"white\",\"white\",\"white\",\"white\",\"black\",\"asian\",\"latino hispanic\",\"white\",\"white\",\"white\",\"black\",\"white\",\"asian\",\"latino hispanic\",\"white\",\"latino hispanic\",\"black\",\"latino hispanic\",\"asian\",\"white\",\"middle eastern\",\"black\",\"middle eastern\",\"white\",\"latino hispanic\",\"middle eastern\",\"middle eastern\",\"white\",\"black\",\"white\",\"black\",\"white\",\"white\",\"white\",\"latino hispanic\",\"white\",\"white\",\"black\",\"white\",\"asian\",\"latino hispanic\",\"white\",\"white\",\"asian\",\"white\",\"white\",\"white\",\"asian\",\"black\",\"white\",\"white\",\"black\",\"white\",\"white\",\"white\",\"white\",\"black\",\"asian\",\"white\",\"asian\",\"latino hispanic\",\"white\",\"white\",\"black\",\"white\",\"white\",\"white\",\"white\",\"black\",\"white\",\"white\",\"white\",\"white\",\"asian\",\"white\",\"white\",\"white\",\"white\",\"black\",\"white\",\"white\",\"white\",\"latino hispanic\",\"asian\",\"asian\",\"black\",\"white\",\"white\",\"middle eastern\",\"latino hispanic\",\"white\",\"asian\",\"white\",\"white\",\"white\",\"black\",\"black\",\"white\",\"white\",\"white\",\"asian\",\"white\",\"asian\",\"white\",\"middle eastern\",\"white\",\"white\",\"white\",\"white\",\"white\",\"asian\",\"black\",\"white\",\"white\",\"white\",\"asian\",\"white\",\"black\",\"white\",\"middle eastern\",\"latino hispanic\",\"latino hispanic\",\"middle eastern\",\"white\",\"white\",\"middle eastern\",\"white\",\"black\",\"white\",\"black\",\"white\",\"white\",\"white\",\"asian\",\"asian\",\"white\",\"black\",\"asian\",\"middle eastern\",\"white\",\"black\",\"white\",\"white\",\"white\",\"white\",\"white\",\"black\",\"white\",\"white\",\"white\",\"white\",\"black\",\"white\",\"white\",\"latino hispanic\",\"black\",\"asian\",\"black\",\"white\",\"black\",\"latino hispanic\",\"white\",\"latino hispanic\",\"white\",\"black\",\"latino hispanic\",\"asian\",\"latino hispanic\",\"black\",\"asian\",\"middle eastern\",\"latino hispanic\",\"white\",\"white\",\"black\",\"white\",\"white\",\"asian\",\"black\",\"white\",\"white\",\"white\",\"middle eastern\",\"middle eastern\",\"white\",\"black\",\"white\",\"black\",\"middle eastern\",\"white\",\"latino hispanic\",\"white\",\"asian\",\"white\",\"white\",\"black\",\"middle eastern\",\"white\",\"asian\",\"white\",\"white\",\"white\",\"middle eastern\",\"white\",\"white\",\"white\",\"middle eastern\",\"white\",\"middle eastern\",\"white\",\"white\",\"white\",\"asian\",\"middle eastern\",\"asian\",\"white\",\"white\",\"black\",\"white\",\"asian\",\"black\",\"asian\",\"white\",\"latino hispanic\",\"black\",\"latino hispanic\",\"asian\",\"white\",\"white\",\"white\",\"white\",\"white\",\"white\",\"white\",\"black\",\"black\",\"white\",\"white\",\"white\",\"white\",\"asian\",\"white\",\"asian\",\"asian\",\"middle eastern\",\"white\",\"white\",\"asian\",\"asian\",\"white\",\"asian\",\"white\",\"white\",\"white\",\"latino hispanic\",\"asian\",\"latino hispanic\",\"white\",\"white\",\"asian\",\"white\",\"black\",\"asian\",\"white\",\"black\",\"white\",\"white\",\"white\",\"white\",\"white\",\"white\",\"middle eastern\",\"white\",\"asian\",\"white\",\"white\",\"asian\",\"black\",\"white\",\"black\",\"black\",\"white\",\"white\",\"white\",\"middle eastern\",\"white\",\"white\",\"black\",\"white\",\"asian\",\"middle eastern\",\"white\",\"white\",\"asian\",\"latino hispanic\",\"white\",\"white\",\"white\",\"black\",\"asian\",\"asian\",\"white\",\"white\",\"black\",\"black\",\"white\",\"black\",\"white\",\"black\",\"asian\",\"white\",\"black\",\"white\",\"asian\",\"black\",\"white\",\"white\",\"black\",\"white\",\"black\",\"latino hispanic\",\"white\",\"white\",\"asian\",\"white\",\"latino hispanic\",\"black\",\"asian\",\"middle eastern\",\"black\",\"latino hispanic\",\"white\",\"white\",\"white\",\"white\",\"white\",\"latino hispanic\",\"middle eastern\",\"middle eastern\",\"latino hispanic\",\"white\",\"black\",\"white\",\"white\",\"white\",\"white\",\"asian\",\"asian\",\"black\",\"white\",\"white\",\"black\",\"white\",\"white\",\"asian\",\"black\",\"black\",\"black\",\"white\",\"black\",\"white\",\"white\",\"asian\",\"white\",\"asian\",\"middle eastern\",\"white\",\"black\",\"asian\",\"white\",\"asian\",\"white\",\"white\",\"black\",\"white\",\"asian\",\"black\",\"middle eastern\",\"middle eastern\",\"white\",\"white\",\"middle eastern\",\"white\",\"middle eastern\",\"white\",\"white\",\"latino hispanic\",\"black\",\"white\",\"black\",\"middle eastern\",\"white\",\"middle eastern\",\"white\",\"white\",\"asian\",\"asian\",\"white\",\"white\",\"white\",\"white\",\"black\",\"middle eastern\",\"asian\",\"white\",\"white\",\"white\",\"latino hispanic\",\"white\",\"asian\",\"black\",\"white\",\"latino hispanic\",\"white\",\"asian\",\"white\",\"white\",\"white\",\"white\",\"white\",\"middle eastern\",\"white\",\"asian\",\"asian\",\"white\",\"white\",\"white\",\"asian\",\"asian\",\"white\",\"white\",\"black\",\"asian\",\"middle eastern\",\"white\",\"asian\",\"asian\",\"latino hispanic\",\"asian\",\"white\",\"white\",\"white\",\"white\",\"middle eastern\",\"white\",\"asian\",\"white\",\"black\",\"white\",\"white\",\"black\",\"asian\",\"white\",\"white\",\"white\",\"middle eastern\",\"white\",\"white\",\"black\",\"white\",\"white\",\"white\",\"middle eastern\",\"white\",\"white\",\"indian\",\"white\",\"white\",\"asian\",\"white\",\"white\",\"white\",\"white\",\"white\",\"white\",\"white\",\"white\",\"white\",\"white\",\"black\",\"black\",\"middle eastern\",\"black\",\"white\",\"latino hispanic\",\"white\",\"white\",\"middle eastern\",\"white\",\"middle eastern\",\"black\",\"white\",\"latino hispanic\",\"black\",\"latino hispanic\",\"white\",\"middle eastern\",\"asian\",\"white\",\"white\",\"white\",\"black\",\"white\",\"asian\",\"black\",\"white\",\"white\",\"black\",\"white\",\"black\",\"black\",\"asian\",\"white\",\"white\",\"white\",\"middle eastern\",\"asian\",\"middle eastern\",\"asian\",\"white\",\"asian\",\"black\",\"white\",\"white\",\"white\",\"white\",\"white\",\"asian\",\"white\",\"white\",\"middle eastern\",\"white\",\"white\",\"asian\",\"white\",\"middle eastern\",\"asian\",\"asian\",\"middle eastern\",\"white\",\"white\",\"white\",\"black\",\"white\",\"white\",\"black\",\"black\",\"white\",\"indian\",\"white\",\"black\",\"white\",\"white\",\"white\",\"white\",\"white\",\"white\",\"white\",\"black\",\"white\",\"latino hispanic\",\"latino hispanic\",\"white\",\"white\",\"middle eastern\",\"black\",\"white\",\"latino hispanic\",\"white\",\"white\",\"black\",\"asian\",\"black\",\"middle eastern\",\"black\",\"white\",\"white\",\"white\",\"asian\",\"indian\",\"asian\",\"indian\",\"white\",\"white\",\"black\",\"white\",\"white\",\"black\",\"asian\",\"asian\",\"white\",\"white\",\"middle eastern\",\"white\",\"black\",\"white\",\"black\",\"black\",\"middle eastern\",\"latino hispanic\",\"latino hispanic\",\"asian\",\"black\",\"black\",\"white\",\"white\",\"white\",\"middle eastern\",\"white\",\"white\",\"white\",\"white\",\"white\",\"white\",\"white\",\"indian\",\"indian\",\"white\",\"asian\",\"asian\",\"black\",\"white\",\"white\",\"white\",\"middle eastern\",\"black\",\"indian\",\"middle eastern\",\"black\",\"white\",\"black\",\"white\",\"white\",\"asian\",\"latino hispanic\",\"middle eastern\",\"white\",\"white\",\"middle eastern\",\"middle eastern\",\"white\",\"asian\",\"white\",\"white\",\"white\",\"black\",\"asian\",\"white\",\"white\",\"black\",\"black\",\"white\",\"white\",\"black\",\"white\",\"black\",\"black\",\"middle eastern\",\"middle eastern\",\"latino hispanic\",\"white\",\"white\",\"white\",\"white\",\"black\",\"white\",\"latino hispanic\",\"middle eastern\",\"black\",\"white\",\"white\",\"black\",\"black\",\"black\",\"black\",\"asian\",\"white\",\"white\",\"white\",\"indian\",\"indian\",\"white\",\"latino hispanic\",\"black\",\"white\",\"middle eastern\",\"white\",\"asian\",\"white\",\"middle eastern\",\"white\",\"black\",\"asian\",\"black\",\"black\",\"white\",\"asian\",\"white\",\"white\",\"asian\",\"white\",\"white\",\"white\",\"asian\",\"latino hispanic\",\"asian\",\"asian\",\"asian\",\"asian\",\"black\",\"asian\",\"white\",\"black\",\"black\",\"latino hispanic\",\"asian\",\"white\",\"black\",\"white\",\"black\",\"middle eastern\",\"white\",\"asian\",\"asian\",\"latino hispanic\",\"asian\",\"asian\",\"asian\",\"black\",\"white\",\"white\",\"white\",\"middle eastern\",\"middle eastern\",\"white\",\"asian\",\"black\",\"middle eastern\",\"white\",\"white\",\"asian\",\"white\",\"white\",\"asian\",\"white\",\"white\",\"black\",\"white\",\"white\",\"black\",\"latino hispanic\",\"white\",\"middle eastern\",\"black\",\"white\",\"white\",\"white\",\"white\",\"white\",\"black\",\"white\",\"white\",\"black\",\"white\",\"white\",\"white\",\"latino hispanic\",\"middle eastern\",\"white\",\"indian\",\"black\",\"asian\",\"black\",\"white\",\"white\",\"black\",\"white\",\"asian\",\"black\",\"latino hispanic\",\"white\",\"black\",\"middle eastern\",\"white\",\"asian\",\"white\",\"white\",\"middle eastern\",\"white\",\"white\",\"white\",\"asian\",\"indian\",\"white\",\"white\",\"black\",\"asian\",\"white\",\"white\",\"latino hispanic\",\"white\",\"indian\",\"white\",\"black\",\"latino hispanic\",\"middle eastern\",\"latino hispanic\",\"white\",\"black\",\"white\",\"white\",\"white\",\"white\",\"white\",\"black\",\"latino hispanic\",\"latino hispanic\",\"asian\",\"white\",\"white\",\"white\",\"middle eastern\",\"white\",\"white\",\"asian\",\"white\",\"middle eastern\",\"asian\",\"white\",\"white\",\"middle eastern\",\"latino hispanic\",\"white\",\"white\",\"white\",\"asian\",\"middle eastern\",\"white\",\"white\",\"white\",\"white\",\"black\",\"black\",\"asian\",\"asian\",\"middle eastern\",\"latino hispanic\",\"white\",\"middle eastern\",\"white\",\"black\",\"black\",\"black\",\"asian\",\"middle eastern\",\"asian\",\"white\",\"middle eastern\",\"white\",\"white\",\"indian\",\"black\",\"black\",\"white\",\"white\",\"white\",\"white\",\"black\",\"black\",\"white\",\"indian\",\"white\",\"black\",\"middle eastern\",\"latino hispanic\",\"asian\",\"white\",\"white\",\"white\",\"white\",\"black\",\"white\",\"asian\",\"asian\",\"white\",\"black\",\"asian\",\"white\",\"latino hispanic\",\"asian\",\"white\",\"black\",\"middle eastern\",\"latino hispanic\",\"white\",\"latino hispanic\",\"middle eastern\",\"white\",\"middle eastern\",\"white\",\"white\",\"black\",\"white\",\"black\",\"asian\",\"white\",\"white\",\"middle eastern\",\"white\",\"black\",\"white\",\"white\",\"asian\",\"black\",\"white\",\"latino hispanic\",\"black\",\"white\",\"white\",\"white\",\"white\",\"white\",\"white\",\"white\",\"black\",\"middle eastern\",\"white\",\"white\",\"white\",\"white\",\"white\",\"white\",\"white\",\"white\",\"white\",\"asian\",\"latino hispanic\",\"middle eastern\",\"asian\",\"asian\",\"white\",\"black\",\"white\",\"white\",\"white\",\"asian\",\"white\",\"white\",\"white\",\"middle eastern\",\"white\",\"indian\",\"white\",\"asian\",\"middle eastern\",\"white\",\"white\",\"asian\",\"latino hispanic\",\"black\",\"asian\",\"asian\",\"white\",\"white\",\"white\",\"white\",\"asian\",\"white\",\"black\",\"white\",\"middle eastern\",\"black\",\"black\",\"white\",\"black\",\"black\",\"latino hispanic\",\"latino hispanic\",\"latino hispanic\",\"white\",\"white\",\"white\",\"black\",\"white\",\"white\",\"white\",\"asian\",\"black\",\"white\",\"white\",\"asian\",\"black\",\"white\",\"black\",\"white\",\"white\",\"asian\",\"white\",\"white\",\"white\",\"white\",\"white\",\"black\",\"white\",\"asian\",\"white\",\"white\",\"black\",\"white\",\"white\",\"asian\",\"asian\",\"black\",\"black\",\"middle eastern\",\"middle eastern\",\"latino hispanic\",\"asian\",\"asian\",\"white\",\"white\",\"white\",\"asian\",\"white\",\"white\",\"black\",\"white\",\"asian\",\"white\",\"white\",\"black\",\"white\",\"white\",\"white\",\"white\",\"white\",\"asian\",\"middle eastern\",\"middle eastern\",\"white\",\"white\",\"latino hispanic\",\"white\",\"white\",\"latino hispanic\",\"white\",\"black\",\"white\",\"asian\",\"black\",\"asian\",\"white\",\"middle eastern\",\"white\",\"black\",\"middle eastern\",\"white\",\"black\",\"black\",\"black\",\"white\",\"white\",\"white\",\"white\",\"latino hispanic\",\"white\",\"asian\",\"middle eastern\",\"middle eastern\",\"black\",\"white\",\"white\",\"black\",\"black\",\"middle eastern\",\"white\",\"white\",\"white\",\"white\",\"white\",\"asian\",\"white\",\"white\",\"white\",\"white\",\"white\",\"black\",\"middle eastern\",\"white\",\"asian\",\"black\",\"middle eastern\",\"white\",\"black\",\"latino hispanic\",\"white\",\"black\",\"white\",\"white\",\"white\",\"white\",\"white\",\"white\",\"black\",\"asian\",\"middle eastern\",\"asian\",\"middle eastern\",\"black\",\"asian\",\"black\",\"white\",\"white\",\"white\",\"black\",\"latino hispanic\",\"white\",\"white\",\"white\",\"black\",\"black\",\"asian\",\"middle eastern\",\"white\",\"white\",\"middle eastern\",\"middle eastern\",\"white\",\"asian\",\"black\",\"white\",\"white\",\"asian\",\"latino hispanic\",\"white\",\"black\",\"black\",\"black\",\"asian\",\"middle eastern\",\"latino hispanic\",\"latino hispanic\",\"latino hispanic\",\"white\",\"latino hispanic\",\"white\",\"white\",\"black\",\"white\",\"latino hispanic\",\"black\",\"white\",\"white\",\"white\",\"white\",\"white\",\"black\",\"white\",\"black\",\"asian\",\"white\",\"white\",\"asian\",\"asian\",\"black\",\"white\",\"asian\",\"white\",\"white\",\"white\",\"white\",\"black\",\"white\",\"latino hispanic\",\"white\",\"latino hispanic\",\"asian\",\"black\",\"white\",\"middle eastern\",\"white\",\"black\",\"white\",\"white\",\"white\",\"white\",\"latino hispanic\",\"white\",\"asian\",\"white\",\"black\",\"asian\",\"white\",\"asian\",\"white\",\"white\",\"asian\",\"middle eastern\",\"asian\",\"white\",\"white\",\"white\",\"white\",\"white\",\"white\",\"white\",\"latino hispanic\",\"latino hispanic\",\"white\",\"black\",\"white\",\"middle eastern\",\"white\",\"black\",\"black\",\"white\",\"white\",\"latino hispanic\",\"black\",\"black\",\"black\",\"white\",\"white\",\"asian\",\"latino hispanic\",\"middle eastern\",\"white\",\"asian\",\"white\",\"black\",\"white\",\"black\",\"white\",\"black\",\"middle eastern\",\"white\",\"middle eastern\",\"middle eastern\",\"white\",\"white\",\"white\",\"black\",\"black\",\"middle eastern\",\"white\",\"black\",\"white\",\"middle eastern\",\"black\",\"latino hispanic\",\"white\",\"white\",\"white\",\"white\",\"middle eastern\",\"middle eastern\",\"middle eastern\",\"indian\",\"white\",\"white\",\"middle eastern\",\"white\",\"white\",\"middle eastern\",\"middle eastern\",\"white\",\"asian\",\"black\",\"white\",\"white\",\"white\",\"white\",\"white\",\"white\",\"asian\",\"black\",\"white\",\"black\",\"asian\",\"asian\",\"white\",\"white\",\"black\",\"white\",\"asian\",\"white\",\"black\",\"black\",\"white\",\"white\",\"white\",\"black\",\"asian\",\"middle eastern\",\"middle eastern\",\"middle eastern\",\"indian\",\"black\",\"white\",\"middle eastern\",\"white\",\"white\",\"white\",\"black\",\"latino hispanic\",\"asian\",\"latino hispanic\",\"white\",\"asian\",\"white\",\"white\",\"white\",\"white\",\"middle eastern\",\"middle eastern\",\"white\",\"white\",\"asian\",\"black\",\"indian\",\"asian\",\"middle eastern\",\"middle eastern\",\"black\",\"white\",\"white\",\"black\",\"asian\",\"white\",\"white\",\"white\",\"latino hispanic\",\"black\",\"white\",\"white\",\"white\",\"white\",\"white\",\"middle eastern\",\"white\",\"asian\",\"latino hispanic\",\"asian\",\"black\",\"white\",\"white\",\"white\",\"asian\",\"white\",\"white\",\"white\",\"black\",\"black\",\"white\",\"black\",\"black\",\"white\",\"white\",\"white\",\"white\",\"white\",\"white\",\"asian\",\"white\",\"asian\",\"white\",\"black\",\"latino hispanic\",\"white\",\"black\",\"black\",\"black\",\"black\",\"black\",\"black\",\"white\",\"white\",\"asian\",\"white\",\"white\",\"middle eastern\",\"white\",\"white\",\"asian\",\"white\",\"latino hispanic\",\"asian\",\"black\",\"white\",\"black\",\"white\",\"middle eastern\",\"black\",\"white\",\"white\",\"white\",\"white\",\"latino hispanic\",\"middle eastern\",\"white\",\"white\",\"asian\",\"asian\",\"white\",\"middle eastern\",\"white\",\"asian\",\"white\",\"white\",\"middle eastern\",\"white\",\"white\",\"black\",\"asian\",\"white\",\"white\",\"middle eastern\",\"white\",\"white\",\"white\",\"white\",\"white\",\"asian\",\"asian\",\"asian\",\"latino hispanic\",\"black\",\"latino hispanic\",\"asian\",\"white\",\"asian\",\"white\",\"white\",\"white\",\"asian\",\"asian\",\"white\",\"black\",\"asian\",\"white\",\"white\",\"black\",\"latino hispanic\",\"white\",\"black\",\"black\",\"white\",\"white\",\"latino hispanic\",\"middle eastern\",\"white\",\"latino hispanic\",\"black\",\"black\",\"white\",\"white\",\"middle eastern\",\"black\",\"white\",\"white\",\"white\",\"white\",\"white\",\"asian\",\"white\",\"black\",\"white\",\"asian\",\"white\",\"white\",\"asian\",\"white\",\"black\",\"latino hispanic\",\"asian\",\"black\",\"white\",\"middle eastern\",\"asian\",\"white\",\"white\",\"white\",\"asian\",\"white\",\"white\",\"asian\",\"black\",\"black\",\"black\",\"black\",\"middle eastern\",\"white\",\"asian\",\"white\",\"black\",\"asian\",\"asian\",\"asian\",\"white\",\"asian\",\"white\",\"asian\",\"black\",\"latino hispanic\",\"white\",\"white\",\"white\",\"white\",\"asian\",\"white\",\"black\",\"black\",\"white\",\"white\",\"asian\",\"white\",\"white\",\"asian\",\"white\",\"white\",\"white\",\"black\",\"black\",\"white\",\"middle eastern\",\"latino hispanic\",\"white\",\"middle eastern\",\"white\",\"latino hispanic\",\"white\",\"middle eastern\",\"black\",\"white\",\"white\",\"white\",\"black\",\"white\",\"black\",\"white\",\"white\",\"white\",\"white\",\"white\",\"white\",\"asian\",\"white\",\"middle eastern\",\"black\",\"black\",\"black\",\"black\",\"black\",\"black\",\"black\",\"white\",\"latino hispanic\",\"white\",\"white\",\"black\",\"white\",\"latino hispanic\",\"white\",\"white\",\"white\",\"white\",\"white\",\"black\",\"white\",\"asian\",\"latino hispanic\",\"asian\",\"black\",\"asian\",\"middle eastern\",\"white\",\"black\",\"latino hispanic\",\"middle eastern\",\"asian\",\"white\",\"white\",\"black\",\"white\",\"asian\",\"white\",\"middle eastern\",\"white\",\"black\",\"black\",\"middle eastern\",\"asian\",\"white\",\"white\",\"black\",\"white\",\"white\",\"middle eastern\",\"white\",\"middle eastern\",\"white\",\"white\",\"white\",\"asian\",\"asian\",\"white\",\"asian\",\"latino hispanic\",\"white\",\"asian\",\"white\",\"black\",\"white\",\"white\",\"white\",\"white\",\"black\",\"asian\",\"white\",\"indian\",\"white\",\"middle eastern\",\"black\",\"middle eastern\",\"white\",\"black\",\"white\",\"white\",\"black\",\"asian\",\"white\",\"latino hispanic\",\"white\",\"latino hispanic\",\"white\",\"white\",\"white\",\"white\",\"white\",\"white\",\"white\",\"white\",\"black\",\"white\",\"black\",\"white\",\"asian\",\"middle eastern\",\"asian\",\"white\",\"white\",\"white\",\"white\",\"asian\",\"white\",\"middle eastern\",\"white\",\"black\",\"black\",\"white\",\"white\",\"black\",\"white\",\"white\",\"white\",\"white\",\"white\",\"asian\",\"asian\",\"white\",\"white\",\"indian\",\"black\",\"asian\",\"white\",\"white\",\"asian\",\"white\",\"white\",\"white\",\"white\",\"white\",\"white\",\"black\",\"white\",\"white\",\"latino hispanic\",\"white\",\"white\",\"white\",\"asian\",\"white\",\"asian\",\"white\",\"white\",\"black\",\"white\",\"asian\",\"white\",\"white\",\"asian\",\"white\",\"white\",\"white\",\"asian\",\"white\",\"white\",\"white\",\"middle eastern\",\"latino hispanic\",\"white\",\"white\",\"middle eastern\",\"middle eastern\",\"black\",\"black\",\"asian\",\"asian\",\"asian\",\"white\",\"white\",\"white\",\"white\",\"white\",\"latino hispanic\",\"white\",\"latino hispanic\",\"white\",\"white\",\"asian\",\"middle eastern\",\"latino hispanic\",\"white\",\"white\",\"white\",\"black\",\"middle eastern\",\"middle eastern\",\"black\",\"asian\",\"white\",\"black\",\"black\",\"middle eastern\",\"latino hispanic\",\"asian\",\"white\",\"white\",\"indian\",\"white\",\"white\",\"white\",\"white\",\"white\",\"white\",\"asian\",\"middle eastern\",\"black\",\"white\",\"asian\",\"white\",\"black\",\"asian\",\"middle eastern\",\"white\",\"asian\",\"white\",\"black\",\"middle eastern\",\"middle eastern\",\"white\",\"black\",\"white\",\"white\",\"asian\",\"asian\",\"white\",\"white\",\"white\",\"middle eastern\",\"asian\",\"asian\",\"asian\",\"middle eastern\",\"latino hispanic\",\"white\",\"black\",\"white\",\"white\",\"middle eastern\",\"black\",\"asian\",\"white\",\"white\",\"white\",\"black\",\"white\",\"white\",\"white\",\"white\",\"white\",\"asian\",\"white\",\"middle eastern\",\"white\",\"black\",\"white\",\"asian\",\"white\",\"white\",\"asian\",\"black\",\"middle eastern\",\"white\",\"asian\",\"asian\",\"white\",\"white\",\"black\",\"white\",\"white\",\"black\",\"white\",\"latino hispanic\",\"white\",\"latino hispanic\",\"white\",\"white\",\"white\",\"white\",\"latino hispanic\",\"white\",\"asian\",\"latino hispanic\",\"white\",\"latino hispanic\",\"asian\",\"white\",\"middle eastern\",\"asian\",\"white\",\"middle eastern\",\"white\",\"white\",\"asian\",\"black\",\"white\",\"black\",\"middle eastern\",\"white\",\"black\",\"white\",\"white\",\"black\",\"white\",\"middle eastern\",\"black\",\"white\",\"white\",\"latino hispanic\",\"black\",\"latino hispanic\",\"asian\",\"asian\",\"middle eastern\",\"latino hispanic\",\"black\",\"white\",\"white\",\"white\",\"asian\",\"white\",\"asian\",\"white\",\"black\",\"black\",\"black\",\"asian\",\"middle eastern\",\"asian\",\"middle eastern\",\"black\",\"middle eastern\",\"asian\",\"white\",\"black\",\"white\",\"asian\",\"asian\",\"white\",\"white\",\"white\",\"black\",\"white\",\"white\",\"asian\",\"black\",\"white\",\"white\",\"white\",\"white\",\"white\",\"black\",\"white\",\"asian\",\"white\",\"white\",\"asian\",\"middle eastern\",\"white\",\"white\",\"middle eastern\",\"middle eastern\",\"white\",\"middle eastern\",\"white\",\"middle eastern\",\"white\",\"white\",\"asian\",\"white\",\"middle eastern\",\"middle eastern\",\"black\",\"black\",\"latino hispanic\",\"black\",\"indian\",\"asian\",\"asian\",\"white\",\"asian\",\"white\",\"asian\",\"black\",\"asian\",\"indian\",\"latino hispanic\",\"white\",\"black\",\"white\",\"white\",\"black\",\"black\",\"black\",\"white\",\"white\",\"white\",\"white\",\"white\",\"asian\",\"asian\",\"white\",\"white\",\"white\",\"latino hispanic\",\"white\",\"asian\",\"white\",\"white\",\"latino hispanic\",\"white\",\"white\",\"white\",\"middle eastern\",\"white\",\"white\",\"latino hispanic\",\"white\",\"white\",\"white\",\"white\",\"latino hispanic\",\"asian\",\"asian\",\"white\",\"middle eastern\",\"middle eastern\",\"latino hispanic\",\"latino hispanic\",\"black\",\"asian\",\"white\",\"white\",\"black\",\"white\",\"white\",\"black\",\"black\",\"white\",\"black\",\"asian\",\"latino hispanic\",\"white\",\"white\",\"asian\",\"white\",\"black\",\"white\",\"asian\",\"latino hispanic\",\"white\",\"white\",\"indian\",\"white\",\"white\",\"middle eastern\",\"latino hispanic\",\"white\",\"white\",\"white\",\"black\",\"black\",\"white\",\"white\",\"white\",\"white\",\"black\",\"middle eastern\",\"asian\",\"asian\",\"white\",\"asian\",\"black\",\"asian\",\"middle eastern\",\"white\",\"middle eastern\",\"white\",\"white\",\"white\",\"white\",\"latino hispanic\",\"white\",\"middle eastern\",\"white\",\"white\",\"black\",\"white\",\"black\",\"white\",\"latino hispanic\",\"latino hispanic\",\"middle eastern\",\"white\",\"black\",\"white\",\"white\",\"white\",\"white\",\"middle eastern\",\"white\",\"white\",\"white\",\"white\",\"middle eastern\",\"asian\",\"asian\",\"white\",\"white\",\"asian\",\"white\",\"white\",\"middle eastern\",\"white\",\"white\",\"white\",\"white\",\"black\",\"asian\",\"white\",\"white\",\"white\",\"white\",\"white\",\"asian\",\"asian\",\"black\",\"latino hispanic\",\"white\",\"asian\",\"white\",\"white\",\"white\",\"white\",\"latino hispanic\",\"white\",\"black\",\"white\",\"black\",\"black\",\"white\",\"white\",\"latino hispanic\",\"black\",\"white\",\"white\",\"asian\",\"white\",\"latino hispanic\",\"asian\",\"white\",\"white\",\"white\",\"white\",\"white\",\"middle eastern\",\"white\",\"white\",\"indian\",\"white\",\"latino hispanic\",\"asian\",\"white\",\"black\",\"white\",\"white\",\"black\",\"black\",\"middle eastern\",\"black\",\"white\",\"white\",\"indian\",\"middle eastern\",\"white\",\"white\",\"white\",\"white\",\"middle eastern\",\"black\",\"white\",\"asian\",\"white\",\"white\",\"white\",\"indian\",\"middle eastern\",\"middle eastern\",\"white\",\"asian\",\"black\",\"white\",\"white\",\"white\",\"white\",\"white\",\"asian\",\"white\",\"white\",\"white\",\"white\",\"white\",\"asian\",\"black\",\"white\",\"asian\",\"middle eastern\",\"white\",\"white\",\"white\",\"white\",\"white\",\"black\",\"latino hispanic\",\"white\",\"white\",\"black\",\"asian\",\"white\",\"middle eastern\",\"asian\",\"black\",\"black\",\"white\",\"middle eastern\",\"white\",\"middle eastern\",\"white\",\"asian\",\"white\",\"middle eastern\",\"asian\",\"white\",\"white\",\"white\",\"black\",\"black\",\"asian\",\"white\",\"asian\",\"white\",\"white\",\"asian\",\"middle eastern\",\"middle eastern\",\"middle eastern\",\"asian\",\"latino hispanic\",\"asian\",\"white\",\"black\",\"asian\",\"asian\",\"asian\",\"white\",\"white\",\"white\",\"black\",\"black\",\"white\",\"indian\",\"white\",\"white\",\"asian\",\"asian\",\"white\",\"asian\",\"black\",\"white\",\"white\",\"white\",\"asian\",\"white\",\"black\",\"white\",\"white\",\"middle eastern\",\"white\",\"white\",\"white\",\"white\",\"asian\",\"asian\",\"asian\",\"white\",\"white\",\"black\",\"white\",\"latino hispanic\",\"middle eastern\",\"asian\",\"white\",\"white\",\"black\",\"black\",\"black\",\"white\",\"white\",\"white\",\"white\",\"asian\",\"white\",\"white\",\"black\",\"asian\",\"white\",\"white\",\"black\",\"black\",\"middle eastern\",\"white\",\"white\",\"asian\",\"asian\",\"black\",\"white\",\"white\",\"white\",\"middle eastern\",\"latino hispanic\",\"asian\",\"white\",\"latino hispanic\",\"white\",\"asian\",\"white\",\"white\",\"asian\",\"white\",\"white\",\"white\",\"white\",\"white\",\"black\",\"black\",\"white\",\"white\",\"white\",\"indian\",\"white\",\"middle eastern\",\"white\",\"white\",\"black\",\"white\",\"white\",\"white\",\"black\",\"middle eastern\",\"asian\",\"white\",\"white\",\"white\",\"latino hispanic\",\"latino hispanic\",\"white\",\"white\",\"white\",\"black\",\"asian\",\"middle eastern\",\"white\",\"asian\",\"asian\",\"white\",\"white\",\"white\",\"white\",\"black\",\"white\",\"white\",\"white\",\"white\",\"white\",\"white\",\"white\",\"white\",\"white\",\"white\",\"white\",\"white\",\"white\",\"black\",\"white\",\"asian\",\"white\",\"white\",\"latino hispanic\",\"black\",\"middle eastern\",\"asian\",\"white\",\"asian\",\"white\",\"black\",\"white\",\"middle eastern\",\"white\",\"black\",\"latino hispanic\",\"white\",\"white\",\"white\",\"middle eastern\",\"indian\",\"white\",\"asian\",\"asian\",\"white\",\"middle eastern\",\"white\",\"white\",\"black\",\"middle eastern\",\"black\",\"white\",\"black\",\"white\",\"latino hispanic\",\"black\",\"white\",\"asian\",\"asian\",\"white\",\"white\",\"black\",\"white\",\"latino hispanic\",\"white\",\"white\",\"white\",\"black\",\"black\",\"middle eastern\",\"latino hispanic\",\"asian\",\"black\",\"middle eastern\",\"latino hispanic\",\"white\",\"white\",\"black\",\"white\",\"middle eastern\",\"white\",\"white\",\"white\",\"white\",\"black\",\"latino hispanic\",\"black\",\"white\",\"latino hispanic\",\"white\",\"black\",\"middle eastern\",\"white\",\"white\",\"black\",\"white\",\"white\",\"white\",\"black\",\"middle eastern\",\"white\",\"white\",\"black\",\"white\",\"white\",\"white\",\"white\",\"white\",\"middle eastern\",\"white\",\"white\",\"black\",\"latino hispanic\",\"white\",\"white\",\"middle eastern\",\"white\",\"asian\",\"white\",\"white\",\"white\",\"white\",\"latino hispanic\",\"white\",\"latino hispanic\",\"white\",\"white\",\"black\",\"white\",\"white\",\"middle eastern\",\"black\",\"black\",\"middle eastern\",\"black\",\"asian\",\"white\",\"asian\",\"white\",\"latino hispanic\",\"white\",\"white\",\"white\",\"black\",\"black\",\"white\",\"white\",\"white\",\"black\",\"asian\",\"white\",\"asian\",\"asian\",\"asian\",\"black\",\"white\",\"white\",\"latino hispanic\",\"white\",\"white\",\"white\",\"white\",\"latino hispanic\",\"black\",\"white\",\"white\",\"black\",\"white\",\"middle eastern\",\"white\",\"white\",\"asian\",\"black\",\"latino hispanic\",\"black\",\"white\",\"black\",\"white\",\"white\",\"black\",\"white\",\"white\",\"white\",\"black\",\"black\",\"white\",\"white\",\"white\",\"white\",\"white\",\"white\",\"white\",\"asian\",\"latino hispanic\",\"black\",\"asian\",\"asian\",\"white\",\"white\",\"middle eastern\",\"white\",\"middle eastern\",\"white\",\"asian\",\"middle eastern\",\"white\",\"white\",\"asian\",\"black\",\"latino hispanic\",\"white\",\"indian\",\"latino hispanic\",\"asian\",\"asian\",\"white\",\"white\",\"black\",\"white\",\"latino hispanic\",\"white\",\"white\",\"white\",\"white\",\"white\",\"white\",\"asian\",\"asian\",\"middle eastern\",\"asian\",\"white\",\"latino hispanic\",\"black\",\"white\",\"white\",\"asian\",\"latino hispanic\",\"asian\",\"white\",\"asian\",\"white\",\"white\",\"latino hispanic\",\"asian\",\"black\",\"black\",\"white\",\"middle eastern\",\"black\",\"black\",\"asian\",\"white\",\"white\",\"asian\",\"black\",\"middle eastern\",\"white\",\"white\",\"white\",\"latino hispanic\",\"latino hispanic\",\"latino hispanic\",\"white\",\"latino hispanic\",\"white\",\"white\",\"asian\",\"asian\",\"asian\",\"white\",\"white\",\"latino hispanic\",\"middle eastern\",\"latino hispanic\",\"black\",\"white\",\"white\",\"white\",\"asian\",\"black\",\"black\",\"latino hispanic\",\"middle eastern\",\"latino hispanic\",\"indian\",\"white\",\"white\",\"white\",\"white\",\"asian\",\"latino hispanic\",\"white\",\"white\",\"white\",\"black\",\"asian\",\"black\",\"white\",\"black\",\"white\",\"white\",\"asian\",\"white\",\"white\",\"white\",\"middle eastern\",\"white\",\"black\",\"white\",\"white\",\"white\",\"black\",\"white\",\"white\",\"asian\",\"white\",\"white\",\"asian\",\"black\",\"middle eastern\",\"white\",\"latino hispanic\",\"white\",\"white\",\"asian\",\"white\",\"white\",\"black\",\"white\",\"white\",\"asian\",\"white\",\"asian\",\"white\",\"white\",\"middle eastern\",\"white\",\"white\",\"white\",\"white\",\"black\",\"white\",\"asian\",\"black\",\"white\",\"asian\",\"asian\",\"middle eastern\",\"white\",\"latino hispanic\",\"black\",\"asian\",\"middle eastern\",\"black\",\"white\",\"white\",\"white\",\"white\",\"white\",\"asian\",\"black\",\"black\",\"white\",\"middle eastern\",\"white\",\"black\",\"white\",\"asian\",\"black\",\"white\",\"middle eastern\",\"white\",\"asian\",\"white\",\"middle eastern\",\"middle eastern\",\"asian\",\"white\",\"black\",\"black\",\"white\",\"indian\",\"black\",\"white\",\"asian\",\"white\",\"white\",\"black\",\"black\",\"white\",\"white\",\"asian\",\"white\",\"white\",\"latino hispanic\",\"white\",\"white\",\"middle eastern\",\"asian\",\"black\",\"white\",\"middle eastern\",\"black\",\"white\",\"white\",\"latino hispanic\",\"latino hispanic\",\"latino hispanic\",\"asian\",\"white\",\"asian\",\"asian\",\"white\",\"white\",\"middle eastern\",\"white\",\"white\",\"white\",\"white\",\"black\",\"white\",\"black\",\"latino hispanic\",\"asian\",\"white\",\"white\",\"white\",\"asian\",\"indian\",\"black\",\"white\",\"middle eastern\",\"white\",\"white\",\"white\",\"white\",\"black\",\"middle eastern\",\"asian\",\"middle eastern\",\"white\",\"middle eastern\",\"asian\",\"white\",\"black\",\"white\",\"white\",\"asian\",\"white\",\"asian\",\"white\",\"asian\",\"white\",\"middle eastern\",\"white\",\"middle eastern\",\"black\",\"white\",\"white\",\"latino hispanic\",\"white\",\"asian\",\"latino hispanic\",\"asian\",\"indian\",\"asian\",\"white\",\"white\",\"black\",\"latino hispanic\",\"latino hispanic\",\"asian\",\"black\",\"middle eastern\",\"latino hispanic\",\"asian\",\"white\",\"asian\",\"black\",\"latino hispanic\",\"white\",\"white\",\"middle eastern\",\"white\",\"latino hispanic\",\"white\",\"white\",\"white\",\"asian\",\"black\",\"white\",\"black\",\"white\",\"white\",\"black\",\"black\",\"white\",\"asian\",\"black\",\"white\",\"white\",\"white\",\"asian\",\"black\",\"black\",\"asian\",\"indian\",\"white\",\"black\",\"white\",\"white\",\"black\",\"white\",\"black\",\"black\",\"asian\",\"white\",\"black\",\"white\",\"black\",\"white\",\"asian\",\"black\",\"white\",\"white\",\"indian\",\"white\",\"white\",\"middle eastern\",\"white\",\"white\",\"white\",\"asian\",\"black\",\"middle eastern\",\"white\",\"white\",\"white\",\"latino hispanic\",\"black\",\"white\",\"asian\",\"black\",\"asian\",\"white\",\"middle eastern\",\"white\",\"latino hispanic\",\"middle eastern\",\"white\",\"white\",\"middle eastern\",\"white\",\"black\",\"white\",\"white\",\"white\",\"white\",\"white\",\"white\",\"indian\",\"white\",\"middle eastern\",\"white\",\"white\",\"middle eastern\",\"black\",\"white\",\"black\",\"white\",\"white\",\"white\",\"white\",\"white\",\"white\",\"white\",\"white\",\"white\",\"white\",\"asian\",\"white\",\"asian\",\"asian\",\"white\",\"indian\",\"latino hispanic\",\"asian\",\"white\",\"white\",\"middle eastern\",\"asian\",\"latino hispanic\",\"white\",\"white\",\"latino hispanic\",\"white\",\"white\",\"black\",\"white\",\"white\",\"middle eastern\",\"white\",\"white\",\"white\",\"black\",\"white\",\"asian\",\"asian\",\"asian\",\"black\",\"white\",\"white\",\"white\",\"asian\",\"black\",\"white\",\"white\",\"white\",\"white\",\"white\",\"white\",\"white\",\"middle eastern\",\"white\",\"asian\",\"white\",\"white\",\"black\",\"asian\",\"latino hispanic\",\"asian\",\"white\",\"white\",\"white\",\"latino hispanic\",\"asian\",\"asian\",\"white\",\"latino hispanic\",\"white\",\"black\",\"white\",\"indian\",\"latino hispanic\",\"middle eastern\",\"white\",\"black\",\"asian\",\"latino hispanic\",\"black\",\"white\",\"white\",\"middle eastern\",\"white\",\"white\",\"white\",\"white\",\"white\",\"white\",\"indian\",\"white\",\"black\",\"black\",\"white\",\"white\",\"middle eastern\",\"latino hispanic\",\"latino hispanic\",\"asian\",\"white\",\"white\",\"latino hispanic\",\"latino hispanic\",\"latino hispanic\",\"asian\",\"latino hispanic\",\"white\",\"white\",\"white\",\"white\",\"asian\",\"white\",\"middle eastern\",\"white\",\"white\",\"black\",\"white\",\"asian\",\"middle eastern\",\"middle eastern\",\"white\",\"white\",\"asian\",\"white\",\"middle eastern\",\"latino hispanic\",\"black\",\"white\",\"asian\",\"white\",\"white\",\"latino hispanic\",\"white\",\"white\",\"white\",\"latino hispanic\",\"white\",\"black\",\"asian\",\"black\",\"black\",\"black\",\"white\",\"white\",\"latino hispanic\",\"asian\",\"black\",\"black\",\"white\",\"white\",\"latino hispanic\",\"white\",\"black\",\"black\",\"indian\",\"asian\",\"white\",\"latino hispanic\",\"white\",\"white\",\"white\",\"white\",\"asian\",\"black\",\"white\",\"white\",\"white\",\"middle eastern\",\"white\",\"white\",\"black\",\"black\",\"black\",\"black\",\"white\",\"white\",\"middle eastern\",\"latino hispanic\",\"latino hispanic\",\"asian\",\"white\",\"black\",\"latino hispanic\",\"white\",\"asian\",\"middle eastern\",\"black\",\"white\",\"white\",\"latino hispanic\",\"latino hispanic\",\"latino hispanic\",\"black\",\"black\",\"white\",\"middle eastern\",\"middle eastern\",\"white\",\"white\",\"asian\",\"white\",\"white\",\"white\",\"white\",\"white\",\"black\",\"black\",\"white\",\"latino hispanic\",\"white\",\"middle eastern\",\"white\",\"black\",\"latino hispanic\",\"white\",\"latino hispanic\",\"white\",\"latino hispanic\",\"asian\",\"black\",\"latino hispanic\",\"white\",\"white\",\"asian\",\"white\",\"asian\",\"middle eastern\",\"latino hispanic\",\"asian\",\"indian\",\"asian\",\"middle eastern\",\"white\",\"white\",\"black\",\"white\",\"white\",\"latino hispanic\",\"white\",\"white\",\"white\",\"asian\",\"white\",\"white\",\"white\",\"white\",\"asian\",\"asian\",\"black\",\"asian\",\"black\",\"white\",\"asian\",\"white\",\"asian\",\"white\",\"black\",\"white\",\"white\",\"white\",\"white\",\"white\",\"latino hispanic\",\"asian\",\"white\",\"white\",\"white\",\"white\",\"white\",\"white\",\"middle eastern\",\"asian\",\"asian\",\"asian\",\"white\",\"asian\",\"white\",\"white\",\"white\",\"white\",\"white\",\"asian\",\"black\",\"white\",\"white\",\"middle eastern\",\"white\",\"black\",\"white\",\"white\",\"white\",\"middle eastern\",\"black\",\"black\",\"white\",\"white\",\"white\",\"asian\",\"white\",\"black\",\"black\",\"asian\",\"asian\",\"white\",\"white\",\"white\",\"white\",\"middle eastern\",\"black\",\"black\",\"white\",\"white\",\"white\",\"black\",\"white\",\"white\",\"latino hispanic\",\"white\",\"asian\",\"middle eastern\",\"asian\",\"white\",\"white\",\"white\",\"black\",\"latino hispanic\",\"black\",\"white\",\"middle eastern\",\"white\",\"black\",\"black\",\"latino hispanic\",\"white\",\"asian\",\"white\",\"white\",\"middle eastern\",\"white\",\"white\",\"black\",\"middle eastern\",\"white\",\"latino hispanic\",\"asian\",\"white\",\"white\",\"white\",\"white\",\"white\",\"asian\",\"black\",\"white\",\"asian\",\"latino hispanic\",\"asian\",\"white\",\"middle eastern\",\"white\",\"asian\",\"white\",\"latino hispanic\",\"white\",\"white\",\"white\",\"latino hispanic\",\"white\",\"white\",\"asian\",\"black\",\"middle eastern\",\"white\",\"indian\",\"white\",\"white\",\"black\",\"white\",\"asian\",\"middle eastern\",\"black\",\"middle eastern\",\"asian\",\"white\",\"black\",\"white\",\"white\",\"black\",\"asian\",\"white\",\"asian\",\"black\",\"white\",\"latino hispanic\",\"asian\",\"white\",\"indian\",\"asian\",\"black\",\"black\",\"asian\",\"white\",\"white\",\"white\",\"white\",\"white\",\"white\",\"white\",\"white\",\"latino hispanic\",\"white\",\"asian\",\"white\",\"white\",\"white\",\"white\",\"white\",\"middle eastern\",\"white\",\"asian\",\"white\",\"white\",\"black\",\"white\",\"white\",\"latino hispanic\",\"white\",\"black\",\"white\",\"white\",\"black\",\"black\",\"asian\",\"black\",\"black\",\"white\",\"middle eastern\",\"middle eastern\",\"black\",\"latino hispanic\",\"white\",\"asian\",\"middle eastern\",\"black\",\"white\",\"black\",\"white\",\"white\",\"black\",\"white\",\"white\",\"white\",\"white\",\"white\",\"white\",\"white\",\"asian\",\"black\",\"middle eastern\",\"middle eastern\",\"latino hispanic\",\"asian\",\"white\",\"white\",\"white\",\"asian\",\"white\",\"latino hispanic\",\"white\",\"white\",\"white\",\"white\",\"indian\",\"white\",\"white\",\"asian\",\"latino hispanic\",\"white\",\"white\",\"latino hispanic\",\"asian\",\"asian\",\"black\",\"middle eastern\",\"white\",\"black\",\"middle eastern\",\"white\",\"white\",\"black\",\"white\",\"latino hispanic\",\"white\",\"middle eastern\",\"white\",\"middle eastern\",\"black\",\"white\",\"white\",\"white\",\"latino hispanic\",\"white\",\"white\",\"latino hispanic\",\"white\",\"white\",\"middle eastern\",\"white\",\"white\",\"white\",\"white\",\"white\",\"latino hispanic\",\"white\",\"white\",\"white\",\"white\",\"middle eastern\",\"white\",\"white\",\"white\",\"black\",\"middle eastern\",\"asian\",\"black\",\"white\",\"white\",\"black\",\"white\",\"asian\",\"asian\",\"white\",\"middle eastern\",\"white\",\"white\",\"asian\",\"white\",\"white\",\"black\",\"white\",\"black\",\"white\",\"white\",\"middle eastern\",\"asian\",\"asian\",\"middle eastern\",\"white\",\"black\",\"white\",\"middle eastern\",\"asian\",\"asian\",\"black\",\"white\",\"black\",\"asian\",\"white\",\"white\",\"black\",\"black\",\"latino hispanic\",\"white\",\"latino hispanic\",\"asian\",\"latino hispanic\",\"asian\",\"white\",\"white\",\"white\",\"middle eastern\",\"white\",\"black\",\"black\",\"asian\",\"black\",\"asian\",\"white\",\"black\",\"white\",\"white\",\"black\",\"asian\",\"middle eastern\",\"white\",\"white\",\"white\",\"white\",\"white\",\"black\",\"asian\",\"black\",\"white\",\"white\",\"white\",\"white\",\"white\",\"white\",\"white\",\"white\",\"white\",\"black\",\"white\",\"latino hispanic\",\"white\",\"white\",\"white\",\"asian\",\"white\",\"white\",\"asian\",\"asian\",\"black\",\"indian\",\"black\",\"asian\",\"black\",\"white\",\"latino hispanic\",\"black\",\"white\",\"latino hispanic\",\"white\",\"white\",\"black\",\"white\",\"white\",\"white\",\"white\",\"white\",\"white\",\"black\",\"black\",\"white\",\"black\",\"white\",\"latino hispanic\",\"latino hispanic\",\"white\",\"middle eastern\",\"white\",\"white\",\"asian\",\"asian\",\"black\",\"white\",\"white\",\"white\",\"white\",\"white\",\"white\",\"latino hispanic\",\"black\",\"middle eastern\",\"black\",\"asian\",\"asian\",\"white\",\"white\",\"white\",\"white\",\"black\",\"black\",\"middle eastern\",\"black\",\"middle eastern\",\"white\",\"white\",\"white\",\"white\",\"white\",\"white\",\"white\",\"white\",\"white\",\"white\",\"black\",\"white\",\"asian\",\"latino hispanic\",\"white\",\"white\",\"asian\",\"black\",\"latino hispanic\",\"asian\",\"indian\",\"black\",\"black\",\"white\",\"white\",\"white\",\"asian\",\"black\",\"black\",\"middle eastern\",\"white\",\"white\",\"black\",\"indian\",\"white\",\"asian\",\"asian\",\"asian\",\"white\",\"white\",\"black\",\"white\",\"asian\",\"asian\",\"white\",\"black\",\"white\",\"black\",\"white\",\"white\",\"asian\",\"white\",\"asian\",\"latino hispanic\",\"middle eastern\",\"middle eastern\",\"white\",\"asian\",\"white\",\"black\",\"black\",\"latino hispanic\",\"white\",\"asian\",\"latino hispanic\",\"white\",\"middle eastern\",\"white\",\"asian\",\"white\",\"middle eastern\",\"white\",\"white\",\"white\",\"white\",\"black\",\"asian\",\"white\",\"asian\",\"white\",\"white\",\"white\",\"white\",\"white\",\"white\",\"asian\",\"middle eastern\",\"asian\",\"asian\",\"middle eastern\",\"asian\",\"white\",\"black\",\"white\",\"middle eastern\",\"white\",\"middle eastern\",\"white\",\"black\",\"black\",\"white\",\"black\",\"white\",\"white\",\"white\",\"asian\",\"white\",\"white\",\"white\",\"indian\",\"white\",\"indian\",\"latino hispanic\",\"white\",\"white\",\"white\",\"middle eastern\",\"middle eastern\",\"black\",\"black\",\"middle eastern\",\"black\",\"black\",\"white\",\"white\",\"white\",\"white\",\"white\",\"black\",\"white\",\"middle eastern\",\"white\",\"asian\",\"white\",\"white\",\"asian\",\"black\",\"white\",\"white\",\"latino hispanic\",\"black\",\"asian\",\"black\",\"white\",\"black\",\"white\",\"white\",\"black\",\"asian\",\"black\",\"middle eastern\",\"white\",\"asian\",\"white\",\"middle eastern\",\"indian\",\"white\",\"white\",\"middle eastern\",\"white\",\"white\",\"white\",\"white\",\"white\",\"white\",\"latino hispanic\",\"white\",\"white\",\"indian\",\"asian\",\"asian\",\"latino hispanic\",\"latino hispanic\",\"white\",\"white\",\"white\",\"white\",\"white\",\"white\",\"asian\",\"white\",\"white\",\"white\",\"white\",\"white\",\"asian\",\"middle eastern\",\"black\",\"white\",\"white\",\"white\",\"asian\",\"white\",\"white\",\"black\",\"asian\",\"white\",\"white\",\"asian\",\"middle eastern\",\"white\",\"white\",\"black\",\"white\",\"asian\",\"latino hispanic\",\"white\",\"white\",\"asian\",\"latino hispanic\",\"white\",\"white\",\"asian\",\"black\",\"white\",\"black\",\"white\",\"middle eastern\",\"black\",\"white\",\"white\",\"white\",\"black\",\"white\",\"white\",\"white\",\"asian\",\"white\",\"latino hispanic\",\"white\",\"white\",\"black\",\"white\",\"white\",\"white\",\"asian\",\"white\",\"white\",\"white\",\"white\",\"asian\",\"white\",\"black\",\"white\",\"white\",\"white\",\"white\",\"asian\",\"white\",\"white\",\"latino hispanic\",\"white\",\"white\",\"latino hispanic\",\"white\",\"middle eastern\",\"white\",\"white\",\"white\",\"white\",\"black\",\"white\",\"white\",\"middle eastern\",\"white\",\"latino hispanic\",\"black\",\"white\",\"black\",\"middle eastern\",\"latino hispanic\",\"indian\",\"white\",\"white\",\"black\",\"asian\",\"white\",\"white\",\"white\",\"white\",\"white\",\"black\",\"latino hispanic\",\"white\",\"white\",\"middle eastern\",\"asian\",\"white\",\"middle eastern\",\"white\",\"white\",\"black\",\"white\",\"white\",\"black\",\"white\",\"latino hispanic\",\"white\",\"latino hispanic\",\"indian\",\"middle eastern\",\"white\",\"white\",\"black\",\"white\",\"white\",\"white\",\"black\",\"white\",\"latino hispanic\",\"black\",\"asian\",\"middle eastern\",\"black\",\"white\",\"white\",\"white\",\"black\",\"white\",\"white\",\"middle eastern\",\"white\",\"middle eastern\",\"white\",\"white\",\"white\",\"black\",\"black\",\"white\",\"black\",\"black\",\"white\",\"white\",\"indian\",\"latino hispanic\",\"latino hispanic\",\"latino hispanic\",\"latino hispanic\",\"asian\",\"white\",\"white\",\"black\",\"black\",\"white\",\"black\",\"latino hispanic\",\"asian\",\"white\",\"black\",\"white\",\"black\",\"white\",\"white\",\"middle eastern\",\"white\",\"latino hispanic\",\"white\",\"white\",\"black\",\"asian\",\"white\",\"white\",\"white\",\"white\",\"asian\",\"black\",\"white\",\"white\",\"black\",\"white\",\"asian\",\"white\",\"white\",\"middle eastern\",\"white\",\"white\",\"white\",\"white\",\"asian\",\"white\",\"asian\",\"white\",\"white\",\"middle eastern\",\"white\",\"white\",\"white\",\"white\",\"asian\",\"white\",\"black\",\"asian\",\"black\",\"black\",\"white\",\"black\",\"white\",\"black\",\"asian\",\"asian\",\"white\",\"white\",\"white\",\"middle eastern\",\"white\",\"black\",\"black\",\"white\",\"white\",\"white\",\"white\",\"asian\",\"white\",\"latino hispanic\",\"white\",\"black\",\"black\",\"white\",\"black\",\"white\",\"black\",\"white\",\"white\",\"asian\",\"white\",\"black\",\"latino hispanic\",\"white\",\"white\",\"white\",\"white\",\"white\",\"middle eastern\",\"black\",\"latino hispanic\",\"black\",\"white\",\"latino hispanic\",\"white\",\"white\",\"black\",\"black\",\"black\",\"middle eastern\",\"white\",\"latino hispanic\",\"latino hispanic\",\"black\",\"white\",\"white\",\"indian\",\"black\",\"asian\",\"black\",\"black\",\"white\",\"white\",\"black\",\"white\",\"white\",\"black\",\"white\",\"asian\",\"black\",\"white\",\"white\",\"middle eastern\",\"white\",\"asian\",\"white\",\"asian\",\"white\",\"white\",\"white\",\"white\",\"white\",\"white\",\"black\",\"asian\",\"white\",\"asian\",\"white\",\"asian\",\"white\",\"black\",\"white\",\"white\",\"latino hispanic\",\"white\",\"black\",\"white\",\"white\",\"white\",\"white\",\"white\",\"white\",\"white\",\"asian\",\"black\",\"middle eastern\",\"white\",\"black\",\"middle eastern\",\"white\",\"white\",\"white\",\"middle eastern\",\"latino hispanic\",\"white\",\"white\",\"black\",\"white\",\"black\",\"black\",\"middle eastern\",\"white\",\"white\",\"latino hispanic\",\"white\",\"white\",\"white\",\"white\",\"white\",\"white\",\"white\",\"middle eastern\",\"black\",\"white\",\"white\",\"white\",\"white\",\"white\",\"white\",\"white\",\"black\",\"white\",\"white\",\"middle eastern\",\"black\",\"latino hispanic\",\"white\",\"asian\",\"white\",\"indian\",\"white\",\"black\",\"white\",\"asian\",\"black\",\"white\",\"middle eastern\",\"black\",\"black\",\"asian\",\"asian\",\"latino hispanic\",\"middle eastern\",\"black\",\"white\",\"white\",\"white\",\"white\",\"white\",\"white\",\"asian\",\"asian\",\"white\",\"white\",\"latino hispanic\",\"white\",\"white\",\"white\",\"white\",\"white\",\"black\",\"asian\",\"latino hispanic\",\"black\",\"white\",\"white\",\"white\",\"middle eastern\",\"middle eastern\",\"middle eastern\",\"white\",\"white\",\"black\",\"white\",\"asian\",\"white\",\"asian\",\"black\",\"white\",\"black\",\"black\",\"asian\",\"white\",\"white\",\"white\",\"latino hispanic\",\"black\",\"asian\",\"white\",\"middle eastern\",\"asian\",\"middle eastern\",\"white\",\"asian\",\"asian\",\"white\",\"black\",\"black\",\"white\",\"white\",\"latino hispanic\",\"white\",\"black\",\"white\",\"white\",\"asian\",\"black\",\"white\",\"white\",\"black\",\"asian\",\"white\",\"white\",\"white\",\"asian\",\"middle eastern\",\"white\",\"white\",\"black\",\"white\",\"latino hispanic\",\"middle eastern\",\"black\",\"white\",\"black\",\"middle eastern\",\"black\",\"white\",\"white\",\"asian\",\"asian\",\"asian\",\"white\",\"black\",\"middle eastern\",\"middle eastern\",\"middle eastern\",\"white\",\"asian\",\"latino hispanic\",\"white\",\"middle eastern\",\"latino hispanic\",\"black\",\"asian\",\"white\",\"asian\",\"black\",\"black\",\"white\",\"black\",\"white\",\"indian\",\"white\",\"black\",\"asian\",\"white\",\"asian\",\"white\",\"asian\",\"black\",\"latino hispanic\",\"white\",\"middle eastern\",\"white\",\"white\",\"asian\",\"white\",\"white\",\"middle eastern\",\"white\",\"black\",\"white\",\"asian\",\"black\",\"black\",\"asian\",\"white\",\"black\",\"white\",\"black\",\"asian\",\"black\",\"white\",\"white\",\"black\",\"white\",\"black\",\"asian\",\"white\",\"black\",\"black\",\"white\",\"white\",\"asian\",\"white\",\"white\",\"middle eastern\",\"asian\",\"white\",\"black\",\"black\",\"white\",\"white\",\"asian\",\"white\",\"asian\",\"white\",\"white\",\"white\",\"latino hispanic\",\"white\",\"middle eastern\",\"latino hispanic\",\"asian\",\"middle eastern\",\"white\",\"white\",\"asian\",\"white\",\"black\",\"black\",\"white\",\"black\",\"black\",\"black\",\"white\",\"white\",\"white\",\"latino hispanic\",\"white\",\"black\",\"white\",\"indian\",\"asian\",\"white\",\"black\",\"black\",\"black\",\"middle eastern\",\"white\",\"middle eastern\",\"asian\",\"asian\",\"latino hispanic\",\"asian\",\"asian\",\"white\",\"middle eastern\",\"white\",\"black\",\"black\",\"white\",\"black\",\"white\",\"middle eastern\",\"white\",\"asian\",\"white\",\"white\",\"black\",\"latino hispanic\",\"white\",\"white\",\"asian\",\"black\",\"white\",\"white\",\"white\",\"white\",\"asian\",\"black\",\"white\",\"white\",\"white\",\"white\",\"white\",\"white\",\"white\",\"white\",\"white\",\"white\",\"white\",\"white\",\"white\",\"white\",\"black\",\"white\",\"white\",\"black\",\"latino hispanic\",\"white\",\"white\",\"black\",\"white\",\"middle eastern\",\"black\",\"black\",\"black\",\"white\",\"white\",\"black\",\"asian\",\"white\",\"middle eastern\",\"middle eastern\",\"white\",\"white\",\"white\",\"black\",\"black\",\"white\",\"white\",\"white\",\"white\",\"white\",\"white\",\"middle eastern\",\"middle eastern\",\"black\",\"latino hispanic\",\"latino hispanic\",\"middle eastern\",\"white\",\"black\",\"white\",\"white\",\"black\",\"white\",\"asian\",\"white\",\"white\",\"black\",\"black\",\"black\",\"white\",\"white\",\"latino hispanic\",\"white\",\"white\",\"white\",\"white\",\"white\",\"white\",\"middle eastern\",\"white\",\"asian\",\"black\",\"white\",\"white\",\"middle eastern\",\"middle eastern\",\"white\",\"black\",\"white\",\"asian\",\"latino hispanic\",\"black\",\"black\",\"white\",\"white\",\"black\",\"asian\",\"asian\",\"white\",\"white\",\"asian\",\"white\",\"white\",\"white\",\"asian\",\"black\",\"white\",\"black\",\"white\",\"white\",\"black\",\"asian\",\"black\",\"black\",\"asian\",\"black\",\"middle eastern\",\"white\",\"white\",\"white\",\"black\",\"asian\",\"white\",\"white\",\"middle eastern\",\"white\",\"middle eastern\",\"white\",\"white\",\"white\",\"white\",\"black\",\"middle eastern\",\"asian\",\"asian\",\"white\",\"black\",\"white\",\"white\",\"black\",\"white\",\"black\",\"black\",\"white\",\"white\",\"middle eastern\",\"white\",\"white\",\"middle eastern\",\"black\",\"asian\",\"asian\",\"white\",\"white\",\"white\",\"white\",\"white\",\"middle eastern\",\"white\",\"white\",\"middle eastern\",\"black\",\"black\",\"white\",\"asian\",\"latino hispanic\",\"white\",\"white\",\"middle eastern\",\"white\",\"black\",\"latino hispanic\",\"white\",\"white\",\"white\",\"white\",\"black\",\"white\",\"white\",\"middle eastern\",\"white\",\"white\",\"white\",\"middle eastern\",\"white\",\"black\",\"white\",\"black\",\"asian\",\"black\",\"black\",\"black\",\"white\",\"asian\",\"black\",\"black\",\"white\",\"latino hispanic\",\"white\",\"white\",\"middle eastern\",\"white\",\"black\",\"asian\",\"latino hispanic\",\"white\",\"white\",\"white\",\"white\",\"white\",\"asian\",\"black\",\"black\",\"white\",\"white\",\"white\",\"asian\",\"white\",\"white\",\"black\",\"white\",\"white\",\"asian\",\"black\",\"asian\",\"white\",\"black\",\"middle eastern\",\"black\",\"white\",\"latino hispanic\",\"black\",\"black\",\"latino hispanic\",\"white\",\"asian\",\"white\",\"indian\",\"white\",\"white\",\"white\",\"black\",\"black\",\"middle eastern\",\"latino hispanic\",\"asian\",\"white\",\"white\",\"latino hispanic\",\"middle eastern\",\"latino hispanic\",\"white\",\"black\",\"middle eastern\",\"white\",\"black\",\"black\",\"black\",\"latino hispanic\",\"middle eastern\",\"middle eastern\",\"middle eastern\",\"asian\",\"white\",\"black\",\"black\",\"white\",\"black\",\"white\",\"asian\",\"middle eastern\",\"black\",\"middle eastern\",\"middle eastern\",\"middle eastern\",\"white\",\"white\",\"white\",\"white\",\"asian\",\"latino hispanic\",\"white\",\"black\",\"white\",\"white\",\"black\",\"latino hispanic\",\"asian\",\"asian\",\"asian\",\"white\",\"latino hispanic\",\"asian\",\"latino hispanic\",\"white\",\"white\",\"white\",\"white\",\"middle eastern\",\"middle eastern\",\"white\",\"white\",\"white\",\"white\",\"asian\",\"white\",\"asian\",\"white\",\"white\",\"middle eastern\",\"asian\",\"white\",\"middle eastern\",\"asian\",\"black\",\"black\",\"black\",\"white\",\"white\",\"white\",\"middle eastern\",\"white\",\"white\",\"black\",\"black\",\"indian\",\"asian\",\"middle eastern\",\"black\",\"white\",\"white\",\"white\",\"white\",\"white\",\"asian\",\"white\",\"white\",\"white\",\"white\",\"white\",\"white\",\"latino hispanic\",\"asian\",\"white\",\"latino hispanic\",\"white\",\"white\",\"white\",\"indian\",\"latino hispanic\",\"white\",\"white\",\"white\",\"indian\",\"asian\",\"white\",\"latino hispanic\",\"asian\",\"white\",\"asian\",\"latino hispanic\",\"white\",\"white\",\"middle eastern\",\"white\",\"white\",\"white\",\"white\",\"white\",\"black\",\"black\",\"white\",\"white\",\"asian\",\"white\",\"asian\",\"black\",\"white\",\"white\",\"white\",\"white\",\"white\",\"black\",\"white\",\"black\",\"white\",\"white\",\"white\",\"white\",\"white\",\"latino hispanic\",\"white\",\"white\",\"middle eastern\",\"black\",\"white\",\"middle eastern\",\"white\",\"black\",\"white\",\"white\",\"white\",\"white\",\"asian\",\"white\",\"asian\",\"asian\",\"white\",\"middle eastern\",\"white\",\"middle eastern\",\"black\",\"white\",\"asian\",\"white\",\"white\",\"middle eastern\",\"asian\",\"white\",\"white\",\"indian\",\"black\",\"asian\",\"white\",\"black\",\"white\",\"white\",\"white\",\"white\",\"white\",\"white\",\"asian\",\"asian\",\"black\",\"white\",\"white\",\"asian\",\"black\",\"white\",\"white\",\"white\",\"latino hispanic\",\"white\",\"asian\",\"asian\",\"latino hispanic\",\"white\",\"white\",\"white\",\"white\",\"black\",\"white\",\"white\",\"asian\",\"asian\",\"middle eastern\",\"black\",\"white\",\"white\",\"white\",\"white\",\"latino hispanic\",\"white\",\"black\",\"black\",\"black\",\"white\",\"white\",\"black\",\"white\",\"asian\",\"latino hispanic\",\"white\",\"white\",\"black\",\"asian\",\"latino hispanic\",\"white\",\"white\",\"indian\",\"middle eastern\",\"asian\",\"white\",\"middle eastern\",\"asian\",\"asian\",\"white\",\"black\",\"white\",\"white\",\"white\",\"white\",\"black\",\"white\",\"indian\",\"middle eastern\",\"asian\",\"asian\",\"white\",\"white\",\"white\",\"white\",\"black\",\"white\",\"asian\",\"asian\",\"white\",\"black\",\"middle eastern\",\"indian\",\"white\",\"middle eastern\",\"white\",\"asian\",\"white\",\"white\",\"white\",\"white\",\"asian\",\"black\",\"latino hispanic\",\"white\",\"latino hispanic\",\"latino hispanic\",\"white\",\"asian\",\"white\",\"latino hispanic\",\"middle eastern\",\"asian\",\"white\",\"white\",\"asian\",\"white\",\"asian\",\"middle eastern\",\"white\",\"white\",\"white\",\"white\",\"latino hispanic\",\"black\",\"middle eastern\",\"middle eastern\",\"black\",\"white\",\"asian\",\"white\",\"white\",\"black\",\"white\",\"white\",\"asian\",\"white\",\"white\",\"white\",\"asian\",\"white\",\"asian\",\"white\",\"white\",\"middle eastern\",\"black\",\"white\",\"middle eastern\",\"asian\",\"black\",\"white\",\"white\",\"black\",\"asian\",\"latino hispanic\",\"white\",\"middle eastern\",\"white\",\"white\",\"latino hispanic\",\"middle eastern\",\"asian\",\"asian\",\"latino hispanic\",\"black\",\"middle eastern\",\"white\",\"asian\",\"asian\",\"asian\",\"white\",\"middle eastern\",\"white\",\"middle eastern\",\"white\",\"black\",\"white\",\"latino hispanic\",\"white\",\"middle eastern\",\"asian\",\"white\",\"middle eastern\",\"white\",\"latino hispanic\",\"white\",\"middle eastern\",\"white\",\"white\",\"white\",\"asian\",\"black\",\"white\",\"white\",\"white\",\"latino hispanic\",\"white\",\"middle eastern\",\"latino hispanic\",\"white\",\"white\",\"white\",\"white\",\"white\",\"black\",\"white\",\"white\",\"white\",\"asian\",\"asian\",\"white\",\"white\",\"white\",\"black\",\"asian\",\"white\",\"middle eastern\",\"white\",\"black\",\"white\",\"white\",\"white\",\"latino hispanic\",\"latino hispanic\",\"white\",\"white\",\"black\",\"black\",\"white\",\"white\",\"white\",\"white\",\"middle eastern\",\"middle eastern\",\"black\",\"latino hispanic\",\"white\",\"white\",\"white\",\"black\",\"white\",\"white\",\"white\",\"latino hispanic\",\"black\",\"white\",\"latino hispanic\",\"black\",\"white\",\"white\",\"black\",\"latino hispanic\",\"white\",\"latino hispanic\",\"white\",\"white\",\"white\",\"white\",\"latino hispanic\",\"white\",\"white\",\"white\",\"middle eastern\",\"white\",\"white\",\"black\",\"asian\",\"middle eastern\",\"white\",\"asian\",\"middle eastern\",\"latino hispanic\",\"asian\",\"asian\",\"white\",\"white\",\"white\",\"black\",\"asian\",\"latino hispanic\",\"asian\",\"white\",\"white\",\"white\",\"white\",\"white\",\"black\",\"white\",\"white\",\"white\",\"asian\",\"latino hispanic\",\"white\",\"white\",\"white\",\"asian\",\"indian\",\"white\",\"black\",\"white\",\"asian\",\"white\",\"black\",\"black\",\"white\",\"white\",\"asian\",\"white\",\"white\",\"white\",\"white\",\"white\",\"asian\",\"white\",\"white\",\"middle eastern\",\"asian\",\"white\",\"latino hispanic\",\"white\",\"white\",\"middle eastern\",\"asian\",\"asian\",\"white\",\"latino hispanic\",\"middle eastern\",\"white\",\"latino hispanic\",\"white\",\"white\",\"latino hispanic\",\"latino hispanic\",\"white\",\"black\",\"asian\",\"asian\",\"white\",\"white\",\"black\",\"black\",\"white\",\"middle eastern\",\"white\",\"white\",\"white\",\"white\",\"white\",\"black\",\"latino hispanic\",\"latino hispanic\",\"black\",\"white\",\"black\",\"middle eastern\",\"asian\",\"asian\",\"black\",\"white\",\"white\",\"white\",\"white\",\"black\",\"black\",\"white\",\"white\",\"white\",\"white\",\"middle eastern\",\"asian\",\"white\",\"black\",\"white\",\"asian\",\"white\",\"middle eastern\",\"black\",\"white\",\"middle eastern\",\"black\",\"latino hispanic\",\"black\",\"black\",\"white\",\"white\",\"asian\",\"middle eastern\",\"white\",\"white\",\"asian\",\"asian\",\"asian\",\"white\",\"black\",\"black\",\"white\",\"white\",\"black\",\"white\",\"white\",\"white\",\"white\",\"middle eastern\",\"white\",\"white\",\"white\",\"black\",\"white\",\"middle eastern\",\"black\",\"latino hispanic\",\"white\",\"asian\",\"asian\",\"black\",\"white\",\"black\",\"white\",\"white\",\"black\",\"black\",\"black\",\"white\",\"black\",\"latino hispanic\",\"asian\",\"asian\",\"white\",\"black\",\"asian\",\"latino hispanic\",\"white\",\"white\",\"asian\",\"indian\",\"white\",\"white\",\"white\",\"black\",\"asian\",\"white\",\"white\",\"black\",\"white\",\"latino hispanic\",\"white\",\"white\",\"asian\",\"white\",\"black\",\"white\",\"white\",\"black\",\"asian\",\"asian\",\"white\",\"white\",\"white\",\"white\",\"white\",\"middle eastern\",\"black\",\"white\",\"white\",\"white\",\"white\",\"white\",\"middle eastern\",\"middle eastern\",\"latino hispanic\",\"white\",\"black\",\"white\",\"middle eastern\",\"white\",\"white\",\"white\",\"white\",\"white\",\"white\",\"white\",\"black\",\"white\",\"latino hispanic\",\"white\",\"black\",\"white\",\"white\",\"white\",\"white\",\"asian\",\"white\",\"white\",\"white\",\"white\",\"white\",\"white\",\"latino hispanic\",\"white\",\"white\",\"white\",\"white\",\"white\",\"white\",\"white\",\"black\",\"white\",\"white\",\"white\",\"white\",\"indian\",\"white\",\"black\",\"indian\",\"black\",\"white\",\"white\",\"middle eastern\",\"asian\",\"white\",\"white\",\"white\",\"black\",\"white\",\"white\",\"asian\",\"white\",\"black\",\"white\",\"asian\",\"black\",\"indian\",\"white\",\"latino hispanic\",\"black\",\"white\",\"black\",\"latino hispanic\",\"white\",\"white\",\"black\",\"asian\",\"middle eastern\",\"latino hispanic\",\"white\",\"latino hispanic\",\"white\",\"white\",\"black\",\"white\",\"white\",\"white\",\"white\",\"black\",\"black\",\"white\",\"white\",\"latino hispanic\",\"white\",\"middle eastern\",\"white\",\"middle eastern\",\"white\",\"black\",\"white\",\"white\",\"middle eastern\",\"white\",\"asian\",\"black\",\"white\",\"white\",\"white\",\"white\",\"asian\",\"asian\",\"black\",\"asian\",\"white\",\"black\",\"white\",\"white\",\"white\",\"white\",\"black\",\"asian\",\"black\",\"white\",\"white\",\"middle eastern\",\"asian\",\"asian\",\"black\",\"white\",\"white\",\"white\",\"middle eastern\",\"white\",\"black\",\"black\",\"asian\",\"asian\",\"black\",\"white\",\"white\",\"black\",\"white\",\"latino hispanic\",\"black\",\"black\",\"white\",\"black\",\"white\",\"white\",\"white\",\"asian\",\"middle eastern\",\"white\",\"asian\",\"black\",\"white\",\"middle eastern\",\"white\",\"white\",\"latino hispanic\",\"white\",\"white\",\"white\",\"asian\",\"black\",\"white\",\"white\",\"asian\",\"white\",\"indian\",\"latino hispanic\",\"white\",\"asian\",\"white\",\"white\",\"white\",\"white\",\"latino hispanic\",\"middle eastern\",\"asian\",\"asian\",\"black\",\"white\",\"asian\",\"white\",\"middle eastern\",\"asian\",\"white\",\"middle eastern\",\"white\",\"middle eastern\",\"black\",\"white\",\"white\",\"white\",\"white\",\"middle eastern\",\"white\",\"white\",\"middle eastern\",\"middle eastern\",\"black\",\"white\",\"white\",\"white\",\"white\",\"asian\",\"indian\",\"asian\",\"white\",\"white\",\"middle eastern\",\"latino hispanic\",\"black\",\"middle eastern\",\"white\",\"white\",\"white\",\"white\",\"white\",\"asian\",\"white\",\"white\",\"white\",\"white\",\"latino hispanic\",\"asian\",\"asian\",\"white\",\"black\",\"black\",\"black\",\"black\",\"white\",\"middle eastern\",\"white\",\"white\",\"white\",\"white\",\"middle eastern\",\"latino hispanic\",\"white\",\"asian\",\"latino hispanic\",\"asian\",\"latino hispanic\",\"white\",\"latino hispanic\",\"white\",\"asian\",\"indian\",\"asian\",\"white\",\"black\",\"white\",\"black\",\"black\",\"middle eastern\",\"asian\",\"white\",\"asian\",\"white\",\"middle eastern\",\"black\",\"asian\",\"black\",\"middle eastern\",\"middle eastern\",\"asian\",\"white\",\"white\",\"white\",\"asian\",\"white\",\"white\",\"asian\",\"middle eastern\",\"black\",\"black\",\"black\",\"black\",\"black\",\"black\",\"latino hispanic\",\"asian\",\"black\",\"asian\",\"white\",\"black\",\"asian\",\"white\",\"black\",\"white\",\"white\",\"white\",\"indian\",\"black\",\"white\",\"white\",\"white\",\"white\",\"white\",\"latino hispanic\",\"black\",\"white\",\"white\",\"asian\",\"white\",\"white\",\"white\",\"white\",\"latino hispanic\",\"black\",\"white\",\"white\",\"white\",\"black\",\"black\",\"asian\",\"asian\",\"black\",\"white\",\"white\",\"black\",\"white\",\"black\",\"black\",\"white\",\"black\",\"black\",\"middle eastern\",\"middle eastern\",\"white\",\"white\",\"white\",\"white\",\"asian\",\"black\",\"black\",\"asian\",\"white\",\"black\",\"black\",\"white\",\"white\",\"asian\",\"indian\",\"white\",\"asian\",\"asian\",\"middle eastern\",\"asian\",\"white\",\"black\",\"white\",\"white\",\"white\",\"white\",\"black\",\"white\",\"white\",\"white\",\"black\",\"black\",\"black\",\"white\",\"white\",\"latino hispanic\",\"white\",\"black\",\"white\",\"asian\",\"white\",\"white\",\"middle eastern\",\"middle eastern\",\"white\",\"white\",\"asian\",\"middle eastern\",\"asian\",\"black\",\"black\",\"white\",\"black\",\"middle eastern\",\"asian\",\"white\",\"middle eastern\",\"white\",\"latino hispanic\",\"white\",\"white\",\"asian\",\"indian\",\"latino hispanic\",\"white\",\"white\",\"black\",\"white\",\"black\",\"black\",\"white\",\"white\",\"middle eastern\",\"white\",\"black\",\"latino hispanic\",\"white\",\"middle eastern\",\"white\",\"white\",\"white\",\"white\",\"white\",\"white\",\"black\",\"black\",\"white\",\"white\",\"asian\",\"middle eastern\",\"black\",\"asian\",\"black\",\"black\",\"white\",\"white\",\"asian\",\"white\",\"latino hispanic\",\"latino hispanic\",\"black\",\"middle eastern\",\"asian\",\"black\",\"white\",\"white\",\"latino hispanic\",\"white\",\"white\",\"white\",\"white\",\"white\",\"asian\",\"asian\",\"black\",\"white\",\"black\",\"white\",\"white\",\"white\",\"black\",\"white\",\"middle eastern\",\"latino hispanic\",\"white\",\"white\",\"white\",\"black\",\"white\",\"latino hispanic\",\"asian\",\"asian\",\"middle eastern\",\"asian\",\"asian\",\"white\",\"white\",\"white\",\"white\",\"white\",\"white\",\"white\",\"white\",\"white\",\"white\",\"middle eastern\",\"black\",\"white\",\"black\",\"white\",\"asian\",\"white\",\"white\",\"black\",\"white\",\"middle eastern\",\"white\",\"latino hispanic\",\"black\",\"white\",\"middle eastern\",\"white\",\"black\",\"asian\",\"white\",\"white\",\"black\",\"black\",\"asian\",\"white\",\"black\",\"white\",\"white\",\"white\",\"white\",\"white\",\"white\",\"white\",\"black\",\"white\",\"black\",\"white\",\"white\",\"middle eastern\",\"black\",\"white\",\"white\",\"white\",\"white\",\"white\",\"asian\",\"latino hispanic\",\"white\",\"white\",\"white\",\"white\",\"white\",\"white\",\"asian\",\"middle eastern\",\"white\",\"black\",\"asian\",\"middle eastern\",\"latino hispanic\",\"white\",\"black\",\"indian\",\"white\",\"white\",\"asian\",\"white\",\"white\",\"middle eastern\",\"middle eastern\",\"black\",\"white\",\"black\",\"black\",\"white\",\"middle eastern\",\"white\",\"white\",\"white\",\"white\",\"middle eastern\",\"asian\",\"black\",\"middle eastern\",\"latino hispanic\",\"white\",\"white\",\"white\",\"white\",\"white\",\"white\",\"asian\",\"black\",\"asian\",\"white\",\"white\",\"white\",\"white\",\"asian\",\"white\",\"white\",\"black\",\"latino hispanic\",\"middle eastern\",\"white\",\"latino hispanic\",\"white\",\"black\",\"white\",\"white\",\"black\",\"white\",\"white\",\"white\",\"white\",\"middle eastern\",\"white\",\"middle eastern\",\"white\",\"indian\",\"asian\",\"white\",\"black\",\"white\",\"black\",\"white\",\"black\",\"white\",\"white\",\"asian\",\"black\",\"white\",\"middle eastern\",\"white\",\"white\",\"white\",\"black\",\"white\",\"asian\",\"white\",\"middle eastern\",\"white\",\"middle eastern\",\"white\",\"asian\",\"white\",\"black\",\"white\",\"asian\",\"white\",\"white\",\"black\",\"white\",\"black\",\"white\",\"white\",\"white\",\"white\",\"asian\",\"white\",\"white\",\"white\",\"white\",\"white\",\"white\",\"white\",\"white\",\"asian\",\"white\",\"middle eastern\",\"black\",\"white\",\"black\",\"white\",\"asian\",\"indian\",\"white\",\"latino hispanic\",\"white\",\"middle eastern\",\"asian\",\"white\",\"black\",\"asian\",\"white\",\"middle eastern\",\"white\",\"white\",\"black\",\"asian\",\"middle eastern\",\"middle eastern\",\"asian\",\"black\",\"white\",\"white\",\"white\",\"asian\",\"asian\",\"black\",\"black\",\"black\",\"white\",\"white\",\"white\",\"white\",\"asian\",\"white\",\"white\",\"latino hispanic\",\"middle eastern\",\"asian\",\"black\",\"middle eastern\",\"white\",\"black\",\"white\",\"asian\",\"white\",\"middle eastern\",\"middle eastern\",\"white\",\"black\",\"black\",\"white\",\"asian\",\"white\",\"white\",\"black\",\"asian\",\"white\",\"white\",\"white\",\"asian\",\"white\",\"black\",\"asian\",\"asian\",\"middle eastern\",\"white\",\"black\",\"white\",\"black\",\"white\",\"white\",\"latino hispanic\",\"latino hispanic\",\"white\",\"black\",\"white\",\"latino hispanic\",\"white\",\"white\",\"latino hispanic\",\"white\",\"white\",\"white\",\"black\",\"white\",\"latino hispanic\",\"black\",\"white\",\"asian\",\"white\",\"latino hispanic\",\"asian\",\"white\",\"white\",\"white\",\"white\",\"black\",\"white\",\"white\",\"asian\",\"black\",\"white\",\"middle eastern\",\"white\",\"asian\",\"black\",\"white\",\"indian\",\"black\",\"middle eastern\",\"white\",\"black\",\"black\",\"white\",\"black\",\"white\",\"black\",\"black\",\"white\",\"white\",\"white\",\"asian\",\"middle eastern\",\"middle eastern\",\"white\",\"white\",\"latino hispanic\",\"black\",\"white\",\"latino hispanic\",\"asian\",\"white\",\"asian\",\"black\",\"asian\",\"asian\",\"black\",\"black\",\"white\",\"middle eastern\",\"white\",\"latino hispanic\",\"middle eastern\",\"asian\",\"black\",\"white\",\"white\",\"black\",\"middle eastern\",\"asian\",\"indian\",\"white\",\"white\",\"white\",\"white\",\"white\",\"asian\",\"asian\",\"black\",\"white\",\"asian\",\"white\",\"white\",\"white\",\"white\",\"white\",\"white\",\"white\",\"middle eastern\",\"white\",\"asian\",\"asian\",\"latino hispanic\",\"latino hispanic\",\"white\",\"white\",\"black\",\"asian\",\"white\",\"white\",\"black\",\"white\",\"middle eastern\",\"asian\",\"white\",\"white\",\"white\",\"white\",\"black\",\"middle eastern\",\"black\",\"white\",\"asian\",\"black\",\"asian\",\"black\",\"middle eastern\",\"middle eastern\",\"middle eastern\",\"white\",\"asian\",\"middle eastern\",\"white\",\"middle eastern\",\"white\",\"middle eastern\",\"white\",\"white\",\"white\",\"white\",\"white\",\"black\",\"white\",\"white\",\"white\",\"black\",\"latino hispanic\",\"black\",\"white\",\"black\",\"latino hispanic\",\"white\",\"white\",\"white\",\"black\",\"middle eastern\",\"black\",\"white\",\"latino hispanic\",\"latino hispanic\",\"white\",\"white\",\"white\",\"white\",\"white\",\"middle eastern\",\"middle eastern\",\"indian\",\"white\",\"asian\",\"white\",\"white\",\"black\",\"black\",\"black\",\"white\",\"white\",\"black\",\"white\",\"white\",\"asian\",\"white\",\"white\",\"white\",\"black\",\"middle eastern\",\"white\",\"black\",\"white\",\"asian\",\"black\",\"white\",\"white\",\"white\",\"asian\",\"white\",\"middle eastern\",\"white\",\"black\",\"white\",\"white\",\"black\",\"black\",\"middle eastern\",\"white\",\"white\",\"black\",\"middle eastern\",\"white\",\"white\",\"white\",\"white\",\"black\",\"black\",\"white\",\"asian\",\"latino hispanic\",\"white\",\"black\",\"black\",\"black\",\"white\",\"asian\",\"asian\",\"black\",\"white\",\"black\",\"black\",\"latino hispanic\",\"asian\",\"white\",\"white\",\"black\",\"white\",\"white\",\"white\",\"white\",\"white\",\"asian\",\"middle eastern\",\"white\",\"black\",\"white\",\"middle eastern\",\"indian\",\"white\",\"white\",\"asian\",\"white\",\"white\",\"white\",\"asian\",\"black\",\"white\",\"white\",\"black\",\"white\",\"black\",\"asian\",\"white\",\"white\",\"asian\",\"white\",\"white\",\"white\",\"asian\",\"latino hispanic\",\"white\",\"white\",\"middle eastern\",\"white\",\"black\",\"white\",\"asian\",\"white\",\"middle eastern\",\"white\",\"black\",\"white\",\"white\",\"asian\",\"black\",\"white\",\"white\",\"white\",\"indian\",\"white\",\"white\",\"white\",\"black\",\"middle eastern\",\"asian\",\"middle eastern\",\"latino hispanic\",\"white\",\"white\",\"middle eastern\",\"middle eastern\",\"white\",\"latino hispanic\",\"asian\",\"white\",\"latino hispanic\",\"white\",\"white\",\"black\",\"white\",\"white\",\"latino hispanic\",\"latino hispanic\",\"white\",\"white\",\"white\",\"white\",\"white\",\"white\",\"white\",\"white\",\"white\",\"white\",\"middle eastern\",\"white\",\"white\",\"black\",\"white\",\"white\",\"asian\",\"indian\",\"white\",\"white\",\"white\",\"white\",\"white\",\"white\",\"latino hispanic\",\"white\",\"black\",\"black\",\"white\",\"white\",\"black\",\"white\",\"white\",\"black\",\"latino hispanic\",\"middle eastern\",\"asian\",\"latino hispanic\",\"white\",\"middle eastern\",\"middle eastern\",\"black\",\"asian\",\"white\",\"asian\",\"black\",\"latino hispanic\",\"black\",\"white\",\"white\",\"black\",\"black\",\"white\",\"white\",\"middle eastern\",\"asian\",\"middle eastern\",\"asian\",\"white\",\"middle eastern\",\"latino hispanic\",\"white\",\"white\",\"asian\",\"white\",\"white\",\"white\",\"latino hispanic\",\"black\",\"asian\",\"white\",\"white\",\"latino hispanic\",\"middle eastern\",\"black\",\"white\",\"white\",\"white\",\"asian\",\"middle eastern\",\"latino hispanic\",\"white\",\"white\",\"white\",\"white\",\"white\",\"black\",\"black\",\"white\",\"white\",\"middle eastern\",\"white\",\"asian\",\"black\",\"white\",\"white\",\"latino hispanic\",\"asian\",\"white\",\"white\",\"asian\",\"indian\",\"white\",\"white\",\"black\",\"white\",\"latino hispanic\",\"white\"],\"y\":[3288,1151,929,594,455,91],\"type\":\"bar\"}],                        {\"template\":{\"data\":{\"bar\":[{\"error_x\":{\"color\":\"#2a3f5f\"},\"error_y\":{\"color\":\"#2a3f5f\"},\"marker\":{\"line\":{\"color\":\"#E5ECF6\",\"width\":0.5},\"pattern\":{\"fillmode\":\"overlay\",\"size\":10,\"solidity\":0.2}},\"type\":\"bar\"}],\"barpolar\":[{\"marker\":{\"line\":{\"color\":\"#E5ECF6\",\"width\":0.5},\"pattern\":{\"fillmode\":\"overlay\",\"size\":10,\"solidity\":0.2}},\"type\":\"barpolar\"}],\"carpet\":[{\"aaxis\":{\"endlinecolor\":\"#2a3f5f\",\"gridcolor\":\"white\",\"linecolor\":\"white\",\"minorgridcolor\":\"white\",\"startlinecolor\":\"#2a3f5f\"},\"baxis\":{\"endlinecolor\":\"#2a3f5f\",\"gridcolor\":\"white\",\"linecolor\":\"white\",\"minorgridcolor\":\"white\",\"startlinecolor\":\"#2a3f5f\"},\"type\":\"carpet\"}],\"choropleth\":[{\"colorbar\":{\"outlinewidth\":0,\"ticks\":\"\"},\"type\":\"choropleth\"}],\"contour\":[{\"colorbar\":{\"outlinewidth\":0,\"ticks\":\"\"},\"colorscale\":[[0.0,\"#0d0887\"],[0.1111111111111111,\"#46039f\"],[0.2222222222222222,\"#7201a8\"],[0.3333333333333333,\"#9c179e\"],[0.4444444444444444,\"#bd3786\"],[0.5555555555555556,\"#d8576b\"],[0.6666666666666666,\"#ed7953\"],[0.7777777777777778,\"#fb9f3a\"],[0.8888888888888888,\"#fdca26\"],[1.0,\"#f0f921\"]],\"type\":\"contour\"}],\"contourcarpet\":[{\"colorbar\":{\"outlinewidth\":0,\"ticks\":\"\"},\"type\":\"contourcarpet\"}],\"heatmap\":[{\"colorbar\":{\"outlinewidth\":0,\"ticks\":\"\"},\"colorscale\":[[0.0,\"#0d0887\"],[0.1111111111111111,\"#46039f\"],[0.2222222222222222,\"#7201a8\"],[0.3333333333333333,\"#9c179e\"],[0.4444444444444444,\"#bd3786\"],[0.5555555555555556,\"#d8576b\"],[0.6666666666666666,\"#ed7953\"],[0.7777777777777778,\"#fb9f3a\"],[0.8888888888888888,\"#fdca26\"],[1.0,\"#f0f921\"]],\"type\":\"heatmap\"}],\"heatmapgl\":[{\"colorbar\":{\"outlinewidth\":0,\"ticks\":\"\"},\"colorscale\":[[0.0,\"#0d0887\"],[0.1111111111111111,\"#46039f\"],[0.2222222222222222,\"#7201a8\"],[0.3333333333333333,\"#9c179e\"],[0.4444444444444444,\"#bd3786\"],[0.5555555555555556,\"#d8576b\"],[0.6666666666666666,\"#ed7953\"],[0.7777777777777778,\"#fb9f3a\"],[0.8888888888888888,\"#fdca26\"],[1.0,\"#f0f921\"]],\"type\":\"heatmapgl\"}],\"histogram\":[{\"marker\":{\"pattern\":{\"fillmode\":\"overlay\",\"size\":10,\"solidity\":0.2}},\"type\":\"histogram\"}],\"histogram2d\":[{\"colorbar\":{\"outlinewidth\":0,\"ticks\":\"\"},\"colorscale\":[[0.0,\"#0d0887\"],[0.1111111111111111,\"#46039f\"],[0.2222222222222222,\"#7201a8\"],[0.3333333333333333,\"#9c179e\"],[0.4444444444444444,\"#bd3786\"],[0.5555555555555556,\"#d8576b\"],[0.6666666666666666,\"#ed7953\"],[0.7777777777777778,\"#fb9f3a\"],[0.8888888888888888,\"#fdca26\"],[1.0,\"#f0f921\"]],\"type\":\"histogram2d\"}],\"histogram2dcontour\":[{\"colorbar\":{\"outlinewidth\":0,\"ticks\":\"\"},\"colorscale\":[[0.0,\"#0d0887\"],[0.1111111111111111,\"#46039f\"],[0.2222222222222222,\"#7201a8\"],[0.3333333333333333,\"#9c179e\"],[0.4444444444444444,\"#bd3786\"],[0.5555555555555556,\"#d8576b\"],[0.6666666666666666,\"#ed7953\"],[0.7777777777777778,\"#fb9f3a\"],[0.8888888888888888,\"#fdca26\"],[1.0,\"#f0f921\"]],\"type\":\"histogram2dcontour\"}],\"mesh3d\":[{\"colorbar\":{\"outlinewidth\":0,\"ticks\":\"\"},\"type\":\"mesh3d\"}],\"parcoords\":[{\"line\":{\"colorbar\":{\"outlinewidth\":0,\"ticks\":\"\"}},\"type\":\"parcoords\"}],\"pie\":[{\"automargin\":true,\"type\":\"pie\"}],\"scatter\":[{\"marker\":{\"colorbar\":{\"outlinewidth\":0,\"ticks\":\"\"}},\"type\":\"scatter\"}],\"scatter3d\":[{\"line\":{\"colorbar\":{\"outlinewidth\":0,\"ticks\":\"\"}},\"marker\":{\"colorbar\":{\"outlinewidth\":0,\"ticks\":\"\"}},\"type\":\"scatter3d\"}],\"scattercarpet\":[{\"marker\":{\"colorbar\":{\"outlinewidth\":0,\"ticks\":\"\"}},\"type\":\"scattercarpet\"}],\"scattergeo\":[{\"marker\":{\"colorbar\":{\"outlinewidth\":0,\"ticks\":\"\"}},\"type\":\"scattergeo\"}],\"scattergl\":[{\"marker\":{\"colorbar\":{\"outlinewidth\":0,\"ticks\":\"\"}},\"type\":\"scattergl\"}],\"scattermapbox\":[{\"marker\":{\"colorbar\":{\"outlinewidth\":0,\"ticks\":\"\"}},\"type\":\"scattermapbox\"}],\"scatterpolar\":[{\"marker\":{\"colorbar\":{\"outlinewidth\":0,\"ticks\":\"\"}},\"type\":\"scatterpolar\"}],\"scatterpolargl\":[{\"marker\":{\"colorbar\":{\"outlinewidth\":0,\"ticks\":\"\"}},\"type\":\"scatterpolargl\"}],\"scatterternary\":[{\"marker\":{\"colorbar\":{\"outlinewidth\":0,\"ticks\":\"\"}},\"type\":\"scatterternary\"}],\"surface\":[{\"colorbar\":{\"outlinewidth\":0,\"ticks\":\"\"},\"colorscale\":[[0.0,\"#0d0887\"],[0.1111111111111111,\"#46039f\"],[0.2222222222222222,\"#7201a8\"],[0.3333333333333333,\"#9c179e\"],[0.4444444444444444,\"#bd3786\"],[0.5555555555555556,\"#d8576b\"],[0.6666666666666666,\"#ed7953\"],[0.7777777777777778,\"#fb9f3a\"],[0.8888888888888888,\"#fdca26\"],[1.0,\"#f0f921\"]],\"type\":\"surface\"}],\"table\":[{\"cells\":{\"fill\":{\"color\":\"#EBF0F8\"},\"line\":{\"color\":\"white\"}},\"header\":{\"fill\":{\"color\":\"#C8D4E3\"},\"line\":{\"color\":\"white\"}},\"type\":\"table\"}]},\"layout\":{\"annotationdefaults\":{\"arrowcolor\":\"#2a3f5f\",\"arrowhead\":0,\"arrowwidth\":1},\"autotypenumbers\":\"strict\",\"coloraxis\":{\"colorbar\":{\"outlinewidth\":0,\"ticks\":\"\"}},\"colorscale\":{\"diverging\":[[0,\"#8e0152\"],[0.1,\"#c51b7d\"],[0.2,\"#de77ae\"],[0.3,\"#f1b6da\"],[0.4,\"#fde0ef\"],[0.5,\"#f7f7f7\"],[0.6,\"#e6f5d0\"],[0.7,\"#b8e186\"],[0.8,\"#7fbc41\"],[0.9,\"#4d9221\"],[1,\"#276419\"]],\"sequential\":[[0.0,\"#0d0887\"],[0.1111111111111111,\"#46039f\"],[0.2222222222222222,\"#7201a8\"],[0.3333333333333333,\"#9c179e\"],[0.4444444444444444,\"#bd3786\"],[0.5555555555555556,\"#d8576b\"],[0.6666666666666666,\"#ed7953\"],[0.7777777777777778,\"#fb9f3a\"],[0.8888888888888888,\"#fdca26\"],[1.0,\"#f0f921\"]],\"sequentialminus\":[[0.0,\"#0d0887\"],[0.1111111111111111,\"#46039f\"],[0.2222222222222222,\"#7201a8\"],[0.3333333333333333,\"#9c179e\"],[0.4444444444444444,\"#bd3786\"],[0.5555555555555556,\"#d8576b\"],[0.6666666666666666,\"#ed7953\"],[0.7777777777777778,\"#fb9f3a\"],[0.8888888888888888,\"#fdca26\"],[1.0,\"#f0f921\"]]},\"colorway\":[\"#636efa\",\"#EF553B\",\"#00cc96\",\"#ab63fa\",\"#FFA15A\",\"#19d3f3\",\"#FF6692\",\"#B6E880\",\"#FF97FF\",\"#FECB52\"],\"font\":{\"color\":\"#2a3f5f\"},\"geo\":{\"bgcolor\":\"white\",\"lakecolor\":\"white\",\"landcolor\":\"#E5ECF6\",\"showlakes\":true,\"showland\":true,\"subunitcolor\":\"white\"},\"hoverlabel\":{\"align\":\"left\"},\"hovermode\":\"closest\",\"mapbox\":{\"style\":\"light\"},\"paper_bgcolor\":\"white\",\"plot_bgcolor\":\"#E5ECF6\",\"polar\":{\"angularaxis\":{\"gridcolor\":\"white\",\"linecolor\":\"white\",\"ticks\":\"\"},\"bgcolor\":\"#E5ECF6\",\"radialaxis\":{\"gridcolor\":\"white\",\"linecolor\":\"white\",\"ticks\":\"\"}},\"scene\":{\"xaxis\":{\"backgroundcolor\":\"#E5ECF6\",\"gridcolor\":\"white\",\"gridwidth\":2,\"linecolor\":\"white\",\"showbackground\":true,\"ticks\":\"\",\"zerolinecolor\":\"white\"},\"yaxis\":{\"backgroundcolor\":\"#E5ECF6\",\"gridcolor\":\"white\",\"gridwidth\":2,\"linecolor\":\"white\",\"showbackground\":true,\"ticks\":\"\",\"zerolinecolor\":\"white\"},\"zaxis\":{\"backgroundcolor\":\"#E5ECF6\",\"gridcolor\":\"white\",\"gridwidth\":2,\"linecolor\":\"white\",\"showbackground\":true,\"ticks\":\"\",\"zerolinecolor\":\"white\"}},\"shapedefaults\":{\"line\":{\"color\":\"#2a3f5f\"}},\"ternary\":{\"aaxis\":{\"gridcolor\":\"white\",\"linecolor\":\"white\",\"ticks\":\"\"},\"baxis\":{\"gridcolor\":\"white\",\"linecolor\":\"white\",\"ticks\":\"\"},\"bgcolor\":\"#E5ECF6\",\"caxis\":{\"gridcolor\":\"white\",\"linecolor\":\"white\",\"ticks\":\"\"}},\"title\":{\"x\":0.05},\"xaxis\":{\"automargin\":true,\"gridcolor\":\"white\",\"linecolor\":\"white\",\"ticks\":\"\",\"title\":{\"standoff\":15},\"zerolinecolor\":\"white\",\"zerolinewidth\":2},\"yaxis\":{\"automargin\":true,\"gridcolor\":\"white\",\"linecolor\":\"white\",\"ticks\":\"\",\"title\":{\"standoff\":15},\"zerolinecolor\":\"white\",\"zerolinewidth\":2}}},\"title\":{\"text\":\"Negative Reviews according to Race\",\"xanchor\":\"center\",\"yanchor\":\"top\",\"x\":0.5}},                        {\"responsive\": true}                    ).then(function(){\n",
       "                            \n",
       "var gd = document.getElementById('0ab89ade-d088-4a49-a5e5-e5473d034845');\n",
       "var x = new MutationObserver(function (mutations, observer) {{\n",
       "        var display = window.getComputedStyle(gd).display;\n",
       "        if (!display || display === 'none') {{\n",
       "            console.log([gd, 'removed!']);\n",
       "            Plotly.purge(gd);\n",
       "            observer.disconnect();\n",
       "        }}\n",
       "}});\n",
       "\n",
       "// Listen for the removal of the full notebook cells\n",
       "var notebookContainer = gd.closest('#notebook-container');\n",
       "if (notebookContainer) {{\n",
       "    x.observe(notebookContainer, {childList: true});\n",
       "}}\n",
       "\n",
       "// Listen for the clearing of the current output cell\n",
       "var outputEl = gd.closest('.output');\n",
       "if (outputEl) {{\n",
       "    x.observe(outputEl, {childList: true});\n",
       "}}\n",
       "\n",
       "                        })                };                            </script>        </div>\n",
       "</body>\n",
       "</html>"
      ]
     },
     "metadata": {},
     "output_type": "display_data"
    }
   ],
   "source": [
    "colours = {'white': '#0C3B5D',\n",
    "          'black': '#3EC1CD',\n",
    "          'asian': '#EF3A4C',\n",
    "          'middle eastern ': '#FCB94D',\n",
    "           'latino hispanic':'#FDB94D','indian':'#3EC1BF'}\n",
    "fig = go.Figure([go.Bar(x=df['Race'],\n",
    "                        y=df['Race'].value_counts())])\n",
    "fig.update_layout(\n",
    "    title={'text':'Negative Reviews according to Race',\n",
    "           'xanchor':'center',\n",
    "           'yanchor':'top',\n",
    "           'x':0.5})\n",
    "\n",
    "fig.show()"
   ]
  },
  {
   "cell_type": "markdown",
   "metadata": {
    "id": "rSNNJWu4AgLP"
   },
   "source": [
    "Insights\n",
    "1. The largest proportion of users giving negative reviews are whites\n",
    "2. This is also expected as the remaining groups are minorities in the US"
   ]
  },
  {
   "cell_type": "code",
   "execution_count": null,
   "metadata": {
    "id": "Xa0fKKY4S7NW"
   },
   "outputs": [],
   "source": []
  },
  {
   "cell_type": "markdown",
   "metadata": {
    "id": "nuF_FagBWAKw"
   },
   "source": [
    "## ARE THE REVIEWERS NEWCOMERS OR ESTABLISHED USERS?"
   ]
  },
  {
   "cell_type": "code",
   "execution_count": null,
   "metadata": {
    "colab": {
     "base_uri": "https://localhost:8080/"
    },
    "id": "FddFObfjWI5A",
    "outputId": "c7fe1bd2-8045-4e52-fbfc-e7d42c8cedf8"
   },
   "outputs": [
    {
     "name": "stdout",
     "output_type": "stream",
     "text": [
      "<class 'pandas.core.frame.DataFrame'>\n",
      "Int64Index: 6508 entries, 0 to 6680\n",
      "Data columns (total 42 columns):\n",
      " #   Column                     Non-Null Count  Dtype   \n",
      "---  ------                     --------------  -----   \n",
      " 0   Unnamed: 0                 6508 non-null   object  \n",
      " 1   review_id                  6508 non-null   float64 \n",
      " 2   createdAt                  6508 non-null   object  \n",
      " 3   localizedDate              6508 non-null   object  \n",
      " 4   reviewee_id                6508 non-null   object  \n",
      " 5   recommendedNumberOfLines   6508 non-null   object  \n",
      " 6   roomTypeListingTitle       6508 non-null   object  \n",
      " 7   language                   6508 non-null   object  \n",
      " 8   highlightReviewMentioned   6508 non-null   object  \n",
      " 9   localizedReview            6508 non-null   object  \n",
      " 10  highlightedReviewSentence  6508 non-null   object  \n",
      " 11  response                   6508 non-null   object  \n",
      " 12  user_id                    6508 non-null   object  \n",
      " 13  rating                     6508 non-null   object  \n",
      " 14  comments                   6508 non-null   object  \n",
      " 15  listing_id                 6508 non-null   object  \n",
      " 16  auto_posting               6508 non-null   object  \n",
      " 17  comments_cleaned           6508 non-null   object  \n",
      " 18  comments_lemmatized        6508 non-null   object  \n",
      " 19  compound_score             6508 non-null   object  \n",
      " 20  sentiment                  6508 non-null   object  \n",
      " 21  first_name                 6508 non-null   object  \n",
      " 22  is_superhost               6508 non-null   object  \n",
      " 23  recommendation_count       6508 non-null   float64 \n",
      " 24  has_profile_pic            6508 non-null   object  \n",
      " 25  total_listings_count       6508 non-null   object  \n",
      " 26  location                   6508 non-null   object  \n",
      " 27  reviewee_count             6508 non-null   float64 \n",
      " 28  verification_labels        6508 non-null   object  \n",
      " 29  listings_count             6508 non-null   float64 \n",
      " 30  created_at                 6508 non-null   object  \n",
      " 31  identity_verified          6508 non-null   object  \n",
      " 32  picture_url                6508 non-null   object  \n",
      " 33  picture_url_status         6508 non-null   object  \n",
      " 34  Age                        6508 non-null   float64 \n",
      " 35  Gender                     6508 non-null   object  \n",
      " 36  Race                       6508 non-null   object  \n",
      " 37  city                       6508 non-null   object  \n",
      " 38  state                      6508 non-null   object  \n",
      " 39  country                    6508 non-null   object  \n",
      " 40  state_code                 6508 non-null   object  \n",
      " 41  Agegroup                   6508 non-null   category\n",
      "dtypes: category(1), float64(5), object(36)\n",
      "memory usage: 2.3+ MB\n"
     ]
    }
   ],
   "source": [
    "df.info()"
   ]
  },
  {
   "cell_type": "code",
   "execution_count": null,
   "metadata": {
    "colab": {
     "base_uri": "https://localhost:8080/"
    },
    "id": "GMIaTKEBWM84",
    "outputId": "8ba6540d-f730-4587-cb37-52a2daba2eea"
   },
   "outputs": [
    {
     "data": {
      "text/plain": [
       "0.0     6299\n",
       "1.0      143\n",
       "2.0       37\n",
       "3.0       11\n",
       "5.0        8\n",
       "4.0        3\n",
       "8.0        3\n",
       "6.0        2\n",
       "7.0        1\n",
       "33.0       1\n",
       "Name: total_listings_count, dtype: int64"
      ]
     },
     "execution_count": 107,
     "metadata": {},
     "output_type": "execute_result"
    }
   ],
   "source": [
    "df['total_listings_count'].value_counts()"
   ]
  },
  {
   "cell_type": "code",
   "execution_count": null,
   "metadata": {
    "colab": {
     "base_uri": "https://localhost:8080/",
     "height": 753
    },
    "id": "ywYuignMW6M-",
    "outputId": "d1b2d1f4-64be-4dcd-f280-6c066ec3d258"
   },
   "outputs": [
    {
     "data": {
      "text/plain": [
       "Text(0.5, 1.0, 'Negative Reviews according to Listings')"
      ]
     },
     "execution_count": 109,
     "metadata": {},
     "output_type": "execute_result"
    },
    {
     "data": {
      "image/png": "[encoded data removed]",
      "text/plain": [
       "<Figure size 1080x1080 with 1 Axes>"
      ]
     },
     "metadata": {},
     "output_type": "display_data"
    }
   ],
   "source": [
    "plt.figure(figsize = (15,15))\n",
    "sns.countplot(x='total_listings_count',data=df)\n",
    "sns.set(font_scale=1.3)\n",
    "plt.xlabel('Frequency')\n",
    "plt.title('Negative Reviews according to Listings')"
   ]
  },
  {
   "cell_type": "code",
   "execution_count": null,
   "metadata": {
    "colab": {
     "base_uri": "https://localhost:8080/",
     "height": 542
    },
    "id": "C0GVKWVCX_iA",
    "outputId": "2e97f8b3-ccad-4aea-d7d4-f5aafc3c664f"
   },
   "outputs": [
    {
     "data": {
      "text/html": [
       "<html>\n",
       "<head><meta charset=\"utf-8\" /></head>\n",
       "<body>\n",
       "    <div>            <script src=\"https://cdnjs.cloudflare.com/ajax/libs/mathjax/2.7.5/MathJax.js?config=TeX-AMS-MML_SVG\"></script><script type=\"text/javascript\">if (window.MathJax) {MathJax.Hub.Config({SVG: {font: \"STIX-Web\"}});}</script>                <script type=\"text/javascript\">window.PlotlyConfig = {MathJaxConfig: 'local'};</script>\n",
       "        <script src=\"https://cdn.plot.ly/plotly-2.8.3.min.js\"></script>                <div id=\"7058cffe-9593-44d6-955c-56e4fe64b064\" class=\"plotly-graph-div\" style=\"height:525px; width:100%;\"></div>            <script type=\"text/javascript\">                                    window.PLOTLYENV=window.PLOTLYENV || {};                                    if (document.getElementById(\"7058cffe-9593-44d6-955c-56e4fe64b064\")) {                    Plotly.newPlot(                        \"7058cffe-9593-44d6-955c-56e4fe64b064\",                        [{\"labels\":[\"New Users\",\"Experienced Users\"],\"values\":[6299,209],\"type\":\"pie\"}],                        {\"template\":{\"data\":{\"bar\":[{\"error_x\":{\"color\":\"#2a3f5f\"},\"error_y\":{\"color\":\"#2a3f5f\"},\"marker\":{\"line\":{\"color\":\"#E5ECF6\",\"width\":0.5},\"pattern\":{\"fillmode\":\"overlay\",\"size\":10,\"solidity\":0.2}},\"type\":\"bar\"}],\"barpolar\":[{\"marker\":{\"line\":{\"color\":\"#E5ECF6\",\"width\":0.5},\"pattern\":{\"fillmode\":\"overlay\",\"size\":10,\"solidity\":0.2}},\"type\":\"barpolar\"}],\"carpet\":[{\"aaxis\":{\"endlinecolor\":\"#2a3f5f\",\"gridcolor\":\"white\",\"linecolor\":\"white\",\"minorgridcolor\":\"white\",\"startlinecolor\":\"#2a3f5f\"},\"baxis\":{\"endlinecolor\":\"#2a3f5f\",\"gridcolor\":\"white\",\"linecolor\":\"white\",\"minorgridcolor\":\"white\",\"startlinecolor\":\"#2a3f5f\"},\"type\":\"carpet\"}],\"choropleth\":[{\"colorbar\":{\"outlinewidth\":0,\"ticks\":\"\"},\"type\":\"choropleth\"}],\"contour\":[{\"colorbar\":{\"outlinewidth\":0,\"ticks\":\"\"},\"colorscale\":[[0.0,\"#0d0887\"],[0.1111111111111111,\"#46039f\"],[0.2222222222222222,\"#7201a8\"],[0.3333333333333333,\"#9c179e\"],[0.4444444444444444,\"#bd3786\"],[0.5555555555555556,\"#d8576b\"],[0.6666666666666666,\"#ed7953\"],[0.7777777777777778,\"#fb9f3a\"],[0.8888888888888888,\"#fdca26\"],[1.0,\"#f0f921\"]],\"type\":\"contour\"}],\"contourcarpet\":[{\"colorbar\":{\"outlinewidth\":0,\"ticks\":\"\"},\"type\":\"contourcarpet\"}],\"heatmap\":[{\"colorbar\":{\"outlinewidth\":0,\"ticks\":\"\"},\"colorscale\":[[0.0,\"#0d0887\"],[0.1111111111111111,\"#46039f\"],[0.2222222222222222,\"#7201a8\"],[0.3333333333333333,\"#9c179e\"],[0.4444444444444444,\"#bd3786\"],[0.5555555555555556,\"#d8576b\"],[0.6666666666666666,\"#ed7953\"],[0.7777777777777778,\"#fb9f3a\"],[0.8888888888888888,\"#fdca26\"],[1.0,\"#f0f921\"]],\"type\":\"heatmap\"}],\"heatmapgl\":[{\"colorbar\":{\"outlinewidth\":0,\"ticks\":\"\"},\"colorscale\":[[0.0,\"#0d0887\"],[0.1111111111111111,\"#46039f\"],[0.2222222222222222,\"#7201a8\"],[0.3333333333333333,\"#9c179e\"],[0.4444444444444444,\"#bd3786\"],[0.5555555555555556,\"#d8576b\"],[0.6666666666666666,\"#ed7953\"],[0.7777777777777778,\"#fb9f3a\"],[0.8888888888888888,\"#fdca26\"],[1.0,\"#f0f921\"]],\"type\":\"heatmapgl\"}],\"histogram\":[{\"marker\":{\"pattern\":{\"fillmode\":\"overlay\",\"size\":10,\"solidity\":0.2}},\"type\":\"histogram\"}],\"histogram2d\":[{\"colorbar\":{\"outlinewidth\":0,\"ticks\":\"\"},\"colorscale\":[[0.0,\"#0d0887\"],[0.1111111111111111,\"#46039f\"],[0.2222222222222222,\"#7201a8\"],[0.3333333333333333,\"#9c179e\"],[0.4444444444444444,\"#bd3786\"],[0.5555555555555556,\"#d8576b\"],[0.6666666666666666,\"#ed7953\"],[0.7777777777777778,\"#fb9f3a\"],[0.8888888888888888,\"#fdca26\"],[1.0,\"#f0f921\"]],\"type\":\"histogram2d\"}],\"histogram2dcontour\":[{\"colorbar\":{\"outlinewidth\":0,\"ticks\":\"\"},\"colorscale\":[[0.0,\"#0d0887\"],[0.1111111111111111,\"#46039f\"],[0.2222222222222222,\"#7201a8\"],[0.3333333333333333,\"#9c179e\"],[0.4444444444444444,\"#bd3786\"],[0.5555555555555556,\"#d8576b\"],[0.6666666666666666,\"#ed7953\"],[0.7777777777777778,\"#fb9f3a\"],[0.8888888888888888,\"#fdca26\"],[1.0,\"#f0f921\"]],\"type\":\"histogram2dcontour\"}],\"mesh3d\":[{\"colorbar\":{\"outlinewidth\":0,\"ticks\":\"\"},\"type\":\"mesh3d\"}],\"parcoords\":[{\"line\":{\"colorbar\":{\"outlinewidth\":0,\"ticks\":\"\"}},\"type\":\"parcoords\"}],\"pie\":[{\"automargin\":true,\"type\":\"pie\"}],\"scatter\":[{\"marker\":{\"colorbar\":{\"outlinewidth\":0,\"ticks\":\"\"}},\"type\":\"scatter\"}],\"scatter3d\":[{\"line\":{\"colorbar\":{\"outlinewidth\":0,\"ticks\":\"\"}},\"marker\":{\"colorbar\":{\"outlinewidth\":0,\"ticks\":\"\"}},\"type\":\"scatter3d\"}],\"scattercarpet\":[{\"marker\":{\"colorbar\":{\"outlinewidth\":0,\"ticks\":\"\"}},\"type\":\"scattercarpet\"}],\"scattergeo\":[{\"marker\":{\"colorbar\":{\"outlinewidth\":0,\"ticks\":\"\"}},\"type\":\"scattergeo\"}],\"scattergl\":[{\"marker\":{\"colorbar\":{\"outlinewidth\":0,\"ticks\":\"\"}},\"type\":\"scattergl\"}],\"scattermapbox\":[{\"marker\":{\"colorbar\":{\"outlinewidth\":0,\"ticks\":\"\"}},\"type\":\"scattermapbox\"}],\"scatterpolar\":[{\"marker\":{\"colorbar\":{\"outlinewidth\":0,\"ticks\":\"\"}},\"type\":\"scatterpolar\"}],\"scatterpolargl\":[{\"marker\":{\"colorbar\":{\"outlinewidth\":0,\"ticks\":\"\"}},\"type\":\"scatterpolargl\"}],\"scatterternary\":[{\"marker\":{\"colorbar\":{\"outlinewidth\":0,\"ticks\":\"\"}},\"type\":\"scatterternary\"}],\"surface\":[{\"colorbar\":{\"outlinewidth\":0,\"ticks\":\"\"},\"colorscale\":[[0.0,\"#0d0887\"],[0.1111111111111111,\"#46039f\"],[0.2222222222222222,\"#7201a8\"],[0.3333333333333333,\"#9c179e\"],[0.4444444444444444,\"#bd3786\"],[0.5555555555555556,\"#d8576b\"],[0.6666666666666666,\"#ed7953\"],[0.7777777777777778,\"#fb9f3a\"],[0.8888888888888888,\"#fdca26\"],[1.0,\"#f0f921\"]],\"type\":\"surface\"}],\"table\":[{\"cells\":{\"fill\":{\"color\":\"#EBF0F8\"},\"line\":{\"color\":\"white\"}},\"header\":{\"fill\":{\"color\":\"#C8D4E3\"},\"line\":{\"color\":\"white\"}},\"type\":\"table\"}]},\"layout\":{\"annotationdefaults\":{\"arrowcolor\":\"#2a3f5f\",\"arrowhead\":0,\"arrowwidth\":1},\"autotypenumbers\":\"strict\",\"coloraxis\":{\"colorbar\":{\"outlinewidth\":0,\"ticks\":\"\"}},\"colorscale\":{\"diverging\":[[0,\"#8e0152\"],[0.1,\"#c51b7d\"],[0.2,\"#de77ae\"],[0.3,\"#f1b6da\"],[0.4,\"#fde0ef\"],[0.5,\"#f7f7f7\"],[0.6,\"#e6f5d0\"],[0.7,\"#b8e186\"],[0.8,\"#7fbc41\"],[0.9,\"#4d9221\"],[1,\"#276419\"]],\"sequential\":[[0.0,\"#0d0887\"],[0.1111111111111111,\"#46039f\"],[0.2222222222222222,\"#7201a8\"],[0.3333333333333333,\"#9c179e\"],[0.4444444444444444,\"#bd3786\"],[0.5555555555555556,\"#d8576b\"],[0.6666666666666666,\"#ed7953\"],[0.7777777777777778,\"#fb9f3a\"],[0.8888888888888888,\"#fdca26\"],[1.0,\"#f0f921\"]],\"sequentialminus\":[[0.0,\"#0d0887\"],[0.1111111111111111,\"#46039f\"],[0.2222222222222222,\"#7201a8\"],[0.3333333333333333,\"#9c179e\"],[0.4444444444444444,\"#bd3786\"],[0.5555555555555556,\"#d8576b\"],[0.6666666666666666,\"#ed7953\"],[0.7777777777777778,\"#fb9f3a\"],[0.8888888888888888,\"#fdca26\"],[1.0,\"#f0f921\"]]},\"colorway\":[\"#636efa\",\"#EF553B\",\"#00cc96\",\"#ab63fa\",\"#FFA15A\",\"#19d3f3\",\"#FF6692\",\"#B6E880\",\"#FF97FF\",\"#FECB52\"],\"font\":{\"color\":\"#2a3f5f\"},\"geo\":{\"bgcolor\":\"white\",\"lakecolor\":\"white\",\"landcolor\":\"#E5ECF6\",\"showlakes\":true,\"showland\":true,\"subunitcolor\":\"white\"},\"hoverlabel\":{\"align\":\"left\"},\"hovermode\":\"closest\",\"mapbox\":{\"style\":\"light\"},\"paper_bgcolor\":\"white\",\"plot_bgcolor\":\"#E5ECF6\",\"polar\":{\"angularaxis\":{\"gridcolor\":\"white\",\"linecolor\":\"white\",\"ticks\":\"\"},\"bgcolor\":\"#E5ECF6\",\"radialaxis\":{\"gridcolor\":\"white\",\"linecolor\":\"white\",\"ticks\":\"\"}},\"scene\":{\"xaxis\":{\"backgroundcolor\":\"#E5ECF6\",\"gridcolor\":\"white\",\"gridwidth\":2,\"linecolor\":\"white\",\"showbackground\":true,\"ticks\":\"\",\"zerolinecolor\":\"white\"},\"yaxis\":{\"backgroundcolor\":\"#E5ECF6\",\"gridcolor\":\"white\",\"gridwidth\":2,\"linecolor\":\"white\",\"showbackground\":true,\"ticks\":\"\",\"zerolinecolor\":\"white\"},\"zaxis\":{\"backgroundcolor\":\"#E5ECF6\",\"gridcolor\":\"white\",\"gridwidth\":2,\"linecolor\":\"white\",\"showbackground\":true,\"ticks\":\"\",\"zerolinecolor\":\"white\"}},\"shapedefaults\":{\"line\":{\"color\":\"#2a3f5f\"}},\"ternary\":{\"aaxis\":{\"gridcolor\":\"white\",\"linecolor\":\"white\",\"ticks\":\"\"},\"baxis\":{\"gridcolor\":\"white\",\"linecolor\":\"white\",\"ticks\":\"\"},\"bgcolor\":\"#E5ECF6\",\"caxis\":{\"gridcolor\":\"white\",\"linecolor\":\"white\",\"ticks\":\"\"}},\"title\":{\"x\":0.05},\"xaxis\":{\"automargin\":true,\"gridcolor\":\"white\",\"linecolor\":\"white\",\"ticks\":\"\",\"title\":{\"standoff\":15},\"zerolinecolor\":\"white\",\"zerolinewidth\":2},\"yaxis\":{\"automargin\":true,\"gridcolor\":\"white\",\"linecolor\":\"white\",\"ticks\":\"\",\"title\":{\"standoff\":15},\"zerolinecolor\":\"white\",\"zerolinewidth\":2}}},\"title\":{\"text\":\" Negative Experience\",\"xanchor\":\"center\",\"yanchor\":\"top\",\"x\":0.5}},                        {\"responsive\": true}                    ).then(function(){\n",
       "                            \n",
       "var gd = document.getElementById('7058cffe-9593-44d6-955c-56e4fe64b064');\n",
       "var x = new MutationObserver(function (mutations, observer) {{\n",
       "        var display = window.getComputedStyle(gd).display;\n",
       "        if (!display || display === 'none') {{\n",
       "            console.log([gd, 'removed!']);\n",
       "            Plotly.purge(gd);\n",
       "            observer.disconnect();\n",
       "        }}\n",
       "}});\n",
       "\n",
       "// Listen for the removal of the full notebook cells\n",
       "var notebookContainer = gd.closest('#notebook-container');\n",
       "if (notebookContainer) {{\n",
       "    x.observe(notebookContainer, {childList: true});\n",
       "}}\n",
       "\n",
       "// Listen for the clearing of the current output cell\n",
       "var outputEl = gd.closest('.output');\n",
       "if (outputEl) {{\n",
       "    x.observe(outputEl, {childList: true});\n",
       "}}\n",
       "\n",
       "                        })                };                            </script>        </div>\n",
       "</body>\n",
       "</html>"
      ]
     },
     "metadata": {},
     "output_type": "display_data"
    }
   ],
   "source": [
    "label =['New Users', 'Experienced Users']\n",
    "value = [6299,209]\n",
    "fig = go.Figure(data=[go.Pie(labels=label,\n",
    "                      values=value)])\n",
    "fig.update_layout(\n",
    "    title={'text':' Negative Reviews Experience',\n",
    "           'xanchor':'center',\n",
    "           'yanchor':'top',\n",
    "           'x':0.5})\n",
    " \n",
    "fig.show()"
   ]
  },
  {
   "cell_type": "code",
   "execution_count": null,
   "metadata": {
    "id": "yjOWVnKIYZ1d"
   },
   "outputs": [],
   "source": []
  },
  {
   "cell_type": "markdown",
   "metadata": {
    "id": "bVV12yAABB8q"
   },
   "source": [
    "Insights\n",
    "1. Almost all the negative reviews came from new users.\n",
    "2. The experienced users hardly give a negative review\n",
    " "
   ]
  },
  {
   "cell_type": "markdown",
   "metadata": {
    "id": "x1GxNJHlZSx_"
   },
   "source": [
    "## Rating VS Sentiment"
   ]
  },
  {
   "cell_type": "code",
   "execution_count": null,
   "metadata": {
    "colab": {
     "base_uri": "https://localhost:8080/"
    },
    "id": "oKck2gQSZbN4",
    "outputId": "795e58ed-38fd-4814-ef99-12bc51308f62"
   },
   "outputs": [
    {
     "data": {
      "text/plain": [
       "5    1759\n",
       "1    1718\n",
       "3    1295\n",
       "2     884\n",
       "4     845\n",
       "0       7\n",
       "Name: rating, dtype: int64"
      ]
     },
     "execution_count": 116,
     "metadata": {},
     "output_type": "execute_result"
    }
   ],
   "source": [
    "df['rating'].value_counts()"
   ]
  },
  {
   "cell_type": "code",
   "execution_count": null,
   "metadata": {
    "colab": {
     "base_uri": "https://localhost:8080/",
     "height": 753
    },
    "id": "A1EtyLeKZzDi",
    "outputId": "05d4c3cf-05f6-4345-9710-50e4332d9466"
   },
   "outputs": [
    {
     "data": {
      "text/plain": [
       "Text(0.5, 1.0, 'Negative Reviews according to Rating')"
      ]
     },
     "execution_count": 124,
     "metadata": {},
     "output_type": "execute_result"
    },
    {
     "data": {
      "image/png": "[encoded data removed]",
      "text/plain": [
       "<Figure size 1080x1080 with 1 Axes>"
      ]
     },
     "metadata": {},
     "output_type": "display_data"
    }
   ],
   "source": [
    "plt.figure(figsize = (15,15))\n",
    "sns.countplot(x='rating',data=df.sort_values(by='rating',ascending =True))\n",
    "sns.set(font_scale=1.3)\n",
    "plt.xlabel('Frequency')\n",
    "plt.title('Negative Reviews according to Rating')"
   ]
  },
  {
   "cell_type": "markdown",
   "metadata": {
    "id": "nSn4WgrfBTc1"
   },
   "source": [
    "Insights\n",
    "1. A huge percentage of negative reviews have positive ratings\n",
    "2. The ratings cannot be trusted as means of analysing the set "
   ]
  },
  {
   "cell_type": "code",
   "execution_count": null,
   "metadata": {
    "id": "XDYEXSceacu7"
   },
   "outputs": [],
   "source": []
  },
  {
   "cell_type": "markdown",
   "metadata": {
    "id": "IhKdA0DFcGkH"
   },
   "source": [
    "<a id='conclusions'></a>\n",
    "## Section III:CONCLUSION"
   ]
  },
  {
   "cell_type": "markdown",
   "metadata": {
    "id": "_mA5dWeMB3Vi"
   },
   "source": [
    "The following was deducted from the analysis\n",
    "Location\n",
    "1. The state with most negative reviews is California\n",
    "2. Cities that are popular tend to have the most negative reviews\n",
    "\n",
    "**Age**\n",
    "1. The distribution of age is rightly skewed  but centered around 30 years of age\n",
    "2. This is highly expected as youths tend to Use Airbnb often\n",
    "\n",
    "**Gender**\n",
    "1. 78% of users giving the negative reviews are men and 22% are women\n",
    "2. It is highly expected as men tend to host their female partners more often\n",
    "\n",
    "**Race**\n",
    "1. The largest proportion of users giving negative reviews are whites\n",
    "2. This is also expected as the remaining groups are minorities in the US\n",
    "\n",
    "**First Time Users**\n",
    "1. Almost all the negative reviews came from new users.\n",
    "2. The experienced users hardly give a negative review\n",
    "\n",
    "**Rating vs Sentiment**\n",
    "1. A huge percentage of negative reviews have positive ratings\n",
    "2. The ratings cannot be trusted as means of analysing the set  \n",
    "\n",
    "\n",
    "**LIMITATIONS**\n",
    "\n",
    "1. The dataset is very large, a random sample was selected to manage computation resources.\n",
    "\n",
    "2. The data was not totally consistent, some unusual forms of data and irregularities were found which could have affected the analysis because it was dropped.\n",
    "\n",
    "3. Most of the columns are categorical, hence the use of Bar charts and Pie charts, Only Age was quantitative and could be visualised with appropraite means.\n",
    "\n",
    "4. The Location Data should have included the gographical coordinates for better analysis as to how a location can affect the choice of the patient.\n",
    "\n",
    "5. The dataset is incomplete as a machine learning model was used to predict the demography of the users\n",
    "\n",
    "**RECOMMENDATION**\n",
    "\n",
    "\n",
    "1. A more complete dataset to include the demographic profile of the users as the Machine Learning model is 93% accurate\n",
    "2. The computation required a lot of resources due to the use of Machine learning models to get features.\n",
    "3. Geolocation data will make the analysis easier."
   ]
  },
  {
   "cell_type": "markdown",
   "metadata": {
    "id": "rQcFB0qHB3uO"
   },
   "source": [
    "## REFERENCES"
   ]
  },
  {
   "cell_type": "markdown",
   "metadata": {
    "id": "smteRWjACTYX"
   },
   "source": [
    "1. https://www.geeksforgeeks.org/choropleth-maps-using-plotly-in-python/\n",
    "2. https://medium.com/geekculture/create-a-choropleth-map-of-state-unemployment-rates-with-plotly-1354050e0cfd\n",
    "3. https://www.codegrepper.com/code-examples/python/plotly+choropleth+map+us+states\n",
    "4. https://plotly.github.io/plotly.py-docs/generated/plotly.express.choropleth.html\n",
    "5. https://plotly.com/python/scatter-plots-on-maps/"
   ]
  },
  {
   "cell_type": "code",
   "execution_count": null,
   "metadata": {
    "id": "IEmegv9-cFLN"
   },
   "outputs": [],
   "source": []
  }
 ],
 "metadata": {
  "colab": {
   "collapsed_sections": [],
   "provenance": []
  },
  "kernelspec": {
   "display_name": "Python 3 (ipykernel)",
   "language": "python",
   "name": "python3"
  },
  "language_info": {
   "codemirror_mode": {
    "name": "ipython",
    "version": 3
   },
   "file_extension": ".py",
   "mimetype": "text/x-python",
   "name": "python",
   "nbconvert_exporter": "python",
   "pygments_lexer": "ipython3",
   "version": "3.9.7"
  }
 },
 "nbformat": 4,
 "nbformat_minor": 1
}
